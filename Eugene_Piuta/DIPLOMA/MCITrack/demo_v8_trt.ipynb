{
 "cells": [
  {
   "cell_type": "markdown",
   "id": "f2c62a50",
   "metadata": {
    "pycharm": {
     "name": "#%% md\n"
    }
   },
   "source": [
    "ORtrack tracker "
   ]
  },
  {
   "cell_type": "markdown",
   "id": "efb686ee",
   "metadata": {
    "pycharm": {
     "name": "#%% md\n"
    }
   },
   "source": [
    "Import clause:"
   ]
  },
  {
   "cell_type": "markdown",
   "id": "15714982",
   "metadata": {
    "pycharm": {
     "name": "#%% md\n"
    }
   },
   "source": [
    "a) Import modules"
   ]
  },
  {
   "cell_type": "code",
   "execution_count": 1,
   "id": "9a86e022",
   "metadata": {
    "pycharm": {
     "name": "#%%\n"
    }
   },
   "outputs": [
    {
     "ename": "ModuleNotFoundError",
     "evalue": "No module named 'pycuda'",
     "output_type": "error",
     "traceback": [
      "\u001b[31m---------------------------------------------------------------------------\u001b[39m",
      "\u001b[31mModuleNotFoundError\u001b[39m                       Traceback (most recent call last)",
      "\u001b[36mCell\u001b[39m\u001b[36m \u001b[39m\u001b[32mIn[1]\u001b[39m\u001b[32m, line 10\u001b[39m\n\u001b[32m      7\u001b[39m \u001b[38;5;28;01mimport\u001b[39;00m\u001b[38;5;250m \u001b[39m\u001b[34;01mos\u001b[39;00m\n\u001b[32m      9\u001b[39m \u001b[38;5;28;01mimport\u001b[39;00m\u001b[38;5;250m \u001b[39m\u001b[34;01mtensorrt\u001b[39;00m\u001b[38;5;250m \u001b[39m\u001b[38;5;28;01mas\u001b[39;00m\u001b[38;5;250m \u001b[39m\u001b[34;01mtrt\u001b[39;00m\n\u001b[32m---> \u001b[39m\u001b[32m10\u001b[39m \u001b[38;5;28;01mimport\u001b[39;00m\u001b[38;5;250m \u001b[39m\u001b[34;01mpycuda\u001b[39;00m\u001b[34;01m.\u001b[39;00m\u001b[34;01mdriver\u001b[39;00m\u001b[38;5;250m \u001b[39m\u001b[38;5;28;01mas\u001b[39;00m\u001b[38;5;250m \u001b[39m\u001b[34;01mcuda\u001b[39;00m\n\u001b[32m     11\u001b[39m \u001b[38;5;28;01mimport\u001b[39;00m\u001b[38;5;250m \u001b[39m\u001b[34;01mpycuda\u001b[39;00m\u001b[34;01m.\u001b[39;00m\u001b[34;01mautoinit\u001b[39;00m\n",
      "\u001b[31mModuleNotFoundError\u001b[39m: No module named 'pycuda'"
     ]
    }
   ],
   "source": [
    "import torch\n",
    "import cv2\n",
    "import sys\n",
    "import importlib\n",
    "import time\n",
    "import numpy as np\n",
    "import os\n",
    "\n",
    "import tensorrt as trt\n",
    "import pycuda.driver as cuda\n",
    "import pycuda.autoinit"
   ]
  },
  {
   "cell_type": "code",
   "execution_count": 2,
   "id": "9909a1e7",
   "metadata": {},
   "outputs": [
    {
     "name": "stdout",
     "output_type": "stream",
     "text": [
      "Collecting pycuda\n",
      "  Using cached pycuda-2025.1.tar.gz (1.7 MB)\n",
      "  Installing build dependencies: started\n",
      "  Installing build dependencies: finished with status 'done'\n",
      "  Getting requirements to build wheel: started\n",
      "  Getting requirements to build wheel: finished with status 'done'\n",
      "  Preparing metadata (pyproject.toml): started\n",
      "  Preparing metadata (pyproject.toml): finished with status 'done'\n",
      "Collecting pytools>=2011.2 (from pycuda)\n",
      "  Using cached pytools-2025.1.5-py3-none-any.whl.metadata (2.9 kB)\n",
      "Requirement already satisfied: platformdirs>=2.2.0 in c:\\users\\varaksa_yua\\appdata\\roaming\\python\\python313\\site-packages (from pycuda) (4.3.8)\n",
      "Collecting mako (from pycuda)\n",
      "  Using cached mako-1.3.10-py3-none-any.whl.metadata (2.9 kB)\n",
      "Collecting siphash24>=1.6 (from pytools>=2011.2->pycuda)\n",
      "  Using cached siphash24-1.7.tar.gz (19 kB)\n",
      "  Installing build dependencies: started\n",
      "  Installing build dependencies: finished with status 'done'\n",
      "  Getting requirements to build wheel: started\n",
      "  Getting requirements to build wheel: finished with status 'done'\n",
      "  Preparing metadata (pyproject.toml): started\n",
      "  Preparing metadata (pyproject.toml): finished with status 'error'\n"
     ]
    },
    {
     "name": "stderr",
     "output_type": "stream",
     "text": [
      "  error: subprocess-exited-with-error\n",
      "  \n",
      "  × Preparing metadata (pyproject.toml) did not run successfully.\n",
      "  │ exit code: 1\n",
      "  ╰─> [25 lines of output]\n",
      "      + meson setup C:\\Users\\varaksa_yua\\AppData\\Local\\Temp\\pip-install-03cxie_g\\siphash24_80118e84a9f741e6ad50e14d7b45448e C:\\Users\\varaksa_yua\\AppData\\Local\\Temp\\pip-install-03cxie_g\\siphash24_80118e84a9f741e6ad50e14d7b45448e\\.mesonpy-fqr19mfj -Dbuildtype=release -Db_ndebug=if-release -Db_vscrt=md --native-file=C:\\Users\\varaksa_yua\\AppData\\Local\\Temp\\pip-install-03cxie_g\\siphash24_80118e84a9f741e6ad50e14d7b45448e\\.mesonpy-fqr19mfj\\meson-python-native-file.ini\n",
      "      The Meson build system\n",
      "      Version: 1.8.1\n",
      "      Source dir: C:\\Users\\varaksa_yua\\AppData\\Local\\Temp\\pip-install-03cxie_g\\siphash24_80118e84a9f741e6ad50e14d7b45448e\n",
      "      Build dir: C:\\Users\\varaksa_yua\\AppData\\Local\\Temp\\pip-install-03cxie_g\\siphash24_80118e84a9f741e6ad50e14d7b45448e\\.mesonpy-fqr19mfj\n",
      "      Build type: native build\n",
      "      Activating VS 17.14.2\n",
      "      Project name: python-siphash24\n",
      "      Project version: undefined\n",
      "      C compiler for the host machine: cl (msvc 19.44.35207.1 \"пїЅпїЅвЁ¬пїЅпїЅпїЅпїЅпїЅпїЅйЁ© пїЅпїЅпїЅпїЅпїЅпїЅпїЅпїЅпїЅ Microsoft (R) C/C++ пїЅпїЅпїЅбЁЁ 19.44.35207.1 пїЅпїЅпїЅ x64\")\n",
      "      C linker for the host machine: link link 14.44.35207.1\n",
      "      Cython compiler for the host machine: cython (cython 3.1.1)\n",
      "      Host machine cpu family: x86_64\n",
      "      Host machine cpu: x86_64\n",
      "      Did not find pkg-config by name 'pkg-config'\n",
      "      Found pkg-config: NO\n",
      "      Found CMake: C:\\Program Files\\Microsoft Visual Studio\\2022\\Community\\Common7\\IDE\\CommonExtensions\\Microsoft\\CMake\\CMake\\bin\\cmake.EXE (3.31.6)\n",
      "      Run-time dependency libcsiphash-1 found: NO (tried pkgconfig and cmake)\n",
      "      Looking for a fallback subproject for the dependency libcsiphash-1\n",
      "      Building fallback subproject with default_library=static\n",
      "      ERROR: Subproject libcsiphash-1 is buildable: NO\n",
      "      \n",
      "      ..\\meson.build:14:14: ERROR: Git program not found, cannot download libcsiphash-1.wrap via git.\n",
      "      \n",
      "      A full log can be found at C:\\Users\\varaksa_yua\\AppData\\Local\\Temp\\pip-install-03cxie_g\\siphash24_80118e84a9f741e6ad50e14d7b45448e\\.mesonpy-fqr19mfj\\meson-logs\\meson-log.txt\n",
      "      [end of output]\n",
      "  \n",
      "  note: This error originates from a subprocess, and is likely not a problem with pip.\n",
      "error: metadata-generation-failed\n",
      "\n",
      "× Encountered error while generating package metadata.\n",
      "╰─> See above for output.\n",
      "\n",
      "note: This is an issue with the package mentioned above, not pip.\n",
      "hint: See above for details.\n"
     ]
    }
   ],
   "source": [
    "!pip install pycuda"
   ]
  },
  {
   "cell_type": "markdown",
   "id": "b216248b",
   "metadata": {
    "pycharm": {
     "name": "#%% md\n"
    }
   },
   "source": [
    "b) Import classes and functions from additional files"
   ]
  },
  {
   "cell_type": "code",
   "execution_count": 2,
   "id": "4992c3e5",
   "metadata": {
    "pycharm": {
     "name": "#%%\n"
    }
   },
   "outputs": [
    {
     "name": "stderr",
     "output_type": "stream",
     "text": [
      "c:\\Users\\User\\anaconda3\\envs\\ortrack\\lib\\site-packages\\tqdm\\auto.py:21: TqdmWarning: IProgress not found. Please update jupyter and ipywidgets. See https://ipywidgets.readthedocs.io/en/stable/user_install.html\n",
      "  from .autonotebook import tqdm as notebook_tqdm\n",
      "c:\\Users\\User\\anaconda3\\envs\\ortrack\\lib\\site-packages\\timm\\models\\layers\\__init__.py:48: FutureWarning: Importing from timm.models.layers is deprecated, please import via timm.layers\n",
      "  warnings.warn(f\"Importing from {__name__} is deprecated, please import via timm.layers\", FutureWarning)\n",
      "c:\\Users\\User\\Documents\\MLearning\\_ORTrack_v8_trt\\lib\\models\\ortrack\\vision_transformer.py:1798: UserWarning: Overwriting vit_tiny_patch16_224 in registry with lib.models.ortrack.vision_transformer.vit_tiny_patch16_224. This is because the name being registered conflicts with an existing name. Please check if this is not expected.\n",
      "  def vit_tiny_patch16_224(pretrained: bool = False, **kwargs) -> VisionTransformer:\n",
      "c:\\Users\\User\\Documents\\MLearning\\_ORTrack_v8_trt\\lib\\models\\ortrack\\vision_transformer.py:1814: UserWarning: Overwriting vit_tiny_patch16_384 in registry with lib.models.ortrack.vision_transformer.vit_tiny_patch16_384. This is because the name being registered conflicts with an existing name. Please check if this is not expected.\n",
      "  def vit_tiny_patch16_384(pretrained: bool = False, **kwargs) -> VisionTransformer:\n",
      "c:\\Users\\User\\Documents\\MLearning\\_ORTrack_v8_trt\\lib\\models\\ortrack\\vision_transformer.py:1823: UserWarning: Overwriting vit_small_patch32_224 in registry with lib.models.ortrack.vision_transformer.vit_small_patch32_224. This is because the name being registered conflicts with an existing name. Please check if this is not expected.\n",
      "  def vit_small_patch32_224(pretrained: bool = False, **kwargs) -> VisionTransformer:\n",
      "c:\\Users\\User\\Documents\\MLearning\\_ORTrack_v8_trt\\lib\\models\\ortrack\\vision_transformer.py:1832: UserWarning: Overwriting vit_small_patch32_384 in registry with lib.models.ortrack.vision_transformer.vit_small_patch32_384. This is because the name being registered conflicts with an existing name. Please check if this is not expected.\n",
      "  def vit_small_patch32_384(pretrained: bool = False, **kwargs) -> VisionTransformer:\n",
      "c:\\Users\\User\\Documents\\MLearning\\_ORTrack_v8_trt\\lib\\models\\ortrack\\vision_transformer.py:1841: UserWarning: Overwriting vit_small_patch16_224 in registry with lib.models.ortrack.vision_transformer.vit_small_patch16_224. This is because the name being registered conflicts with an existing name. Please check if this is not expected.\n",
      "  def vit_small_patch16_224(pretrained: bool = False, **kwargs) -> VisionTransformer:\n",
      "c:\\Users\\User\\Documents\\MLearning\\_ORTrack_v8_trt\\lib\\models\\ortrack\\vision_transformer.py:1850: UserWarning: Overwriting vit_small_patch16_384 in registry with lib.models.ortrack.vision_transformer.vit_small_patch16_384. This is because the name being registered conflicts with an existing name. Please check if this is not expected.\n",
      "  def vit_small_patch16_384(pretrained: bool = False, **kwargs) -> VisionTransformer:\n",
      "c:\\Users\\User\\Documents\\MLearning\\_ORTrack_v8_trt\\lib\\models\\ortrack\\vision_transformer.py:1859: UserWarning: Overwriting vit_small_patch8_224 in registry with lib.models.ortrack.vision_transformer.vit_small_patch8_224. This is because the name being registered conflicts with an existing name. Please check if this is not expected.\n",
      "  def vit_small_patch8_224(pretrained: bool = False, **kwargs) -> VisionTransformer:\n",
      "c:\\Users\\User\\Documents\\MLearning\\_ORTrack_v8_trt\\lib\\models\\ortrack\\vision_transformer.py:1868: UserWarning: Overwriting vit_base_patch32_224 in registry with lib.models.ortrack.vision_transformer.vit_base_patch32_224. This is because the name being registered conflicts with an existing name. Please check if this is not expected.\n",
      "  def vit_base_patch32_224(pretrained: bool = False, **kwargs) -> VisionTransformer:\n",
      "c:\\Users\\User\\Documents\\MLearning\\_ORTrack_v8_trt\\lib\\models\\ortrack\\vision_transformer.py:1878: UserWarning: Overwriting vit_base_patch32_384 in registry with lib.models.ortrack.vision_transformer.vit_base_patch32_384. This is because the name being registered conflicts with an existing name. Please check if this is not expected.\n",
      "  def vit_base_patch32_384(pretrained: bool = False, **kwargs) -> VisionTransformer:\n",
      "c:\\Users\\User\\Documents\\MLearning\\_ORTrack_v8_trt\\lib\\models\\ortrack\\vision_transformer.py:1888: UserWarning: Overwriting vit_base_patch16_224 in registry with lib.models.ortrack.vision_transformer.vit_base_patch16_224. This is because the name being registered conflicts with an existing name. Please check if this is not expected.\n",
      "  def vit_base_patch16_224(pretrained: bool = False, **kwargs) -> VisionTransformer:\n",
      "c:\\Users\\User\\Documents\\MLearning\\_ORTrack_v8_trt\\lib\\models\\ortrack\\vision_transformer.py:1898: UserWarning: Overwriting vit_base_patch16_384 in registry with lib.models.ortrack.vision_transformer.vit_base_patch16_384. This is because the name being registered conflicts with an existing name. Please check if this is not expected.\n",
      "  def vit_base_patch16_384(pretrained: bool = False, **kwargs) -> VisionTransformer:\n",
      "c:\\Users\\User\\Documents\\MLearning\\_ORTrack_v8_trt\\lib\\models\\ortrack\\vision_transformer.py:1908: UserWarning: Overwriting vit_base_patch8_224 in registry with lib.models.ortrack.vision_transformer.vit_base_patch8_224. This is because the name being registered conflicts with an existing name. Please check if this is not expected.\n",
      "  def vit_base_patch8_224(pretrained: bool = False, **kwargs) -> VisionTransformer:\n",
      "c:\\Users\\User\\Documents\\MLearning\\_ORTrack_v8_trt\\lib\\models\\ortrack\\vision_transformer.py:1918: UserWarning: Overwriting vit_large_patch32_224 in registry with lib.models.ortrack.vision_transformer.vit_large_patch32_224. This is because the name being registered conflicts with an existing name. Please check if this is not expected.\n",
      "  def vit_large_patch32_224(pretrained: bool = False, **kwargs) -> VisionTransformer:\n",
      "c:\\Users\\User\\Documents\\MLearning\\_ORTrack_v8_trt\\lib\\models\\ortrack\\vision_transformer.py:1927: UserWarning: Overwriting vit_large_patch32_384 in registry with lib.models.ortrack.vision_transformer.vit_large_patch32_384. This is because the name being registered conflicts with an existing name. Please check if this is not expected.\n",
      "  def vit_large_patch32_384(pretrained: bool = False, **kwargs) -> VisionTransformer:\n",
      "c:\\Users\\User\\Documents\\MLearning\\_ORTrack_v8_trt\\lib\\models\\ortrack\\vision_transformer.py:1937: UserWarning: Overwriting vit_large_patch16_224 in registry with lib.models.ortrack.vision_transformer.vit_large_patch16_224. This is because the name being registered conflicts with an existing name. Please check if this is not expected.\n",
      "  def vit_large_patch16_224(pretrained: bool = False, **kwargs) -> VisionTransformer:\n",
      "c:\\Users\\User\\Documents\\MLearning\\_ORTrack_v8_trt\\lib\\models\\ortrack\\vision_transformer.py:1947: UserWarning: Overwriting vit_large_patch16_384 in registry with lib.models.ortrack.vision_transformer.vit_large_patch16_384. This is because the name being registered conflicts with an existing name. Please check if this is not expected.\n",
      "  def vit_large_patch16_384(pretrained: bool = False, **kwargs) -> VisionTransformer:\n",
      "c:\\Users\\User\\Documents\\MLearning\\_ORTrack_v8_trt\\lib\\models\\ortrack\\vision_transformer.py:1957: UserWarning: Overwriting vit_large_patch14_224 in registry with lib.models.ortrack.vision_transformer.vit_large_patch14_224. This is because the name being registered conflicts with an existing name. Please check if this is not expected.\n",
      "  def vit_large_patch14_224(pretrained: bool = False, **kwargs) -> VisionTransformer:\n",
      "c:\\Users\\User\\Documents\\MLearning\\_ORTrack_v8_trt\\lib\\models\\ortrack\\vision_transformer.py:1966: UserWarning: Overwriting vit_huge_patch14_224 in registry with lib.models.ortrack.vision_transformer.vit_huge_patch14_224. This is because the name being registered conflicts with an existing name. Please check if this is not expected.\n",
      "  def vit_huge_patch14_224(pretrained: bool = False, **kwargs) -> VisionTransformer:\n",
      "c:\\Users\\User\\Documents\\MLearning\\_ORTrack_v8_trt\\lib\\models\\ortrack\\vision_transformer.py:1975: UserWarning: Overwriting vit_giant_patch14_224 in registry with lib.models.ortrack.vision_transformer.vit_giant_patch14_224. This is because the name being registered conflicts with an existing name. Please check if this is not expected.\n",
      "  def vit_giant_patch14_224(pretrained: bool = False, **kwargs) -> VisionTransformer:\n",
      "c:\\Users\\User\\Documents\\MLearning\\_ORTrack_v8_trt\\lib\\models\\ortrack\\vision_transformer.py:1984: UserWarning: Overwriting vit_gigantic_patch14_224 in registry with lib.models.ortrack.vision_transformer.vit_gigantic_patch14_224. This is because the name being registered conflicts with an existing name. Please check if this is not expected.\n",
      "  def vit_gigantic_patch14_224(pretrained: bool = False, **kwargs) -> VisionTransformer:\n",
      "c:\\Users\\User\\Documents\\MLearning\\_ORTrack_v8_trt\\lib\\models\\ortrack\\vision_transformer.py:1994: UserWarning: Overwriting vit_base_patch16_224_miil in registry with lib.models.ortrack.vision_transformer.vit_base_patch16_224_miil. This is because the name being registered conflicts with an existing name. Please check if this is not expected.\n",
      "  def vit_base_patch16_224_miil(pretrained: bool = False, **kwargs) -> VisionTransformer:\n",
      "c:\\Users\\User\\Documents\\MLearning\\_ORTrack_v8_trt\\lib\\models\\ortrack\\vision_transformer.py:2005: UserWarning: Overwriting vit_medium_patch16_gap_240 in registry with lib.models.ortrack.vision_transformer.vit_medium_patch16_gap_240. This is because the name being registered conflicts with an existing name. Please check if this is not expected.\n",
      "  def vit_medium_patch16_gap_240(pretrained: bool = False, **kwargs) -> VisionTransformer:\n",
      "c:\\Users\\User\\Documents\\MLearning\\_ORTrack_v8_trt\\lib\\models\\ortrack\\vision_transformer.py:2017: UserWarning: Overwriting vit_medium_patch16_gap_256 in registry with lib.models.ortrack.vision_transformer.vit_medium_patch16_gap_256. This is because the name being registered conflicts with an existing name. Please check if this is not expected.\n",
      "  def vit_medium_patch16_gap_256(pretrained: bool = False, **kwargs) -> VisionTransformer:\n",
      "c:\\Users\\User\\Documents\\MLearning\\_ORTrack_v8_trt\\lib\\models\\ortrack\\vision_transformer.py:2029: UserWarning: Overwriting vit_medium_patch16_gap_384 in registry with lib.models.ortrack.vision_transformer.vit_medium_patch16_gap_384. This is because the name being registered conflicts with an existing name. Please check if this is not expected.\n",
      "  def vit_medium_patch16_gap_384(pretrained: bool = False, **kwargs) -> VisionTransformer:\n",
      "c:\\Users\\User\\Documents\\MLearning\\_ORTrack_v8_trt\\lib\\models\\ortrack\\vision_transformer.py:2041: UserWarning: Overwriting vit_base_patch16_gap_224 in registry with lib.models.ortrack.vision_transformer.vit_base_patch16_gap_224. This is because the name being registered conflicts with an existing name. Please check if this is not expected.\n",
      "  def vit_base_patch16_gap_224(pretrained: bool = False, **kwargs) -> VisionTransformer:\n",
      "c:\\Users\\User\\Documents\\MLearning\\_ORTrack_v8_trt\\lib\\models\\ortrack\\vision_transformer.py:2052: UserWarning: Overwriting vit_huge_patch14_gap_224 in registry with lib.models.ortrack.vision_transformer.vit_huge_patch14_gap_224. This is because the name being registered conflicts with an existing name. Please check if this is not expected.\n",
      "  def vit_huge_patch14_gap_224(pretrained: bool = False, **kwargs) -> VisionTransformer:\n",
      "c:\\Users\\User\\Documents\\MLearning\\_ORTrack_v8_trt\\lib\\models\\ortrack\\vision_transformer.py:2063: UserWarning: Overwriting vit_huge_patch16_gap_448 in registry with lib.models.ortrack.vision_transformer.vit_huge_patch16_gap_448. This is because the name being registered conflicts with an existing name. Please check if this is not expected.\n",
      "  def vit_huge_patch16_gap_448(pretrained: bool = False, **kwargs) -> VisionTransformer:\n",
      "c:\\Users\\User\\Documents\\MLearning\\_ORTrack_v8_trt\\lib\\models\\ortrack\\vision_transformer.py:2074: UserWarning: Overwriting vit_giant_patch16_gap_224 in registry with lib.models.ortrack.vision_transformer.vit_giant_patch16_gap_224. This is because the name being registered conflicts with an existing name. Please check if this is not expected.\n",
      "  def vit_giant_patch16_gap_224(pretrained: bool = False, **kwargs) -> VisionTransformer:\n",
      "c:\\Users\\User\\Documents\\MLearning\\_ORTrack_v8_trt\\lib\\models\\ortrack\\vision_transformer.py:2086: UserWarning: Overwriting vit_base_patch32_clip_224 in registry with lib.models.ortrack.vision_transformer.vit_base_patch32_clip_224. This is because the name being registered conflicts with an existing name. Please check if this is not expected.\n",
      "  def vit_base_patch32_clip_224(pretrained: bool = False, **kwargs) -> VisionTransformer:\n",
      "c:\\Users\\User\\Documents\\MLearning\\_ORTrack_v8_trt\\lib\\models\\ortrack\\vision_transformer.py:2097: UserWarning: Overwriting vit_base_patch32_clip_256 in registry with lib.models.ortrack.vision_transformer.vit_base_patch32_clip_256. This is because the name being registered conflicts with an existing name. Please check if this is not expected.\n",
      "  def vit_base_patch32_clip_256(pretrained: bool = False, **kwargs) -> VisionTransformer:\n",
      "c:\\Users\\User\\Documents\\MLearning\\_ORTrack_v8_trt\\lib\\models\\ortrack\\vision_transformer.py:2108: UserWarning: Overwriting vit_base_patch32_clip_384 in registry with lib.models.ortrack.vision_transformer.vit_base_patch32_clip_384. This is because the name being registered conflicts with an existing name. Please check if this is not expected.\n",
      "  def vit_base_patch32_clip_384(pretrained: bool = False, **kwargs) -> VisionTransformer:\n",
      "c:\\Users\\User\\Documents\\MLearning\\_ORTrack_v8_trt\\lib\\models\\ortrack\\vision_transformer.py:2119: UserWarning: Overwriting vit_base_patch32_clip_448 in registry with lib.models.ortrack.vision_transformer.vit_base_patch32_clip_448. This is because the name being registered conflicts with an existing name. Please check if this is not expected.\n",
      "  def vit_base_patch32_clip_448(pretrained: bool = False, **kwargs) -> VisionTransformer:\n",
      "c:\\Users\\User\\Documents\\MLearning\\_ORTrack_v8_trt\\lib\\models\\ortrack\\vision_transformer.py:2130: UserWarning: Overwriting vit_base_patch16_clip_224 in registry with lib.models.ortrack.vision_transformer.vit_base_patch16_clip_224. This is because the name being registered conflicts with an existing name. Please check if this is not expected.\n",
      "  def vit_base_patch16_clip_224(pretrained: bool = False, **kwargs) -> VisionTransformer:\n",
      "c:\\Users\\User\\Documents\\MLearning\\_ORTrack_v8_trt\\lib\\models\\ortrack\\vision_transformer.py:2140: UserWarning: Overwriting vit_base_patch16_clip_384 in registry with lib.models.ortrack.vision_transformer.vit_base_patch16_clip_384. This is because the name being registered conflicts with an existing name. Please check if this is not expected.\n",
      "  def vit_base_patch16_clip_384(pretrained: bool = False, **kwargs) -> VisionTransformer:\n",
      "c:\\Users\\User\\Documents\\MLearning\\_ORTrack_v8_trt\\lib\\models\\ortrack\\vision_transformer.py:2150: UserWarning: Overwriting vit_large_patch14_clip_224 in registry with lib.models.ortrack.vision_transformer.vit_large_patch14_clip_224. This is because the name being registered conflicts with an existing name. Please check if this is not expected.\n",
      "  def vit_large_patch14_clip_224(pretrained: bool = False, **kwargs) -> VisionTransformer:\n",
      "c:\\Users\\User\\Documents\\MLearning\\_ORTrack_v8_trt\\lib\\models\\ortrack\\vision_transformer.py:2160: UserWarning: Overwriting vit_large_patch14_clip_336 in registry with lib.models.ortrack.vision_transformer.vit_large_patch14_clip_336. This is because the name being registered conflicts with an existing name. Please check if this is not expected.\n",
      "  def vit_large_patch14_clip_336(pretrained: bool = False, **kwargs) -> VisionTransformer:\n",
      "c:\\Users\\User\\Documents\\MLearning\\_ORTrack_v8_trt\\lib\\models\\ortrack\\vision_transformer.py:2170: UserWarning: Overwriting vit_huge_patch14_clip_224 in registry with lib.models.ortrack.vision_transformer.vit_huge_patch14_clip_224. This is because the name being registered conflicts with an existing name. Please check if this is not expected.\n",
      "  def vit_huge_patch14_clip_224(pretrained: bool = False, **kwargs) -> VisionTransformer:\n",
      "c:\\Users\\User\\Documents\\MLearning\\_ORTrack_v8_trt\\lib\\models\\ortrack\\vision_transformer.py:2180: UserWarning: Overwriting vit_huge_patch14_clip_336 in registry with lib.models.ortrack.vision_transformer.vit_huge_patch14_clip_336. This is because the name being registered conflicts with an existing name. Please check if this is not expected.\n",
      "  def vit_huge_patch14_clip_336(pretrained: bool = False, **kwargs) -> VisionTransformer:\n",
      "c:\\Users\\User\\Documents\\MLearning\\_ORTrack_v8_trt\\lib\\models\\ortrack\\vision_transformer.py:2190: UserWarning: Overwriting vit_huge_patch14_clip_378 in registry with lib.models.ortrack.vision_transformer.vit_huge_patch14_clip_378. This is because the name being registered conflicts with an existing name. Please check if this is not expected.\n",
      "  def vit_huge_patch14_clip_378(pretrained: bool = False, **kwargs) -> VisionTransformer:\n",
      "c:\\Users\\User\\Documents\\MLearning\\_ORTrack_v8_trt\\lib\\models\\ortrack\\vision_transformer.py:2200: UserWarning: Overwriting vit_giant_patch14_clip_224 in registry with lib.models.ortrack.vision_transformer.vit_giant_patch14_clip_224. This is because the name being registered conflicts with an existing name. Please check if this is not expected.\n",
      "  def vit_giant_patch14_clip_224(pretrained: bool = False, **kwargs) -> VisionTransformer:\n",
      "c:\\Users\\User\\Documents\\MLearning\\_ORTrack_v8_trt\\lib\\models\\ortrack\\vision_transformer.py:2212: UserWarning: Overwriting vit_gigantic_patch14_clip_224 in registry with lib.models.ortrack.vision_transformer.vit_gigantic_patch14_clip_224. This is because the name being registered conflicts with an existing name. Please check if this is not expected.\n",
      "  def vit_gigantic_patch14_clip_224(pretrained: bool = False, **kwargs) -> VisionTransformer:\n",
      "c:\\Users\\User\\Documents\\MLearning\\_ORTrack_v8_trt\\lib\\models\\ortrack\\vision_transformer.py:2224: UserWarning: Overwriting vit_base_patch32_clip_quickgelu_224 in registry with lib.models.ortrack.vision_transformer.vit_base_patch32_clip_quickgelu_224. This is because the name being registered conflicts with an existing name. Please check if this is not expected.\n",
      "  def vit_base_patch32_clip_quickgelu_224(pretrained: bool = False, **kwargs) -> VisionTransformer:\n",
      "c:\\Users\\User\\Documents\\MLearning\\_ORTrack_v8_trt\\lib\\models\\ortrack\\vision_transformer.py:2236: UserWarning: Overwriting vit_base_patch16_clip_quickgelu_224 in registry with lib.models.ortrack.vision_transformer.vit_base_patch16_clip_quickgelu_224. This is because the name being registered conflicts with an existing name. Please check if this is not expected.\n",
      "  def vit_base_patch16_clip_quickgelu_224(pretrained: bool = False, **kwargs) -> VisionTransformer:\n",
      "c:\\Users\\User\\Documents\\MLearning\\_ORTrack_v8_trt\\lib\\models\\ortrack\\vision_transformer.py:2248: UserWarning: Overwriting vit_large_patch14_clip_quickgelu_224 in registry with lib.models.ortrack.vision_transformer.vit_large_patch14_clip_quickgelu_224. This is because the name being registered conflicts with an existing name. Please check if this is not expected.\n",
      "  def vit_large_patch14_clip_quickgelu_224(pretrained: bool = False, **kwargs) -> VisionTransformer:\n",
      "c:\\Users\\User\\Documents\\MLearning\\_ORTrack_v8_trt\\lib\\models\\ortrack\\vision_transformer.py:2261: UserWarning: Overwriting vit_large_patch14_clip_quickgelu_336 in registry with lib.models.ortrack.vision_transformer.vit_large_patch14_clip_quickgelu_336. This is because the name being registered conflicts with an existing name. Please check if this is not expected.\n",
      "  def vit_large_patch14_clip_quickgelu_336(pretrained: bool = False, **kwargs) -> VisionTransformer:\n",
      "c:\\Users\\User\\Documents\\MLearning\\_ORTrack_v8_trt\\lib\\models\\ortrack\\vision_transformer.py:2273: UserWarning: Overwriting vit_huge_patch14_clip_quickgelu_224 in registry with lib.models.ortrack.vision_transformer.vit_huge_patch14_clip_quickgelu_224. This is because the name being registered conflicts with an existing name. Please check if this is not expected.\n",
      "  def vit_huge_patch14_clip_quickgelu_224(pretrained: bool = False, **kwargs) -> VisionTransformer:\n",
      "c:\\Users\\User\\Documents\\MLearning\\_ORTrack_v8_trt\\lib\\models\\ortrack\\vision_transformer.py:2285: UserWarning: Overwriting vit_huge_patch14_clip_quickgelu_378 in registry with lib.models.ortrack.vision_transformer.vit_huge_patch14_clip_quickgelu_378. This is because the name being registered conflicts with an existing name. Please check if this is not expected.\n",
      "  def vit_huge_patch14_clip_quickgelu_378(pretrained: bool = False, **kwargs) -> VisionTransformer:\n",
      "c:\\Users\\User\\Documents\\MLearning\\_ORTrack_v8_trt\\lib\\models\\ortrack\\vision_transformer.py:2299: UserWarning: Overwriting vit_base_patch32_plus_256 in registry with lib.models.ortrack.vision_transformer.vit_base_patch32_plus_256. This is because the name being registered conflicts with an existing name. Please check if this is not expected.\n",
      "  def vit_base_patch32_plus_256(pretrained: bool = False, **kwargs) -> VisionTransformer:\n",
      "c:\\Users\\User\\Documents\\MLearning\\_ORTrack_v8_trt\\lib\\models\\ortrack\\vision_transformer.py:2309: UserWarning: Overwriting vit_base_patch16_plus_240 in registry with lib.models.ortrack.vision_transformer.vit_base_patch16_plus_240. This is because the name being registered conflicts with an existing name. Please check if this is not expected.\n",
      "  def vit_base_patch16_plus_240(pretrained: bool = False, **kwargs) -> VisionTransformer:\n",
      "c:\\Users\\User\\Documents\\MLearning\\_ORTrack_v8_trt\\lib\\models\\ortrack\\vision_transformer.py:2319: UserWarning: Overwriting vit_base_patch16_rpn_224 in registry with lib.models.ortrack.vision_transformer.vit_base_patch16_rpn_224. This is because the name being registered conflicts with an existing name. Please check if this is not expected.\n",
      "  def vit_base_patch16_rpn_224(pretrained: bool = False, **kwargs) -> VisionTransformer:\n",
      "c:\\Users\\User\\Documents\\MLearning\\_ORTrack_v8_trt\\lib\\models\\ortrack\\vision_transformer.py:2331: UserWarning: Overwriting vit_small_patch16_36x1_224 in registry with lib.models.ortrack.vision_transformer.vit_small_patch16_36x1_224. This is because the name being registered conflicts with an existing name. Please check if this is not expected.\n",
      "  def vit_small_patch16_36x1_224(pretrained: bool = False, **kwargs) -> VisionTransformer:\n",
      "c:\\Users\\User\\Documents\\MLearning\\_ORTrack_v8_trt\\lib\\models\\ortrack\\vision_transformer.py:2343: UserWarning: Overwriting vit_small_patch16_18x2_224 in registry with lib.models.ortrack.vision_transformer.vit_small_patch16_18x2_224. This is because the name being registered conflicts with an existing name. Please check if this is not expected.\n",
      "  def vit_small_patch16_18x2_224(pretrained: bool = False, **kwargs) -> VisionTransformer:\n",
      "c:\\Users\\User\\Documents\\MLearning\\_ORTrack_v8_trt\\lib\\models\\ortrack\\vision_transformer.py:2356: UserWarning: Overwriting vit_base_patch16_18x2_224 in registry with lib.models.ortrack.vision_transformer.vit_base_patch16_18x2_224. This is because the name being registered conflicts with an existing name. Please check if this is not expected.\n",
      "  def vit_base_patch16_18x2_224(pretrained: bool = False, **kwargs) -> VisionTransformer:\n",
      "c:\\Users\\User\\Documents\\MLearning\\_ORTrack_v8_trt\\lib\\models\\ortrack\\vision_transformer.py:2368: UserWarning: Overwriting eva_large_patch14_196 in registry with lib.models.ortrack.vision_transformer.eva_large_patch14_196. This is because the name being registered conflicts with an existing name. Please check if this is not expected.\n",
      "  def eva_large_patch14_196(pretrained: bool = False, **kwargs) -> VisionTransformer:\n",
      "c:\\Users\\User\\Documents\\MLearning\\_ORTrack_v8_trt\\lib\\models\\ortrack\\vision_transformer.py:2377: UserWarning: Overwriting eva_large_patch14_336 in registry with lib.models.ortrack.vision_transformer.eva_large_patch14_336. This is because the name being registered conflicts with an existing name. Please check if this is not expected.\n",
      "  def eva_large_patch14_336(pretrained: bool = False, **kwargs) -> VisionTransformer:\n",
      "c:\\Users\\User\\Documents\\MLearning\\_ORTrack_v8_trt\\lib\\models\\ortrack\\vision_transformer.py:2385: UserWarning: Overwriting flexivit_small in registry with lib.models.ortrack.vision_transformer.flexivit_small. This is because the name being registered conflicts with an existing name. Please check if this is not expected.\n",
      "  def flexivit_small(pretrained: bool = False, **kwargs) -> VisionTransformer:\n",
      "c:\\Users\\User\\Documents\\MLearning\\_ORTrack_v8_trt\\lib\\models\\ortrack\\vision_transformer.py:2394: UserWarning: Overwriting flexivit_base in registry with lib.models.ortrack.vision_transformer.flexivit_base. This is because the name being registered conflicts with an existing name. Please check if this is not expected.\n",
      "  def flexivit_base(pretrained: bool = False, **kwargs) -> VisionTransformer:\n",
      "c:\\Users\\User\\Documents\\MLearning\\_ORTrack_v8_trt\\lib\\models\\ortrack\\vision_transformer.py:2403: UserWarning: Overwriting flexivit_large in registry with lib.models.ortrack.vision_transformer.flexivit_large. This is because the name being registered conflicts with an existing name. Please check if this is not expected.\n",
      "  def flexivit_large(pretrained: bool = False, **kwargs) -> VisionTransformer:\n",
      "c:\\Users\\User\\Documents\\MLearning\\_ORTrack_v8_trt\\lib\\models\\ortrack\\vision_transformer.py:2412: UserWarning: Overwriting vit_base_patch16_xp_224 in registry with lib.models.ortrack.vision_transformer.vit_base_patch16_xp_224. This is because the name being registered conflicts with an existing name. Please check if this is not expected.\n",
      "  def vit_base_patch16_xp_224(pretrained: bool = False, **kwargs) -> VisionTransformer:\n",
      "c:\\Users\\User\\Documents\\MLearning\\_ORTrack_v8_trt\\lib\\models\\ortrack\\vision_transformer.py:2425: UserWarning: Overwriting vit_large_patch14_xp_224 in registry with lib.models.ortrack.vision_transformer.vit_large_patch14_xp_224. This is because the name being registered conflicts with an existing name. Please check if this is not expected.\n",
      "  def vit_large_patch14_xp_224(pretrained: bool = False, **kwargs) -> VisionTransformer:\n",
      "c:\\Users\\User\\Documents\\MLearning\\_ORTrack_v8_trt\\lib\\models\\ortrack\\vision_transformer.py:2438: UserWarning: Overwriting vit_huge_patch14_xp_224 in registry with lib.models.ortrack.vision_transformer.vit_huge_patch14_xp_224. This is because the name being registered conflicts with an existing name. Please check if this is not expected.\n",
      "  def vit_huge_patch14_xp_224(pretrained: bool = False, **kwargs) -> VisionTransformer:\n",
      "c:\\Users\\User\\Documents\\MLearning\\_ORTrack_v8_trt\\lib\\models\\ortrack\\vision_transformer.py:2451: UserWarning: Overwriting vit_small_patch14_dinov2 in registry with lib.models.ortrack.vision_transformer.vit_small_patch14_dinov2. This is because the name being registered conflicts with an existing name. Please check if this is not expected.\n",
      "  def vit_small_patch14_dinov2(pretrained: bool = False, **kwargs) -> VisionTransformer:\n",
      "c:\\Users\\User\\Documents\\MLearning\\_ORTrack_v8_trt\\lib\\models\\ortrack\\vision_transformer.py:2461: UserWarning: Overwriting vit_base_patch14_dinov2 in registry with lib.models.ortrack.vision_transformer.vit_base_patch14_dinov2. This is because the name being registered conflicts with an existing name. Please check if this is not expected.\n",
      "  def vit_base_patch14_dinov2(pretrained: bool = False, **kwargs) -> VisionTransformer:\n",
      "c:\\Users\\User\\Documents\\MLearning\\_ORTrack_v8_trt\\lib\\models\\ortrack\\vision_transformer.py:2471: UserWarning: Overwriting vit_large_patch14_dinov2 in registry with lib.models.ortrack.vision_transformer.vit_large_patch14_dinov2. This is because the name being registered conflicts with an existing name. Please check if this is not expected.\n",
      "  def vit_large_patch14_dinov2(pretrained: bool = False, **kwargs) -> VisionTransformer:\n",
      "c:\\Users\\User\\Documents\\MLearning\\_ORTrack_v8_trt\\lib\\models\\ortrack\\vision_transformer.py:2481: UserWarning: Overwriting vit_giant_patch14_dinov2 in registry with lib.models.ortrack.vision_transformer.vit_giant_patch14_dinov2. This is because the name being registered conflicts with an existing name. Please check if this is not expected.\n",
      "  def vit_giant_patch14_dinov2(pretrained: bool = False, **kwargs) -> VisionTransformer:\n",
      "c:\\Users\\User\\Documents\\MLearning\\_ORTrack_v8_trt\\lib\\models\\ortrack\\vision_transformer.py:2498: UserWarning: Overwriting vit_small_patch14_reg4_dinov2 in registry with lib.models.ortrack.vision_transformer.vit_small_patch14_reg4_dinov2. This is because the name being registered conflicts with an existing name. Please check if this is not expected.\n",
      "  def vit_small_patch14_reg4_dinov2(pretrained: bool = False, **kwargs) -> VisionTransformer:\n",
      "c:\\Users\\User\\Documents\\MLearning\\_ORTrack_v8_trt\\lib\\models\\ortrack\\vision_transformer.py:2511: UserWarning: Overwriting vit_base_patch14_reg4_dinov2 in registry with lib.models.ortrack.vision_transformer.vit_base_patch14_reg4_dinov2. This is because the name being registered conflicts with an existing name. Please check if this is not expected.\n",
      "  def vit_base_patch14_reg4_dinov2(pretrained: bool = False, **kwargs) -> VisionTransformer:\n",
      "c:\\Users\\User\\Documents\\MLearning\\_ORTrack_v8_trt\\lib\\models\\ortrack\\vision_transformer.py:2524: UserWarning: Overwriting vit_large_patch14_reg4_dinov2 in registry with lib.models.ortrack.vision_transformer.vit_large_patch14_reg4_dinov2. This is because the name being registered conflicts with an existing name. Please check if this is not expected.\n",
      "  def vit_large_patch14_reg4_dinov2(pretrained: bool = False, **kwargs) -> VisionTransformer:\n",
      "c:\\Users\\User\\Documents\\MLearning\\_ORTrack_v8_trt\\lib\\models\\ortrack\\vision_transformer.py:2537: UserWarning: Overwriting vit_giant_patch14_reg4_dinov2 in registry with lib.models.ortrack.vision_transformer.vit_giant_patch14_reg4_dinov2. This is because the name being registered conflicts with an existing name. Please check if this is not expected.\n",
      "  def vit_giant_patch14_reg4_dinov2(pretrained: bool = False, **kwargs) -> VisionTransformer:\n",
      "c:\\Users\\User\\Documents\\MLearning\\_ORTrack_v8_trt\\lib\\models\\ortrack\\vision_transformer.py:2554: UserWarning: Overwriting vit_base_patch16_siglip_224 in registry with lib.models.ortrack.vision_transformer.vit_base_patch16_siglip_224. This is because the name being registered conflicts with an existing name. Please check if this is not expected.\n",
      "  def vit_base_patch16_siglip_224(pretrained: bool = False, **kwargs) -> VisionTransformer:\n",
      "c:\\Users\\User\\Documents\\MLearning\\_ORTrack_v8_trt\\lib\\models\\ortrack\\vision_transformer.py:2564: UserWarning: Overwriting vit_base_patch16_siglip_256 in registry with lib.models.ortrack.vision_transformer.vit_base_patch16_siglip_256. This is because the name being registered conflicts with an existing name. Please check if this is not expected.\n",
      "  def vit_base_patch16_siglip_256(pretrained: bool = False, **kwargs) -> VisionTransformer:\n",
      "c:\\Users\\User\\Documents\\MLearning\\_ORTrack_v8_trt\\lib\\models\\ortrack\\vision_transformer.py:2574: UserWarning: Overwriting vit_base_patch16_siglip_384 in registry with lib.models.ortrack.vision_transformer.vit_base_patch16_siglip_384. This is because the name being registered conflicts with an existing name. Please check if this is not expected.\n",
      "  def vit_base_patch16_siglip_384(pretrained: bool = False, **kwargs) -> VisionTransformer:\n",
      "c:\\Users\\User\\Documents\\MLearning\\_ORTrack_v8_trt\\lib\\models\\ortrack\\vision_transformer.py:2584: UserWarning: Overwriting vit_base_patch16_siglip_512 in registry with lib.models.ortrack.vision_transformer.vit_base_patch16_siglip_512. This is because the name being registered conflicts with an existing name. Please check if this is not expected.\n",
      "  def vit_base_patch16_siglip_512(pretrained: bool = False, **kwargs) -> VisionTransformer:\n",
      "c:\\Users\\User\\Documents\\MLearning\\_ORTrack_v8_trt\\lib\\models\\ortrack\\vision_transformer.py:2594: UserWarning: Overwriting vit_large_patch16_siglip_256 in registry with lib.models.ortrack.vision_transformer.vit_large_patch16_siglip_256. This is because the name being registered conflicts with an existing name. Please check if this is not expected.\n",
      "  def vit_large_patch16_siglip_256(pretrained: bool = False, **kwargs) -> VisionTransformer:\n",
      "c:\\Users\\User\\Documents\\MLearning\\_ORTrack_v8_trt\\lib\\models\\ortrack\\vision_transformer.py:2604: UserWarning: Overwriting vit_large_patch16_siglip_384 in registry with lib.models.ortrack.vision_transformer.vit_large_patch16_siglip_384. This is because the name being registered conflicts with an existing name. Please check if this is not expected.\n",
      "  def vit_large_patch16_siglip_384(pretrained: bool = False, **kwargs) -> VisionTransformer:\n",
      "c:\\Users\\User\\Documents\\MLearning\\_ORTrack_v8_trt\\lib\\models\\ortrack\\vision_transformer.py:2614: UserWarning: Overwriting vit_so400m_patch14_siglip_224 in registry with lib.models.ortrack.vision_transformer.vit_so400m_patch14_siglip_224. This is because the name being registered conflicts with an existing name. Please check if this is not expected.\n",
      "  def vit_so400m_patch14_siglip_224(pretrained: bool = False, **kwargs) -> VisionTransformer:\n",
      "c:\\Users\\User\\Documents\\MLearning\\_ORTrack_v8_trt\\lib\\models\\ortrack\\vision_transformer.py:2624: UserWarning: Overwriting vit_so400m_patch14_siglip_384 in registry with lib.models.ortrack.vision_transformer.vit_so400m_patch14_siglip_384. This is because the name being registered conflicts with an existing name. Please check if this is not expected.\n",
      "  def vit_so400m_patch14_siglip_384(pretrained: bool = False, **kwargs) -> VisionTransformer:\n",
      "c:\\Users\\User\\Documents\\MLearning\\_ORTrack_v8_trt\\lib\\models\\ortrack\\vision_transformer.py:2645: UserWarning: Overwriting vit_medium_patch16_reg4_gap_256 in registry with lib.models.ortrack.vision_transformer.vit_medium_patch16_reg4_gap_256. This is because the name being registered conflicts with an existing name. Please check if this is not expected.\n",
      "  def vit_medium_patch16_reg4_gap_256(pretrained: bool = False, **kwargs) -> VisionTransformer:\n",
      "c:\\Users\\User\\Documents\\MLearning\\_ORTrack_v8_trt\\lib\\models\\ortrack\\deit.py:245: UserWarning: Overwriting deit_tiny_patch16_224 in registry with lib.models.ortrack.deit.deit_tiny_patch16_224. This is because the name being registered conflicts with an existing name. Please check if this is not expected.\n",
      "  def deit_tiny_patch16_224(pretrained=False, **kwargs) -> VisionTransformer:\n",
      "c:\\Users\\User\\Documents\\MLearning\\_ORTrack_v8_trt\\lib\\models\\ortrack\\deit.py:262: UserWarning: Overwriting deit_small_patch16_224 in registry with lib.models.ortrack.deit.deit_small_patch16_224. This is because the name being registered conflicts with an existing name. Please check if this is not expected.\n",
      "  def deit_small_patch16_224(pretrained=False, **kwargs) -> VisionTransformer:\n",
      "c:\\Users\\User\\Documents\\MLearning\\_ORTrack_v8_trt\\lib\\models\\ortrack\\deit.py:272: UserWarning: Overwriting deit_base_patch16_224 in registry with lib.models.ortrack.deit.deit_base_patch16_224. This is because the name being registered conflicts with an existing name. Please check if this is not expected.\n",
      "  def deit_base_patch16_224(pretrained=False, **kwargs) -> VisionTransformer:\n",
      "c:\\Users\\User\\Documents\\MLearning\\_ORTrack_v8_trt\\lib\\models\\ortrack\\deit.py:282: UserWarning: Overwriting deit_base_patch16_384 in registry with lib.models.ortrack.deit.deit_base_patch16_384. This is because the name being registered conflicts with an existing name. Please check if this is not expected.\n",
      "  def deit_base_patch16_384(pretrained=False, **kwargs) -> VisionTransformer:\n",
      "c:\\Users\\User\\Documents\\MLearning\\_ORTrack_v8_trt\\lib\\models\\ortrack\\deit.py:292: UserWarning: Overwriting deit_tiny_distilled_patch16_224 in registry with lib.models.ortrack.deit.deit_tiny_distilled_patch16_224. This is because the name being registered conflicts with an existing name. Please check if this is not expected.\n",
      "  def deit_tiny_distilled_patch16_224(pretrained=False, **kwargs) -> VisionTransformerDistilled:\n",
      "c:\\Users\\User\\Documents\\MLearning\\_ORTrack_v8_trt\\lib\\models\\ortrack\\deit.py:303: UserWarning: Overwriting deit_small_distilled_patch16_224 in registry with lib.models.ortrack.deit.deit_small_distilled_patch16_224. This is because the name being registered conflicts with an existing name. Please check if this is not expected.\n",
      "  def deit_small_distilled_patch16_224(pretrained=False, **kwargs) -> VisionTransformerDistilled:\n",
      "c:\\Users\\User\\Documents\\MLearning\\_ORTrack_v8_trt\\lib\\models\\ortrack\\deit.py:314: UserWarning: Overwriting deit_base_distilled_patch16_224 in registry with lib.models.ortrack.deit.deit_base_distilled_patch16_224. This is because the name being registered conflicts with an existing name. Please check if this is not expected.\n",
      "  def deit_base_distilled_patch16_224(pretrained=False, **kwargs) -> VisionTransformerDistilled:\n",
      "c:\\Users\\User\\Documents\\MLearning\\_ORTrack_v8_trt\\lib\\models\\ortrack\\deit.py:325: UserWarning: Overwriting deit_base_distilled_patch16_384 in registry with lib.models.ortrack.deit.deit_base_distilled_patch16_384. This is because the name being registered conflicts with an existing name. Please check if this is not expected.\n",
      "  def deit_base_distilled_patch16_384(pretrained=False, **kwargs) -> VisionTransformerDistilled:\n",
      "c:\\Users\\User\\Documents\\MLearning\\_ORTrack_v8_trt\\lib\\models\\ortrack\\deit.py:336: UserWarning: Overwriting deit3_small_patch16_224 in registry with lib.models.ortrack.deit.deit3_small_patch16_224. This is because the name being registered conflicts with an existing name. Please check if this is not expected.\n",
      "  def deit3_small_patch16_224(pretrained=False, **kwargs) -> VisionTransformer:\n",
      "c:\\Users\\User\\Documents\\MLearning\\_ORTrack_v8_trt\\lib\\models\\ortrack\\deit.py:346: UserWarning: Overwriting deit3_small_patch16_384 in registry with lib.models.ortrack.deit.deit3_small_patch16_384. This is because the name being registered conflicts with an existing name. Please check if this is not expected.\n",
      "  def deit3_small_patch16_384(pretrained=False, **kwargs) -> VisionTransformer:\n",
      "c:\\Users\\User\\Documents\\MLearning\\_ORTrack_v8_trt\\lib\\models\\ortrack\\deit.py:356: UserWarning: Overwriting deit3_medium_patch16_224 in registry with lib.models.ortrack.deit.deit3_medium_patch16_224. This is because the name being registered conflicts with an existing name. Please check if this is not expected.\n",
      "  def deit3_medium_patch16_224(pretrained=False, **kwargs) -> VisionTransformer:\n",
      "c:\\Users\\User\\Documents\\MLearning\\_ORTrack_v8_trt\\lib\\models\\ortrack\\deit.py:366: UserWarning: Overwriting deit3_base_patch16_224 in registry with lib.models.ortrack.deit.deit3_base_patch16_224. This is because the name being registered conflicts with an existing name. Please check if this is not expected.\n",
      "  def deit3_base_patch16_224(pretrained=False, **kwargs) -> VisionTransformer:\n",
      "c:\\Users\\User\\Documents\\MLearning\\_ORTrack_v8_trt\\lib\\models\\ortrack\\deit.py:376: UserWarning: Overwriting deit3_base_patch16_384 in registry with lib.models.ortrack.deit.deit3_base_patch16_384. This is because the name being registered conflicts with an existing name. Please check if this is not expected.\n",
      "  def deit3_base_patch16_384(pretrained=False, **kwargs) -> VisionTransformer:\n",
      "c:\\Users\\User\\Documents\\MLearning\\_ORTrack_v8_trt\\lib\\models\\ortrack\\deit.py:386: UserWarning: Overwriting deit3_large_patch16_224 in registry with lib.models.ortrack.deit.deit3_large_patch16_224. This is because the name being registered conflicts with an existing name. Please check if this is not expected.\n",
      "  def deit3_large_patch16_224(pretrained=False, **kwargs) -> VisionTransformer:\n",
      "c:\\Users\\User\\Documents\\MLearning\\_ORTrack_v8_trt\\lib\\models\\ortrack\\deit.py:396: UserWarning: Overwriting deit3_large_patch16_384 in registry with lib.models.ortrack.deit.deit3_large_patch16_384. This is because the name being registered conflicts with an existing name. Please check if this is not expected.\n",
      "  def deit3_large_patch16_384(pretrained=False, **kwargs) -> VisionTransformer:\n",
      "c:\\Users\\User\\Documents\\MLearning\\_ORTrack_v8_trt\\lib\\models\\ortrack\\deit.py:406: UserWarning: Overwriting deit3_huge_patch14_224 in registry with lib.models.ortrack.deit.deit3_huge_patch14_224. This is because the name being registered conflicts with an existing name. Please check if this is not expected.\n",
      "  def deit3_huge_patch14_224(pretrained=False, **kwargs) -> VisionTransformer:\n"
     ]
    },
    {
     "name": "stdout",
     "output_type": "stream",
     "text": [
      "WARNING: You are using tensorboardX instead sis you have a too old pytorch version.\n"
     ]
    }
   ],
   "source": [
    "from lib.models.ortrack import build_ortrack\n",
    "from lib.test.tracker.basetracker import BaseTracker\n",
    "\n",
    "from lib.test.utils.hann import hann2d\n",
    "from lib.train.data.processing_utils import sample_target\n",
    "\n",
    "from lib.test.tracker.data_utils import Preprocessor\n",
    "from lib.utils.box_ops import clip_box\n",
    "from lib.utils.ce_utils import generate_mask_cond"
   ]
  },
  {
   "cell_type": "markdown",
   "id": "71ca9bf5",
   "metadata": {
    "pycharm": {
     "name": "#%% md\n"
    }
   },
   "source": [
    "Definition clause"
   ]
  },
  {
   "cell_type": "code",
   "execution_count": 3,
   "id": "189e65a3",
   "metadata": {},
   "outputs": [],
   "source": [
    "# Class for wrapping loaded TensorRT model\n",
    "KEYS = ['pred_boxes', 'score_map', 'size_map', 'offset_map', 'backbone_feat'] # new\n",
    "\n",
    "class TrtModelWrapper:\n",
    "    def __init__(self, trt_model_path):\n",
    "        \"\"\"Загрузка TensorRT модели\"\"\"\n",
    "        with open(trt_model_path, \"rb\") as f:\n",
    "            engine_data = f.read()\n",
    "        self.runtime = trt.Runtime(trt.Logger())\n",
    "        self.engine = self.runtime.deserialize_cuda_engine(engine_data)\n",
    "        self.context = self.engine.create_execution_context()\n",
    "        print(f\"Context profile #: {self.context.engine.num_optimization_profiles}\")\n",
    "\n",
    "        # Получаем имена тензоров                \n",
    "        self.tensor_names = [self.engine.get_tensor_name(i) for i in range(self.engine.num_io_tensors)]\n",
    "        self.input_tensors = self.tensor_names[0:2]  # Исключаем выходные тензоры\n",
    "        self.input_shapes = [self.context.get_tensor_shape(name) for name in self.input_tensors]\n",
    "        self.output_tensors = self.tensor_names[2:]  # Исключаем входные тензоры\n",
    "        self.output_shapes = [self.context.get_tensor_shape(name) for name in self.output_tensors]\n",
    "        \n",
    "        # переменные под GPU память\n",
    "        self.d_inputs = {}\n",
    "        self.d_outputs = {}\n",
    "\n",
    "        self.allocate_memory()\n",
    "\n",
    "\n",
    "    def allocate_memory(self):\n",
    "        \"\"\"Выделение правильного объема памяти в GPU\"\"\"\n",
    "\n",
    "        # Выделяем память под входные тензоры\n",
    "        for name, shape in zip(self.input_tensors, self.input_shapes):\n",
    "            size = int(np.prod(shape) * np.dtype(np.float32).itemsize)\n",
    "            self.d_inputs[name] = cuda.mem_alloc(size)\n",
    "\n",
    "        # Выделяем память под выходные тензоры\n",
    "        for name, shape in zip(self.output_tensors, self.output_shapes):\n",
    "            size = int(np.prod(shape) * np.dtype(np.float32).itemsize)\n",
    "            self.d_outputs[name] = cuda.mem_alloc(size)\n",
    "\n",
    "\n",
    "    def run_inference(self, z_numpy, x_numpy):\n",
    "        \"\"\"Запуск инференса для текущего кадра\"\"\"\n",
    "        \n",
    "        z_numpy = z_numpy.astype(np.float32).copy(order='C')\n",
    "        x_numpy = x_numpy.astype(np.float32).copy(order='C')\n",
    "\n",
    "        cuda.memcpy_htod(self.d_inputs[\"z\"], z_numpy)\n",
    "        cuda.memcpy_htod(self.d_inputs[\"x\"], x_numpy)\n",
    "\n",
    "        # Создаем список всех входных и выходных буферов\n",
    "        bindings = [int(self.d_inputs[\"z\"]), int(self.d_inputs[\"x\"])] + [int(self.d_outputs[name]) for name in self.output_tensors]\n",
    "        \n",
    "        # Запускаем инференс\n",
    "        self.context.execute_v2(bindings)\n",
    "\n",
    "    def copy_results_to_cpu(self):\n",
    "        \"\"\"Извлекаем результаты инференса из GPU\"\"\"\n",
    "        cpu_outputs = {}\n",
    "        i = 0\n",
    "        for name in self.output_tensors:\n",
    "            cpu_outputs[KEYS[i]] = np.empty(self.output_shapes[self.output_tensors.index(name)], dtype=np.float32)\n",
    "            cuda.memcpy_dtoh(cpu_outputs[KEYS[i]], self.d_outputs[name])\n",
    "            i +=1\n",
    "        # print(f\"type(cpu_outputs): {type(cpu_outputs)}\") \n",
    "        return cpu_outputs"
   ]
  },
  {
   "cell_type": "code",
   "execution_count": 5,
   "id": "c40b6c89",
   "metadata": {
    "pycharm": {
     "name": "#%%\n"
    }
   },
   "outputs": [],
   "source": [
    "# KEYS = ['pred_boxes', 'score_map', 'size_map', 'offset_map', 'backbone_feat'] # new\n",
    "class ORTrack_new(BaseTracker):\n",
    "    def __init__(self, params, trt_model_path):\n",
    "        super(ORTrack_new, self).__init__(params)\n",
    "        network = build_ortrack(params.cfg, training=False)\n",
    "        network.load_state_dict(torch.load(self.params.checkpoint, map_location='cpu', weights_only = False)['net'], strict=True)\n",
    "        self.network = network.cuda() if torch.cuda.is_available() else network.cpu()\n",
    "        self.network.eval()\n",
    "        \n",
    "        self.cfg = params.cfg\n",
    "        self.preprocessor = Preprocessor()\n",
    "        self.state = None\n",
    "\n",
    "        self.feat_sz = self.cfg.TEST.SEARCH_SIZE // self.cfg.MODEL.BACKBONE.STRIDE\n",
    "        self.feat_template_sz = self.cfg.TEST.TEMPLATE_SIZE // self.cfg.MODEL.BACKBONE.STRIDE\n",
    "        # motion constrain\n",
    "        try:\n",
    "            self.output_window = hann2d(torch.tensor([self.feat_sz, self.feat_sz]).long(), centered=True).cuda()\n",
    "        except:\n",
    "            self.output_window = hann2d(torch.tensor([self.feat_sz, self.feat_sz]).long(), centered=True).cpu()\n",
    "\n",
    "        # new thing (here)\n",
    "        self.frame_id = 0 \n",
    "\n",
    "        # for save boxes from all queries\n",
    "        self.save_all_boxes = params.save_all_boxes\n",
    "        self.z_dict = {}\n",
    "        self.is_distill = params.cfg.MODEL['IS_DISTILL']\n",
    "\n",
    "        # new thing!!!\n",
    "        self.loaded_model = TrtModelWrapper(trt_model_path)                  \n",
    "\n",
    "    def initialize(self, image, info: dict):\n",
    "        # forward the template once\n",
    "        z_patch_arr, resize_factor, z_amask_arr = sample_target(image, info['init_bbox'], self.params.template_factor,\n",
    "                                                    output_sz=self.params.template_size)\n",
    "        # cv2.imshow(\"ffdd\",z_patch_arr)\n",
    "        self.z_patch_arr = z_patch_arr\n",
    "        template = self.preprocessor.process(z_patch_arr, z_amask_arr)\n",
    "        with torch.no_grad():\n",
    "            self.z_dict = template\n",
    "\n",
    "        self.box_mask_z = None\n",
    "        if self.cfg.MODEL.BACKBONE.CE_LOC:\n",
    "            template_bbox = self.transform_bbox_to_crop(info['init_bbox'], resize_factor,\n",
    "                                                        template.tensors.device).squeeze(1)\n",
    "            self.box_mask_z = generate_mask_cond(self.cfg, 1, template.tensors.device, template_bbox)\n",
    "\n",
    "        # save states\n",
    "        self.state = info['init_bbox']\n",
    "        self.frame_id = 0\n",
    "        if self.save_all_boxes:\n",
    "            '''save all predicted boxes'''\n",
    "            all_boxes_save = info['init_bbox'] * self.cfg.MODEL.NUM_OBJECT_QUERIES\n",
    "            return {\"all_boxes\": all_boxes_save}\n",
    "\n",
    "\n",
    "    def track(self, image, info: dict = None):\n",
    "        H, W, _ = image.shape\n",
    "        self.frame_id += 1\n",
    "        x_patch_arr, resize_factor, x_amask_arr = sample_target(image, self.state, self.params.search_factor,\n",
    "                                                                output_sz=self.params.search_size)  # (x1, y1, w, h)\n",
    "        # cv2.imshow(\"ff\",x_patch_arr)\n",
    "        search = self.preprocessor.process(x_patch_arr, x_amask_arr)\n",
    "\n",
    "        with torch.no_grad():\n",
    "            x_dict = search\n",
    "            # merge the template and the search\n",
    "            # run the transformer\n",
    "            # old:\n",
    "            # out_dict = self.network.forward(\n",
    "            #     template=self.z_dict.tensors, search=x_dict.tensors, is_distill=self.is_distill)\n",
    "            # new:\n",
    "            # z_numpy = self.z_dict.tensors.cpu().numpy().copy()\n",
    "            # x_numpy = x_dict.tensors.cpu().numpy().copy()      \n",
    "            z_numpy = self.z_dict.tensors.cpu().numpy().astype(np.float32).copy()\n",
    "            x_numpy = x_dict.tensors.cpu().numpy().astype(np.float32).copy()    \n",
    "            self.loaded_model.run_inference(z_numpy, x_numpy)\n",
    "            output = self.loaded_model.copy_results_to_cpu()\n",
    "            out_dict = {}\n",
    "            for k in output.keys():\n",
    "                out_dict[k] = torch.from_numpy(output[k]).to('cuda')\n",
    "\n",
    "\n",
    "        # add hann windows\n",
    "        pred_score_map = out_dict['score_map']\n",
    "        # print(f\"pred_score_map type: {type(pred_score_map)}\")\n",
    "        # print(f\"self.output_window type: {type(self.output_window)}\")\n",
    "        response = self.output_window * pred_score_map\n",
    "        pred_boxes = self.network.box_head.cal_bbox(response, out_dict['size_map'], out_dict['offset_map'])\n",
    "        pred_boxes = pred_boxes.view(-1, 4)\n",
    "        \n",
    "        # Baseline: Take the mean of all pred boxes as the final result\n",
    "        pred_box = (pred_boxes.mean(dim=0).cpu().numpy() * self.params.search_size / resize_factor).tolist()  # (cx, cy, w, h) [0,1]\n",
    "        # get the final box result\n",
    "        self.state = clip_box(self.map_box_back(pred_box, resize_factor), H, W, margin=10)\n",
    "        # old:\n",
    "        # return {\"target_bbox\": self.state} \n",
    "        # new:\n",
    "        confidence = response.max().item() \n",
    "        return {\"target_bbox\": self.state, \"confidence\": confidence}  \n",
    "\n",
    "    def map_box_back(self, pred_box: list, resize_factor: float):\n",
    "        cx_prev, cy_prev = self.state[0] + 0.5 * self.state[2], self.state[1] + 0.5 * self.state[3]\n",
    "        cx, cy, w, h = pred_box\n",
    "        half_side = 0.5 * self.params.search_size / resize_factor\n",
    "        cx_real = cx + (cx_prev - half_side)\n",
    "        cy_real = cy + (cy_prev - half_side)\n",
    "        return [cx_real - 0.5 * w, cy_real - 0.5 * h, w, h]\n",
    "\n",
    "    def map_box_back_batch(self, pred_box: torch.Tensor, resize_factor: float):\n",
    "        cx_prev, cy_prev = self.state[0] + 0.5 * self.state[2], self.state[1] + 0.5 * self.state[3]\n",
    "        cx, cy, w, h = pred_box.unbind(-1) # (N,4) --> (N,)\n",
    "        half_side = 0.5 * self.params.search_size / resize_factor\n",
    "        cx_real = cx + (cx_prev - half_side)\n",
    "        cy_real = cy + (cy_prev - half_side)\n",
    "        return torch.stack([cx_real - 0.5 * w, cy_real - 0.5 * h, w, h], dim=-1)\n",
    "\n",
    "\n",
    "def get_tracker_class():\n",
    "    return ORTrack_new"
   ]
  },
  {
   "cell_type": "markdown",
   "id": "d94917fb",
   "metadata": {
    "pycharm": {
     "name": "#%% md\n"
    }
   },
   "source": [
    "Loading clause"
   ]
  },
  {
   "cell_type": "code",
   "execution_count": 6,
   "id": "c27de929",
   "metadata": {
    "pycharm": {
     "name": "#%%\n"
    }
   },
   "outputs": [
    {
     "name": "stdout",
     "output_type": "stream",
     "text": [
      "test config:  {'MODEL': {'PRETRAIN_FILE': '', 'IS_DISTILL': False, 'EXTRA_MERGER': False, 'RETURN_INTER': False, 'RETURN_STAGES': [], 'BACKBONE': {'TYPE': 'deit_tiny_patch16_224', 'STRIDE': 16, 'MID_PE': False, 'SEP_SEG': False, 'CAT_MODE': 'direct', 'MERGE_LAYER': 0, 'ADD_CLS_TOKEN': False, 'CLS_TOKEN_USE_MODE': 'ignore', 'CE_LOC': [], 'CE_KEEP_RATIO': [], 'CE_TEMPLATE_RANGE': 'ALL'}, 'HEAD': {'TYPE': 'CENTER', 'NUM_CHANNELS': 256}}, 'TRAIN': {'LR': 0.0004, 'WEIGHT_DECAY': 0.0001, 'EPOCH': 300, 'LR_DROP_EPOCH': 240, 'BATCH_SIZE': 32, 'NUM_WORKER': 10, 'OPTIMIZER': 'ADAMW', 'BACKBONE_MULTIPLIER': 0.1, 'GIOU_WEIGHT': 2.0, 'L1_WEIGHT': 5.0, 'FREEZE_LAYERS': [0], 'PRINT_INTERVAL': 50, 'VAL_EPOCH_INTERVAL': 20, 'GRAD_CLIP_NORM': 0.1, 'AMP': False, 'CE_START_EPOCH': 20, 'CE_WARM_EPOCH': 80, 'DROP_PATH_RATE': 0.1, 'SCHEDULER': {'TYPE': 'step', 'DECAY_RATE': 0.1}}, 'DATA': {'SAMPLER_MODE': 'causal', 'MEAN': [0.485, 0.456, 0.406], 'STD': [0.229, 0.224, 0.225], 'MAX_SAMPLE_INTERVAL': 200, 'TRAIN': {'DATASETS_NAME': ['LASOT', 'GOT10K_vottrain', 'COCO17', 'TRACKINGNET'], 'DATASETS_RATIO': [1, 1, 1, 1], 'SAMPLE_PER_EPOCH': 60000}, 'VAL': {'DATASETS_NAME': ['GOT10K_votval'], 'DATASETS_RATIO': [1], 'SAMPLE_PER_EPOCH': 10000}, 'SEARCH': {'SIZE': 256, 'FACTOR': 4.0, 'CENTER_JITTER': 3, 'SCALE_JITTER': 0.25, 'NUMBER': 1}, 'TEMPLATE': {'NUMBER': 1, 'SIZE': 128, 'FACTOR': 2.0, 'CENTER_JITTER': 0, 'SCALE_JITTER': 0}}, 'TEST': {'TEMPLATE_FACTOR': 2.0, 'TEMPLATE_SIZE': 128, 'SEARCH_FACTOR': 4.0, 'SEARCH_SIZE': 256, 'EPOCH': 300}}\n"
     ]
    }
   ],
   "source": [
    "param_module = importlib.import_module('lib.test.parameter.ortrack')\n",
    "yaml_name = \"deit_tiny_patch16_224.yaml\"\n",
    "\n",
    "model_name1 = \"c:/Users/User/Documents/MLearning/_ORTrack_v0-initial/Model/deit_tiny_patch16_224/ORTrack_ep0300.pth.tar\" # at home\n",
    "model_name2 = \"d:/CurrentWork/ML/_ORTrack_old/ORTrack_ep0300.pth.tar\" # at work\n",
    "# checking which file exists on the current PC:\n",
    "if os.path.isfile(model_name1):\n",
    "    model_name = model_name1\n",
    "elif os.path.isfile(model_name2):\n",
    "    model_name = model_name2\n",
    "\n",
    "params = param_module.parameters(yaml_name, model_name)"
   ]
  },
  {
   "cell_type": "code",
   "execution_count": 7,
   "id": "f62da3af",
   "metadata": {
    "pycharm": {
     "name": "#%%\n"
    }
   },
   "outputs": [
    {
     "data": {
      "text/plain": [
       "'c:/Users/User/Documents/MLearning/_ORTrack_v8_trt/ORTrack.trt'"
      ]
     },
     "execution_count": 7,
     "metadata": {},
     "output_type": "execute_result"
    }
   ],
   "source": [
    "trt_model_path1 = \"c:/Users/User/Documents/MLearning/_ORTrack_v8_trt/ORTrack.trt\"      # at home\n",
    "trt_model_path2 = \"d:/CurrentWork/ML/_ORTrack_v8_trt/ORTrack.trt\"                      # at work\n",
    "\n",
    "# checking which file exists on the current PC:\n",
    "if os.path.isfile(trt_model_path1):\n",
    "    trt_model_path = trt_model_path1\n",
    "elif os.path.isfile(trt_model_path2):\n",
    "    trt_model_path = trt_model_path2\n",
    "\n",
    "trt_model_path"
   ]
  },
  {
   "cell_type": "markdown",
   "id": "40a79b65",
   "metadata": {},
   "source": [
    "Loading TensorRT model, initializing the tracker"
   ]
  },
  {
   "cell_type": "code",
   "execution_count": null,
   "id": "beed1897",
   "metadata": {
    "pycharm": {
     "name": "#%%\n"
    }
   },
   "outputs": [
    {
     "name": "stdout",
     "output_type": "stream",
     "text": [
      "Context profile #: 1\n"
     ]
    }
   ],
   "source": [
    "trt_model = TrtModelWrapper(trt_model_path)\n",
    "tracker = ORTrack_new(params, trt_model_path)"
   ]
  },
  {
   "cell_type": "markdown",
   "id": "7e10bc66",
   "metadata": {
    "pycharm": {
     "name": "#%% md\n"
    }
   },
   "source": [
    "Execution clause"
   ]
  },
  {
   "cell_type": "code",
   "execution_count": 20,
   "id": "0714e1d2",
   "metadata": {
    "pycharm": {
     "name": "#%%\n"
    }
   },
   "outputs": [],
   "source": [
    "# Video file to process\n",
    "path1 = \"c:/Users/User/Documents/MLearning/_VideosForTracking/\" # at home\n",
    "path2 = \"d:/CurrentWork/ML/_VideosForTracking/\" # at work\n",
    "if os.path.isdir(path1):\n",
    "    path = path1\n",
    "elif os.path.isdir(path2):\n",
    "    path = path2    \n",
    "\n",
    "file = \"0516.mp4\"               # blue target from drone\n",
    "# file = 'PKP_TV_UPZx2_3.mp4'   # tank narrow FOV\n",
    "# file = \"PNK_TV_SHPZ_1.mp4\"    # tank wide FOV\n",
    "# file = \"cat.mp4\"              # cat\n",
    "# file = \"08_53_38_CAM.mp4\"       # piazza\n",
    "# file = u\"13-перекресток_крыша_Пеленга_туман_ТВ.mp4\" # \"u\" means unicode string\n",
    "# file = u\"15-повозка_лошадь_человек_ТВ.mp4\"\n",
    "# file = u\"22-грузовик_ТВ.mp4\"         # truck in a field\n",
    "# file = u\"30-Наряд_ТВ.mp4\"            # couple of soldiers \n",
    "# file = u\"3-10_39_36_ТВ_авто.mp4\"   # car on a country road near border, moving away\n",
    "# file = u\"7-09_57_49_ТВ_авто.mp4\"   # car on a country road near border, approaching\n",
    "# file = \"Road_Colored_14.20.21.mp4\"  # cross-road Makajonka"
   ]
  },
  {
   "cell_type": "code",
   "execution_count": 21,
   "id": "865f9913",
   "metadata": {
    "pycharm": {
     "name": "#%%\n"
    }
   },
   "outputs": [],
   "source": [
    "video = cv2.VideoCapture(path + file)\n",
    "fourcc = cv2.VideoWriter_fourcc(*'XVID')\n",
    "width = int(video.get(cv2.CAP_PROP_FRAME_WIDTH))\n",
    "height = int(video.get(cv2.CAP_PROP_FRAME_HEIGHT))\n",
    "fps=video.get(cv2.CAP_PROP_FPS)\n",
    "\n",
    "video_writer = cv2.VideoWriter(file.split('.')[0]+\"__\"+\".avi\", fourcc, fps, (width, height))\n",
    "\n",
    "ok, image = video.read()\n",
    "if not video.isOpened():\n",
    "    print(\"Could not open video\")\n",
    "    sys.exit()\n",
    "    \n",
    "# image = cv2.cvtColor(image, cv2.COLOR_BGR2RGB) # not needed since we read, show and save pictures with cv2 which uses BGR throughout\n",
    "\n",
    "x, y, w, h = cv2.selectROI(image, fromCenter=False)\n",
    "init_state = [x, y, w, h]\n",
    "def _build_init_info(box):\n",
    "            return {'init_bbox': box}\n",
    "tracker.initialize(image, _build_init_info(init_state))\n",
    "counter = 0\n",
    "frame_intervals = [] # frame intervals for calsulation processing FSP\n",
    "# fontScale\n",
    "fontScale = 1\n",
    "font = cv2.FONT_HERSHEY_SIMPLEX\n",
    "# Blue color in BGR\n",
    "color = (0, 0, 200)\n",
    "# Line thickness of 2 px\n",
    "thickness = 2 \n",
    "while True:\n",
    "            t1 = time.perf_counter() # precision timer start\n",
    "            ok, image = video.read()\n",
    "            if not ok:\n",
    "                print(\"Can't read frame\")\n",
    "                break\n",
    "            \n",
    "            # image = cv2.cvtColor(image, cv2.COLOR_BGR2RGB) # not needed since we read, show and save pictures with cv2 which uses BGR throughout\n",
    "            start = time.time() \n",
    "            # print(f\"Images size fed to the tracker: {image.shape}\")\n",
    "            out  = tracker.track(image)\n",
    "            state = [int(s) for s in out['target_bbox']]\n",
    "            best_score=out[\"confidence\"]\n",
    "            end_time = (time.time() - start)            \n",
    "            \n",
    "            org = (50, 50)\n",
    "\n",
    "            # Using cv2.putText() method\n",
    "            image = cv2.putText(image, str(best_score), org, font, \n",
    "                            fontScale, color, thickness, cv2.LINE_AA)\n",
    "            image = cv2.putText(image, str(end_time), (50,100), font, \n",
    "                            fontScale, color, thickness, cv2.LINE_AA)\n",
    "\n",
    "            x, y, w, h = [int(x) for x in state]\n",
    "\n",
    "            cv2.rectangle(image, (x, y), (x + w, y + h), color, 2)\n",
    "\n",
    "            cv2.imshow(\"tracking\", image)\n",
    "            video_writer.write(image)\n",
    "            t2 = time.perf_counter() # timer stop\n",
    "            frame_intervals.append(t2 - t1)\n",
    "            \n",
    "            k = cv2.waitKey(1)  \n",
    "            if k == 32:  # SPACE\n",
    "                  ok, image = video.read()\n",
    "                  if not ok:\n",
    "                         print(\"Can't read frame for ROI selection\")\n",
    "                         continue  # Пропускаем этот кадр\n",
    "                  x, y, w, h = cv2.selectROI(image, fromCenter=False)\n",
    "                  init_state = [x, y, w, h]\n",
    "                  tracker.initialize(image, _build_init_info(init_state))\n",
    "\n",
    "            if k == 27:  # ESC\n",
    "                break\n",
    "        \n",
    "                \n",
    "cv2.destroyAllWindows()\n",
    "video.release()\n",
    "video_writer.release()"
   ]
  },
  {
   "cell_type": "markdown",
   "id": "c291effd",
   "metadata": {
    "pycharm": {
     "name": "#%% md\n"
    }
   },
   "source": [
    "Performance evaluation:"
   ]
  },
  {
   "cell_type": "code",
   "execution_count": 22,
   "id": "93c01cac",
   "metadata": {
    "pycharm": {
     "name": "#%%\n"
    }
   },
   "outputs": [
    {
     "name": "stdout",
     "output_type": "stream",
     "text": [
      "Video size: 1280 * 720\n",
      "\n",
      "Min FPS: 16.15\n",
      "Max FPS: 98.92\n",
      "Average FPS of video tracking: 81.69\n",
      "Standard deviation of FPS video tracking: 8.49\n"
     ]
    }
   ],
   "source": [
    "print(f'Video size: {width} * {height}\\n')\n",
    "\n",
    "# frame_intervals = [i for i in frame_intervals if i > 0] # removing zero time values\n",
    "FPS = [1/i for i in frame_intervals]\n",
    "print(f'Min FPS: {min(FPS):.2f}')\n",
    "print(f'Max FPS: {max(FPS):.2f}')\n",
    "FPS_ave = np.mean(FPS)\n",
    "print(f'Average FPS of video tracking: {FPS_ave:.2f}')\n",
    "MRSE = np.std(FPS)\n",
    "print(f'Standard deviation of FPS video tracking: {MRSE:.2f}')"
   ]
  }
 ],
 "metadata": {
  "kernelspec": {
   "display_name": "Python 3",
   "language": "python",
   "name": "python3"
  },
  "language_info": {
   "codemirror_mode": {
    "name": "ipython",
    "version": 3
   },
   "file_extension": ".py",
   "mimetype": "text/x-python",
   "name": "python",
   "nbconvert_exporter": "python",
   "pygments_lexer": "ipython3",
   "version": "3.13.3"
  }
 },
 "nbformat": 4,
 "nbformat_minor": 5
}
