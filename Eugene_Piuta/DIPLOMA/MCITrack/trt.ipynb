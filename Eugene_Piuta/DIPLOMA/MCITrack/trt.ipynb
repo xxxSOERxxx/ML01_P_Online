{
 "cells": [
  {
   "cell_type": "code",
   "execution_count": null,
   "metadata": {},
   "outputs": [],
   "source": [
    "import tensorrt as trt\n",
    "import pycuda.driver as cuda\n",
    "import pycuda.autoinit  # автоматически инициализирует CUDA контекст\n",
    "import torch\n",
    "import cv2\n",
    "import sys\n",
    "import math\n",
    "import time\n",
    "import numpy as np\n",
    "import yaml\n",
    "import torch\n",
    "import numpy as np"
   ]
  },
  {
   "cell_type": "code",
   "execution_count": 80,
   "metadata": {},
   "outputs": [],
   "source": [
    "def cal_bbox(score_map_ctr, size_map, offset_map, return_score=True):\n",
    "        feat_sz = 14\n",
    "        max_score, idx = torch.max(score_map_ctr.flatten(1), dim=1, keepdim=True) # score_map_ctr.flatten(1): torch.Size([32, 256]) idx: torch.Size([32, 1]) max_score: torch.Size([32, 1])\n",
    "        idx_y = torch.div(idx, feat_sz, rounding_mode='floor')\n",
    "        idx_x = idx % feat_sz\n",
    "       \n",
    "        \n",
    "\n",
    "        idx = idx.unsqueeze(1).expand(idx.shape[0], 2, 1)\n",
    "        size = size_map.flatten(2).gather(dim=2, index=idx) # size_map: torch.Size([32, 2, 16, 16])  size_map.flatten(2): torch.Size([32, 2, 256])\n",
    "        offset = offset_map.flatten(2).gather(dim=2, index=idx).squeeze(-1)\n",
    "\n",
    "        bbox = torch.cat([(idx_x.to(torch.float) + offset[:, :1]) / feat_sz,\n",
    "                          (idx_y.to(torch.float) + offset[:, 1:]) / feat_sz,\n",
    "                          size.squeeze(-1)], dim=1)\n",
    "\n",
    "        if return_score:\n",
    "            return bbox, max_score\n",
    "        return (bbox, max_score) if return_score else bbox\n",
    "        \n",
    "class Preprocessor(object):\n",
    "    def __init__(self):\n",
    "        self.mean = torch.tensor([0.485, 0.456, 0.406]).view((1, 3, 1, 1)).cuda()\n",
    "        self.std = torch.tensor([0.229, 0.224, 0.225]).view((1, 3, 1, 1)).cuda()\n",
    "        self.mm_mean = torch.tensor([0.485, 0.456, 0.406, 0.485, 0.456, 0.406]).view((1, 6, 1, 1)).cuda()\n",
    "        self.mm_std = torch.tensor([0.229, 0.224, 0.225, 0.229, 0.224, 0.225]).view((1, 6, 1, 1)).cuda()\n",
    "\n",
    "    def process(self, img_arr: np.ndarray):\n",
    "        if img_arr.shape[-1] == 6:\n",
    "            mean = self.mm_mean\n",
    "            std = self.mm_std\n",
    "        else:\n",
    "            mean = self.mean\n",
    "            std = self.std\n",
    "        # Deal with the image patch\n",
    "        img_tensor = torch.tensor(img_arr).cuda().float().permute((2,0,1)).unsqueeze(dim=0)\n",
    "        # img_tensor = torch.tensor(img_arr).float().permute((2,0,1)).unsqueeze(dim=0)\n",
    "        img_tensor_norm = ((img_tensor / 255.0) - mean) / std  # (1,3,H,W)\n",
    "        return img_tensor_norm\n",
    "    \n",
    "def hann1d(sz: int, centered = True) -> torch.Tensor:\n",
    "    \"\"\"1D cosine window.\"\"\"\n",
    "    if centered:\n",
    "        return 0.5 * (1 - torch.cos((2 * math.pi / (sz + 1)) * torch.arange(1, sz + 1).float()))\n",
    "    w = 0.5 * (1 + torch.cos((2 * math.pi / (sz + 2)) * torch.arange(0, sz//2 + 1).float()))\n",
    "    return torch.cat([w, w[1:sz-sz//2].flip((0,))])\n",
    "    \n",
    "def hann2d(sz: torch.Tensor, centered = True) -> torch.Tensor:\n",
    "    \"\"\"2D cosine window.\"\"\"\n",
    "    return hann1d(sz[0].item(), centered).reshape(1, 1, -1, 1) * hann1d(sz[1].item(), centered).reshape(1, 1, 1, -1)    \n",
    "\n",
    "def sample_target(im, target_bb, search_area_factor, output_sz=None):\n",
    "   \n",
    "    if not isinstance(target_bb, list):\n",
    "        x, y, w, h = target_bb.tolist()\n",
    "    else:\n",
    "        x, y, w, h = target_bb\n",
    "    # Crop image\n",
    "    crop_sz = math.ceil(math.sqrt(w * h) * search_area_factor)\n",
    "\n",
    "    if crop_sz < 1:\n",
    "        raise Exception('Too small bounding box.')\n",
    "\n",
    "    x1 = round(x + 0.5 * w - crop_sz * 0.5)\n",
    "    x2 = x1 + crop_sz\n",
    "\n",
    "    y1 = round(y + 0.5 * h - crop_sz * 0.5)\n",
    "    y2 = y1 + crop_sz\n",
    "\n",
    "    x1_pad = max(0, -x1)\n",
    "    x2_pad = max(x2 - im.shape[1] + 1, 0)\n",
    "\n",
    "    y1_pad = max(0, -y1)\n",
    "    y2_pad = max(y2 - im.shape[0] + 1, 0)\n",
    "\n",
    "    # Crop target\n",
    "    im_crop = im[y1 + y1_pad:y2 - y2_pad, x1 + x1_pad:x2 - x2_pad, :]\n",
    "\n",
    "    # Pad\n",
    "    im_crop_padded = cv2.copyMakeBorder(im_crop, y1_pad, y2_pad, x1_pad, x2_pad, cv2.BORDER_CONSTANT)\n",
    "    # deal with attention mask\n",
    "    H, W, _ = im_crop_padded.shape\n",
    "\n",
    "    if output_sz is not None:\n",
    "        resize_factor = output_sz / crop_sz\n",
    "        im_crop_padded = cv2.resize(im_crop_padded, (output_sz, output_sz))\n",
    "\n",
    "        return im_crop_padded, resize_factor\n",
    "\n",
    "    else:\n",
    "        return im_crop_padded, 1.0\n",
    "def transform_image_to_crop(box_in: torch.Tensor, box_extract: torch.Tensor, resize_factor: float,\n",
    "                            crop_sz: torch.Tensor, normalize=False) -> torch.Tensor:\n",
    "   \n",
    "    box_extract_center = box_extract[0:2] + 0.5 * box_extract[2:4]\n",
    "\n",
    "    box_in_center = box_in[0:2] + 0.5 * box_in[2:4]\n",
    "\n",
    "    box_out_center = (crop_sz - 1) / 2 + (box_in_center - box_extract_center) * resize_factor\n",
    "    box_out_wh = box_in[2:4] * resize_factor\n",
    "\n",
    "    box_out = torch.cat((box_out_center - 0.5 * box_out_wh, box_out_wh))\n",
    "    if normalize:\n",
    "        return box_out / (crop_sz[0]-1)\n",
    "    else:\n",
    "        return box_out\n",
    "def clip_box(box: list, H, W, margin=0):\n",
    "    x1, y1, w, h = box\n",
    "    x2, y2 = x1 + w, y1 + h\n",
    "    x1 = min(max(0, x1), W-margin)\n",
    "    x2 = min(max(margin, x2), W)\n",
    "    y1 = min(max(0, y1), H-margin)\n",
    "    y2 = min(max(margin, y2), H)\n",
    "    w = max(margin, x2-x1)\n",
    "    h = max(margin, y2-y1)\n",
    "    return [x1, y1, w, h]\n",
    "\n",
    "class BaseTracker():\n",
    "    \"\"\"Base class for all trackers.\"\"\"\n",
    "\n",
    "    def __init__(self, params):\n",
    "        self.params = params\n",
    "        self.visdom = None\n",
    "        self.device = torch.device('cuda' if torch.cuda.is_available() else 'cpu')\n",
    "\n",
    "    def predicts_segmentation_mask(self):\n",
    "        return False\n",
    "\n",
    "    def initialize(self, image, info: dict) -> dict:\n",
    "        \"\"\"Overload this function in your tracker. This should initialize the model.\"\"\"\n",
    "        raise NotImplementedError\n",
    "\n",
    "    def track(self, image, info: dict = None) -> dict:\n",
    "        \"\"\"Overload this function in your tracker. This should track in the frame and update the model.\"\"\"\n",
    "        raise NotImplementedError\n",
    "\n",
    "    def visdom_draw_tracking(self, image, box, segmentation=None):\n",
    "        # Упрощенная обработка box без OrderedDict\n",
    "        if isinstance(box, dict):  # Проверяем на обычный dict вместо OrderedDict\n",
    "            box = list(box.values())  # Берем только значения\n",
    "        elif not isinstance(box, (list, tuple)):  # Если не коллекция\n",
    "            box = (box,)  # Превращаем в кортеж\n",
    "        \n",
    "        # Визуализация\n",
    "        if segmentation is None:\n",
    "            self.visdom.register((image, *box), 'Tracking', 1, 'Tracking')\n",
    "        else:\n",
    "            self.visdom.register((image, *box, segmentation), 'Tracking', 1, 'Tracking')"
   ]
  },
  {
   "cell_type": "code",
   "execution_count": 81,
   "metadata": {},
   "outputs": [],
   "source": [
    "cfg = {}\n",
    "\n",
    "# MODEL\n",
    "cfg[\"MODEL\"] = {}\n",
    "\n",
    "# MODEL.ENCODER\n",
    "cfg[\"MODEL\"][\"ENCODER\"] = {\n",
    "    \"TYPE\": \"dinov2_vitb14\",  # encoder model\n",
    "    \"DROP_PATH\": 0,\n",
    "    \"PRETRAIN_TYPE\": \"mae\",  # mae, default, or scratch. This parameter is not activated for dinov2.\n",
    "    \"USE_CHECKPOINT\": False,  # to save the memory.\n",
    "    \"STRIDE\": 14,\n",
    "    \"POS_TYPE\": 'interpolate',  # type of loading the positional encoding. \"interpolate\" or \"index\".\n",
    "    \"TOKEN_TYPE_INDICATE\": False,  # add a token_type_embedding to indicate the search, template_foreground, template_background\n",
    "    \"INTERACTION_INDEXES\": [[0, 6], [6, 12], [12, 18], [18, 24]],\n",
    "    \"GRAD_CKPT\": False\n",
    "}\n",
    "\n",
    "# MODEL.NECK\n",
    "cfg[\"MODEL\"][\"NECK\"] = {\n",
    "    \"N_LAYERS\": 4,\n",
    "    \"D_MODEL\": 512,\n",
    "    \"D_STATE\": 16  # MAMABA_HIDDEN_STATE\n",
    "}\n",
    "\n",
    "# MODEL.DECODER\n",
    "cfg[\"MODEL\"][\"DECODER\"] = {\n",
    "    \"TYPE\": \"CENTER\",  # MLP, CORNER, CENTER\n",
    "    \"NUM_CHANNELS\": 256\n",
    "}\n",
    "\n",
    "# TRAIN\n",
    "cfg[\"TRAIN\"] = {\n",
    "    \"LR\": 0.0001,\n",
    "    \"WEIGHT_DECAY\": 0.0001,\n",
    "    \"EPOCH\": 500,\n",
    "    \"LR_DROP_EPOCH\": 400,\n",
    "    \"BATCH_SIZE\": 8,\n",
    "    \"NUM_WORKER\": 8,\n",
    "    \"OPTIMIZER\": \"ADAMW\",\n",
    "    \"ENCODER_MULTIPLIER\": 0.1,  # encoder's LR = this factor * LR\n",
    "    \"FREEZE_ENCODER\": False,  # for freezing the parameters of encoder\n",
    "    \"ENCODER_OPEN\": [],  # only for debug, open some layers of encoder when FREEZE_ENCODER is True\n",
    "    \"CE_WEIGHT\": 1.0,  # weight for cross-entropy loss\n",
    "    \"GIOU_WEIGHT\": 2.0,\n",
    "    \"L1_WEIGHT\": 5.0,\n",
    "    \"PRINT_INTERVAL\": 50,  # interval to print the training log\n",
    "    \"GRAD_CLIP_NORM\": 0.1,\n",
    "    \"FIX_BN\": False,\n",
    "    \"ENCODER_W\": \"\",\n",
    "    \"TYPE\": \"normal\",  # normal, peft or fft\n",
    "    \"PRETRAINED_PATH\": None\n",
    "}\n",
    "\n",
    "# TRAIN.SCHEDULER\n",
    "cfg[\"TRAIN\"][\"SCHEDULER\"] = {\n",
    "    \"TYPE\": \"step\",\n",
    "    \"DECAY_RATE\": 0.1\n",
    "}\n",
    "\n",
    "# DATA\n",
    "cfg[\"DATA\"] = {\n",
    "    \"MEAN\": [0.485, 0.456, 0.406],\n",
    "    \"STD\": [0.229, 0.224, 0.225],\n",
    "    \"MAX_SAMPLE_INTERVAL\": 200,\n",
    "    \"SAMPLER_MODE\": \"order\",\n",
    "    \"LOADER\": \"tracking\"\n",
    "}\n",
    "\n",
    "# DATA.TRAIN\n",
    "cfg[\"DATA\"][\"TRAIN\"] = {\n",
    "    \"DATASETS_NAME\": [\"LASOT\", \"GOT10K_vottrain\"],\n",
    "    \"DATASETS_RATIO\": [1, 1],\n",
    "    \"SAMPLE_PER_EPOCH\": 60000\n",
    "}\n",
    "\n",
    "# DATA.SEARCH\n",
    "cfg[\"DATA\"][\"SEARCH\"] = {\n",
    "    \"NUMBER\": 1,  # number of search region, only support 1 for now.\n",
    "    \"SIZE\": 256,\n",
    "    \"FACTOR\": 4.0,\n",
    "    \"CENTER_JITTER\": 3.5,\n",
    "    \"SCALE_JITTER\": 0.5\n",
    "}\n",
    "\n",
    "# DATA.TEMPLATE\n",
    "cfg[\"DATA\"][\"TEMPLATE\"] = {\n",
    "    \"NUMBER\": 1,\n",
    "    \"SIZE\": 128,\n",
    "    \"FACTOR\": 2.0,\n",
    "    \"CENTER_JITTER\": 0,\n",
    "    \"SCALE_JITTER\": 0\n",
    "}\n",
    "\n",
    "# TEST\n",
    "cfg[\"TEST\"] = {\n",
    "    \"TEMPLATE_FACTOR\": 4.0,\n",
    "    \"TEMPLATE_SIZE\": 256,\n",
    "    \"SEARCH_FACTOR\": 2.0,\n",
    "    \"SEARCH_SIZE\": 128,\n",
    "    \"EPOCH\": 500,\n",
    "    \"WINDOW\": False,  # window penalty\n",
    "    \"NUM_TEMPLATES\": 1\n",
    "}\n",
    "\n",
    "# TEST.UPT\n",
    "cfg[\"TEST\"][\"UPT\"] = {\n",
    "    \"DEFAULT\": 1,\n",
    "    \"LASOT\": 0,\n",
    "    \"LASOT_EXTENSION_SUBSET\": 0,\n",
    "    \"TRACKINGNET\": 0,\n",
    "    \"TNL2K\": 0,\n",
    "    \"NFS\": 0,\n",
    "    \"UAV\": 0,\n",
    "    \"VOT20\": 0,\n",
    "    \"GOT10K_TEST\": 0\n",
    "}\n",
    "\n",
    "# TEST.UPH\n",
    "cfg[\"TEST\"][\"UPH\"] = {\n",
    "    \"DEFAULT\": 1,\n",
    "    \"LASOT\": 0,\n",
    "    \"LASOT_EXTENSION_SUBSET\": 0,\n",
    "    \"TRACKINGNET\": 0,\n",
    "    \"TNL2K\": 0,\n",
    "    \"NFS\": 0,\n",
    "    \"UAV\": 0,\n",
    "    \"VOT20\": 0,\n",
    "    \"GOT10K_TEST\": 0\n",
    "}\n",
    "\n",
    "# TEST.INTER\n",
    "cfg[\"TEST\"][\"INTER\"] = {\n",
    "    \"DEFAULT\": 999999,\n",
    "    \"LASOT\": 0,\n",
    "    \"LASOT_EXTENSION_SUBSET\": 0,\n",
    "    \"TRACKINGNET\": 0,\n",
    "    \"TNL2K\": 0,\n",
    "    \"NFS\": 0,\n",
    "    \"UAV\": 0,\n",
    "    \"VOT20\": 0,\n",
    "    \"GOT10K_TEST\": 0\n",
    "}\n",
    "\n",
    "# TEST.MB\n",
    "cfg[\"TEST\"][\"MB\"] = {\n",
    "    \"DEFAULT\": 500,\n",
    "    \"LASOT\": 0,\n",
    "    \"LASOT_EXTENSION_SUBSET\": 0,\n",
    "    \"TRACKINGNET\": 0,\n",
    "    \"TNL2K\": 0,\n",
    "    \"NFS\": 0,\n",
    "    \"UAV\": 0,\n",
    "    \"VOT20\": 0,\n",
    "    \"GOT10K_TEST\": 0\n",
    "}"
   ]
  },
  {
   "cell_type": "code",
   "execution_count": 82,
   "metadata": {},
   "outputs": [
    {
     "name": "stdout",
     "output_type": "stream",
     "text": [
      "test config:  {'MODEL': {'ENCODER': {'TYPE': 'fastitpnt', 'DROP_PATH': 0.1, 'PRETRAIN_TYPE': './fast_itpn_tiny_1600e_1k.pt', 'USE_CHECKPOINT': False, 'STRIDE': 16, 'POS_TYPE': 'index', 'TOKEN_TYPE_INDICATE': True, 'INTERACTION_INDEXES': [[4, 7], [7, 10], [10, 13], [13, 16]], 'GRAD_CKPT': False}, 'NECK': {'N_LAYERS': 4, 'D_MODEL': 384, 'D_STATE': 16}, 'DECODER': {'TYPE': 'CENTER', 'NUM_CHANNELS': 256}}, 'TRAIN': {'LR': 0.0004, 'WEIGHT_DECAY': 0.0001, 'EPOCH': 300, 'LR_DROP_EPOCH': 240, 'BATCH_SIZE': 64, 'NUM_WORKER': 10, 'OPTIMIZER': 'ADAMW', 'ENCODER_MULTIPLIER': 0.1, 'FREEZE_ENCODER': False, 'ENCODER_OPEN': [], 'CE_WEIGHT': 1.0, 'GIOU_WEIGHT': 2.0, 'L1_WEIGHT': 5.0, 'PRINT_INTERVAL': 50, 'GRAD_CLIP_NORM': 0.1, 'FIX_BN': False, 'ENCODER_W': '', 'TYPE': 'normal', 'PRETRAINED_PATH': None, 'SCHEDULER': {'TYPE': 'step', 'DECAY_RATE': 0.1}}, 'DATA': {'MEAN': [0.485, 0.456, 0.406], 'STD': [0.229, 0.224, 0.225], 'MAX_SAMPLE_INTERVAL': 400, 'SAMPLER_MODE': 'order', 'LOADER': 'tracking', 'TRAIN': {'DATASETS_NAME': ['LASOT', 'GOT10K_vottrain', 'COCO17', 'TRACKINGNET', 'VASTTRACK'], 'DATASETS_RATIO': [1, 1, 1, 1, 1], 'SAMPLE_PER_EPOCH': 60000}, 'SEARCH': {'NUMBER': 2, 'SIZE': 224, 'FACTOR': 4.0, 'CENTER_JITTER': 3.5, 'SCALE_JITTER': 0.5}, 'TEMPLATE': {'NUMBER': 5, 'SIZE': 112, 'FACTOR': 2.0, 'CENTER_JITTER': 0, 'SCALE_JITTER': 0}}, 'TEST': {'TEMPLATE_FACTOR': 2.0, 'TEMPLATE_SIZE': 112, 'SEARCH_FACTOR': 4.0, 'SEARCH_SIZE': 224, 'EPOCH': 300, 'WINDOW': True, 'NUM_TEMPLATES': 5, 'UPT': {'DEFAULT': 1, 'LASOT': 0.8, 'LASOT_EXTENSION_SUBSET': 0.85, 'TRACKINGNET': 0.5, 'TNL2K': 0.5, 'NFS': 0.8, 'UAV': 0.2, 'VOT20': 0.4, 'GOT10K_TEST': 0}, 'UPH': {'DEFAULT': 1, 'LASOT': 0.88, 'LASOT_EXTENSION_SUBSET': 0.97, 'TRACKINGNET': 0.9, 'TNL2K': 0.9, 'NFS': 0.92, 'UAV': 0.91, 'VOT20': 0.94, 'GOT10K_TEST': 0}, 'INTER': {'DEFAULT': 999999, 'LASOT': 70, 'LASOT_EXTENSION_SUBSET': 50, 'TRACKINGNET': 20, 'TNL2K': 20, 'NFS': 90, 'UAV': 1, 'VOT20': 1, 'GOT10K_TEST': 0}, 'MB': {'DEFAULT': 500, 'LASOT': 500, 'LASOT_EXTENSION_SUBSET': 500, 'TRACKINGNET': 200, 'TNL2K': 500, 'NFS': 500, 'UAV': 400, 'VOT20': 500, 'GOT10K_TEST': 0}}}\n"
     ]
    }
   ],
   "source": [
    "#Params\n",
    "class TrackerParams:\n",
    "    \"\"\"Class for tracker parameters.\"\"\"\n",
    "    def set_default_values(self, default_vals: dict):\n",
    "        for name, val in default_vals.items():\n",
    "            if not hasattr(self, name):\n",
    "                setattr(self, name, val)\n",
    "\n",
    "    def get(self, name: str, *default):\n",
    "        \"\"\"Get a parameter value with the given name. If it does not exists, it return the default value given as a\n",
    "        second argument or returns an error if no default value is given.\"\"\"\n",
    "        if len(default) > 1:\n",
    "            raise ValueError('Can only give one default value.')\n",
    "\n",
    "        if not default:\n",
    "            return getattr(self, name)\n",
    "\n",
    "        return getattr(self, name, default[0])\n",
    "\n",
    "    def has(self, name: str):\n",
    "        \"\"\"Check if there exist a parameter with the given name.\"\"\"\n",
    "        return hasattr(self, name)\n",
    "\n",
    "def _update_config(base_cfg, exp_cfg):\n",
    "    if isinstance(base_cfg, dict) and isinstance(exp_cfg, dict):\n",
    "        for k, v in exp_cfg.items():\n",
    "            if k in base_cfg:\n",
    "                if not isinstance(v, dict):\n",
    "                    base_cfg[k] = v\n",
    "                else:\n",
    "                    _update_config(base_cfg[k], v)\n",
    "            else:\n",
    "                raise ValueError(\"{} not exist in config.py\".format(k))\n",
    "    else:\n",
    "        return\n",
    "\n",
    "def update_config_from_file(filename):\n",
    "    exp_config = None\n",
    "    with open(filename) as f:\n",
    "        exp_config = yaml.safe_load(f)\n",
    "        _update_config(cfg, exp_config)\n",
    "    \n",
    "def parameters(yaml_name: str):\n",
    "    params = TrackerParams()\n",
    "\n",
    "    yaml_file = \"mcitrack_t224.yaml\"\n",
    "    update_config_from_file(yaml_file)\n",
    "    params.cfg = cfg\n",
    "    print(\"test config: \", cfg)\n",
    "\n",
    "    params.yaml_name = yaml_name\n",
    "    # template and search region\n",
    "    params.template_factor = cfg[\"TEST\"][\"TEMPLATE_FACTOR\"]\n",
    "    params.template_size = cfg[\"TEST\"][\"TEMPLATE_SIZE\"]\n",
    "    params.search_factor = cfg[\"TEST\"][\"SEARCH_FACTOR\"]\n",
    "    params.search_size = cfg[\"TEST\"][\"SEARCH_SIZE\"]\n",
    "\n",
    "    # Network checkpoint path\n",
    "    params.checkpoint = \"MCITrack.trt\"\n",
    "    # whether to save boxes from all queries\n",
    "    params.save_all_boxes = False\n",
    "\n",
    "    return params\n",
    "\n",
    "params = parameters(\"./mcitrack_t224.yaml\")"
   ]
  },
  {
   "cell_type": "code",
   "execution_count": null,
   "metadata": {},
   "outputs": [],
   "source": [
    "#TRT Tracker\n",
    "\n",
    "TRT_LOGGER = trt.Logger(trt.Logger.WARNING)\n",
    "\n",
    "class MCITRACK(BaseTracker):\n",
    "    def __init__(self, params):        \n",
    "        super(MCITRACK, self).__init__(params)\n",
    "        self.cfg = params.cfg        \n",
    "        # Загружаем engine (сохраняем как атрибут)\n",
    "        self.engine = self.load_engine(\"MCITrack.trt\")\n",
    "        if not self.engine:\n",
    "            raise RuntimeError(\"Не удалось загрузить TensorRT engine.\")    \n",
    "        # Сохраняем context\n",
    "        self.context = self.engine.create_execution_context()\n",
    "        \n",
    "        # Сохраняем выделенную память\n",
    "        self.initialize_memory()\n",
    "\n",
    "        self.fx_sz = self.cfg[\"TEST\"][\"SEARCH_SIZE\"] // self.cfg[\"MODEL\"][\"ENCODER\"][\"STRIDE\"]\n",
    "        if self.cfg[\"TEST\"][\"WINDOW\"] == True:  # for window penalty\n",
    "            self.output_window = hann2d(torch.tensor([self.fx_sz, self.fx_sz]).long(), centered=True).cuda()\n",
    "            \n",
    "        self.num_template = self.cfg[\"TEST\"][\"NUM_TEMPLATES\"]\n",
    "\n",
    "        self.preprocessor = Preprocessor()\n",
    "        self.state = None\n",
    "\n",
    "        if self.cfg[\"TEST\"][\"WINDOW\"] == True:  # for window penalty\n",
    "            self.output_window = hann2d(torch.tensor([self.fx_sz, self.fx_sz]).long(), centered=True).cuda()\n",
    "        self.frame_id = 0\n",
    "        self.save_all_boxes = params.save_all_boxes\n",
    "        self.z_dict1 = {}\n",
    "        # for update\n",
    "        self.h_state = [None] * self.cfg[\"MODEL\"][\"NECK\"][\"N_LAYERS\"]\n",
    "        self.memory_bank = self.cfg[\"TEST\"][\"MB\"][\"DEFAULT\"]\n",
    "        self.update_h_t = self.cfg[\"TEST\"][\"UPH\"][\"DEFAULT\"]\n",
    "        self.update_threshold = self.cfg[\"TEST\"][\"UPT\"][\"DEFAULT\"]\n",
    "        self.update_intervals = self.cfg[\"TEST\"][\"INTER\"][\"DEFAULT\"]\n",
    "        \n",
    "        print(f\"Engine initialized: {self.engine is not None}\")\n",
    "        print(f\"Context created: {self.context is not None}\")\n",
    "        print(f\"CUDA buffers allocated: {hasattr(self, 'd_template_list')}\")\n",
    "        print(f\"Current CUDA context: {cuda.Context.get_current()}\")\n",
    "          \n",
    "    def load_engine(self, engine_path):        \n",
    "        with open(engine_path, \"rb\") as engine_file, trt.Runtime(TRT_LOGGER) as runtime:\n",
    "            engine = runtime.deserialize_cuda_engine(engine_file.read())\n",
    "        return engine\n",
    "\n",
    "    def initialize_memory(self):        \n",
    "        # Входы\n",
    "        self.d_template_list = cuda.mem_alloc(int(np.prod([1, 3, 112, 112]) * np.dtype(np.float32).itemsize))\n",
    "        self.d_search_list = cuda.mem_alloc(int(np.prod([1, 3, 112, 112]) * np.dtype(np.float32).itemsize))\n",
    "        self.d_template_anno_list = cuda.mem_alloc(int(np.prod([1, 3, 112, 112]) * np.dtype(np.float32).itemsize))        \n",
    "        self.d_unsqueeze_3 = cuda.mem_alloc(int(np.prod([1, 3, 112, 112]) * np.dtype(np.float32).itemsize))\n",
    "        self.d_unsqueeze_4 = cuda.mem_alloc(int(np.prod([1, 3, 112, 112]) * np.dtype(np.float32).itemsize))\n",
    "        self.d_unsqueeze_5 = cuda.mem_alloc(int(np.prod([1, 3, 224, 224]) * np.dtype(np.float32).itemsize))\n",
    "        self.d_unsqueeze_6 = cuda.mem_alloc(int(np.prod([1, 4]) * np.dtype(np.float32).itemsize))\n",
    "        self.d_unsqueeze_7 = cuda.mem_alloc(int(np.prod([1, 4]) * np.dtype(np.float32).itemsize))\n",
    "        self.d_unsqueeze_8 = cuda.mem_alloc(int(np.prod([1, 4]) * np.dtype(np.float32).itemsize))\n",
    "        self.d_unsqueeze_9 = cuda.mem_alloc(int(np.prod([1, 4]) * np.dtype(np.float32).itemsize))\n",
    "        self.d_unsqueeze_10 = cuda.mem_alloc(int(np.prod([1, 4]) * np.dtype(np.float32).itemsize))\n",
    "        # Выходы\n",
    "        self.d_pred_boxes = cuda.mem_alloc(int(np.prod([1, 1, 4]) * np.dtype(np.float32).itemsize))\n",
    "        self.d_score_map = cuda.mem_alloc(int(np.prod([1, 1, 14, 14]) * np.dtype(np.float32).itemsize))\n",
    "        self.d_size_map = cuda.mem_alloc(int(np.prod([1, 2, 14, 14]) * np.dtype(np.float32).itemsize))\n",
    "        self.d_offset_map = cuda.mem_alloc(int(np.prod([1, 2, 14, 14]) * np.dtype(np.float32).itemsize))        \n",
    "        \n",
    "    def predict(self, input_feed):                  \n",
    "                \n",
    "        template_list = input_feed['template_list']\n",
    "        search_list = input_feed['search_list']\n",
    "        template_anno_list = input_feed['template_anno_list']\n",
    "        unsqueeze_3 = input_feed['onnx::Unsqueeze_3']\n",
    "        unsqueeze_4 = input_feed['onnx::Unsqueeze_4']\n",
    "        unsqueeze_5 = input_feed['onnx::Unsqueeze_5']\n",
    "        unsqueeze_6 = input_feed['onnx::Unsqueeze_6']\n",
    "        unsqueeze_7 = input_feed['onnx::Unsqueeze_7']\n",
    "        unsqueeze_8 = input_feed['onnx::Unsqueeze_8']\n",
    "        unsqueeze_9 = input_feed['onnx::Unsqueeze_9']\n",
    "        unsqueeze_10 = input_feed['onnx::Unsqueeze_10']\n",
    "\n",
    "\n",
    "                \n",
    "        # Копируем данные на GPU (используем выделенные буферы)\n",
    "        cuda.memcpy_htod(self.d_template_list, template_list.ravel())\n",
    "        cuda.memcpy_htod(self.d_search_list, search_list.ravel())\n",
    "        cuda.memcpy_htod(self.d_template_anno_list, template_anno_list.ravel())\n",
    "        cuda.memcpy_htod(self.d_unsqueeze_3, unsqueeze_3.ravel())\n",
    "        cuda.memcpy_htod(self.d_unsqueeze_4, unsqueeze_4.ravel())\n",
    "        cuda.memcpy_htod(self.d_unsqueeze_5, unsqueeze_5.ravel())\n",
    "        cuda.memcpy_htod(self.d_unsqueeze_6, unsqueeze_6.ravel())\n",
    "        cuda.memcpy_htod(self.d_unsqueeze_7, unsqueeze_7.ravel())\n",
    "        cuda.memcpy_htod(self.d_unsqueeze_8, unsqueeze_8.ravel())\n",
    "        cuda.memcpy_htod(self.d_unsqueeze_9, unsqueeze_9.ravel())\n",
    "        cuda.memcpy_htod(self.d_unsqueeze_10, unsqueeze_10.ravel())\n",
    "      \n",
    "      \n",
    "            # Пример проверки входных данных перед копированием\n",
    "        # print(\"Проверка входных данных:\")\n",
    "        # print(f\"template_list: min={template_list.min()}, max={template_list.max()}\")\n",
    "        # print(f\"search_list: min={search_list.min()}, max={search_list.max()}\")\n",
    "        # print(f\"unsqueeze_3: min={unsqueeze_3.min()}, max={unsqueeze_3.max()}\")\n",
    "        # print(f\"unsqueeze_4: min={unsqueeze_4.min()}, max={unsqueeze_4.max()}\")\n",
    "        # print(f\"unsqueeze_5: min={unsqueeze_5.min()}, max={unsqueeze_5.max()}\")\n",
    "        # print(f\"unsqueeze_6: {unsqueeze_6}\")\n",
    "        # print(f\"unsqueeze_7: {unsqueeze_7}\")\n",
    "        # print(f\"unsqueeze_8: {unsqueeze_8}\")\n",
    "        # print(f\"unsqueeze_9: {unsqueeze_9}\")\n",
    "        # print(f\"unsqueeze_10: {unsqueeze_10}\")\n",
    "\n",
    "\n",
    "        # Перед execute_v2\n",
    "        # print(\"Проверка bindings перед выполнением:\")\n",
    "        # for i, buf in enumerate([\n",
    "        #     self.d_template_list, self.d_search_list, self.d_template_anno_list,\n",
    "        #     self.d_unsqueeze_3, self.d_unsqueeze_4, self.d_unsqueeze_5,\n",
    "        #     self.d_unsqueeze_6, self.d_unsqueeze_7, self.d_unsqueeze_8,\n",
    "        #     self.d_unsqueeze_9, self.d_unsqueeze_10,\n",
    "        #     self.d_pred_boxes, self.d_score_map, self.d_size_map, self.d_offset_map\n",
    "        # ]):\n",
    "        #     print(f\"Binding {i}: address={int(buf)}\")\n",
    "      \n",
    "      \n",
    "           \n",
    "      \n",
    "        # Указываем правильные bindings        \n",
    "        self.context.execute_v2(bindings=[\n",
    "            int(self.d_template_list),     # 0\n",
    "            int(self.d_search_list),       # 1\n",
    "            int(self.d_template_anno_list),# 2\n",
    "            int(self.d_unsqueeze_3),       # 3\n",
    "            int(self.d_unsqueeze_4),       # 4\n",
    "            int(self.d_unsqueeze_5),       # 5\n",
    "            int(self.d_unsqueeze_6),       # 6\n",
    "            int(self.d_unsqueeze_7),       # 7\n",
    "            int(self.d_unsqueeze_8),       # 8\n",
    "            int(self.d_unsqueeze_9),       # 9\n",
    "            int(self.d_unsqueeze_10),      # 10\n",
    "            int(self.d_pred_boxes),       # 11\n",
    "            int(self.d_score_map),        # 12\n",
    "            int(self.d_size_map),         # 13\n",
    "            int(self.d_offset_map)        # 14\n",
    "        ])\n",
    "        \n",
    "        # Копируем результат с GPU\n",
    "        pred_boxes = np.empty([1, 1, 4], dtype=np.float32)\n",
    "        # print(pred_boxes)\n",
    "        cuda.memcpy_dtoh(pred_boxes, self.d_pred_boxes)\n",
    "        \n",
    "        score_map = np.empty([1, 1, 14, 14], dtype=np.float32)\n",
    "        cuda.memcpy_dtoh(score_map, self.d_score_map)\n",
    "\n",
    "        size_map = np.empty([1, 2, 14, 14], dtype=np.float32)\n",
    "        cuda.memcpy_dtoh(size_map, self.d_size_map)\n",
    "\n",
    "        offset_map = np.empty([1, 2, 14, 14], dtype=np.float32)\n",
    "        cuda.memcpy_dtoh(offset_map, self.d_offset_map)\n",
    "\n",
    "        return pred_boxes, score_map, size_map, offset_map\n",
    "        \n",
    "    def initialize(self, image, info: dict):        \n",
    "        z_patch_arr, resize_factor = sample_target(image, info['init_bbox'], \n",
    "                                self.params.template_factor,\n",
    "                                output_sz=self.params.template_size)\n",
    "        \n",
    "        # Шаблон (хранится как тензор на CPU)\n",
    "        self.template = self.preprocessor.process(z_patch_arr)\n",
    "        self.template_list = [self.template] * self.num_template  # Список тензоров\n",
    "        \n",
    "        # Аннотации (хранятся как тензоры на CPU)\n",
    "        prev_box_crop = transform_image_to_crop(torch.tensor(info['init_bbox']),\n",
    "                                            torch.tensor(info['init_bbox']),\n",
    "                                            resize_factor,\n",
    "                                            torch.Tensor([self.params.template_size, \n",
    "                                                        self.params.template_size]),\n",
    "                                            normalize=True)\n",
    "        self.template_anno_list = [prev_box_crop.unsqueeze(0)] * self.num_template\n",
    "        \n",
    "        self.state = info['init_bbox']\n",
    "        self.frame_id = 0\n",
    "\n",
    "\n",
    "    def track(self, image, info: dict = None):              \n",
    "        H, W, _ = image.shape\n",
    "        self.frame_id += 1\n",
    "\n",
    "        x_patch_arr, resize_factor = sample_target(image, self.state, \n",
    "                                                self.params.search_factor,\n",
    "                                                output_sz=self.params.search_size)\n",
    "        \n",
    "        # Обрабатываем поисковое изображение и перемещаем на CPU\n",
    "        search = self.preprocessor.process(x_patch_arr)\n",
    "        search_list = [search]\n",
    "    \n",
    "        template_list_np = [t.cpu().numpy() for t in self.template_list]\n",
    "        search_list_np = [s.cpu().numpy() for s in search_list]\n",
    "        template_anno_list_np = [ta.cpu().numpy() for ta in self.template_anno_list]\n",
    "        \n",
    "        \n",
    "\n",
    "        all_inputs_np = template_list_np + search_list_np + template_anno_list_np\n",
    "\n",
    "        # # Получаем количество тензоров\n",
    "        num_bindings = self.engine.num_io_tensors\n",
    "\n",
    "        # # Собираем информацию о входах\n",
    "        input_names = []\n",
    "        expected_shapes = {}\n",
    "                \n",
    "        for i in range(num_bindings):\n",
    "            name = self.engine.get_tensor_name(i)\n",
    "            \n",
    "            # Проверяем, является ли входом\n",
    "            if hasattr(self.engine, 'binding_is_input'):\n",
    "                is_input = self.engine.binding_is_input(i)\n",
    "            else:\n",
    "                is_input = (self.engine.get_tensor_mode(name) == trt.TensorIOMode.INPUT)\n",
    "            \n",
    "            if is_input:\n",
    "                input_names.append(name)\n",
    "                # Получаем ожидаемую форму входа\n",
    "                if hasattr(self.engine, 'get_binding_shape'):\n",
    "                    expected_shapes[name] = tuple(self.engine.get_binding_shape(i))\n",
    "                else:\n",
    "                    expected_shapes[name] = tuple(self.engine.get_tensor_shape(name))\n",
    "\n",
    "        # print(\"\\nОжидаемые входы модели:\")\n",
    "        # for name, shape in expected_shapes.items():\n",
    "        #     print(f\"{name}: shape={shape}\")\n",
    "\n",
    "        # # Создаем словарь входных данных\n",
    "        input_feed = {name: data for name, data in zip(input_names, all_inputs_np)}\n",
    "\n",
    "        # print(\"\\nФактические передаваемые данные:\")\n",
    "        # for name, data in input_feed.items():\n",
    "        #     print(f\"{name}: shape={data.shape} vs Ожидается: {expected_shapes[name]}\")\n",
    "        #     if data.shape != expected_shapes[name]:\n",
    "        #         print(f\"  !!! Несоответствие размеров для входа {name} !!!\")\n",
    "                        \n",
    "\n",
    "        outputs = self.predict(input_feed)        \n",
    "         # Преобразуем выходы в torch тензоры и перемещаем на GPU\n",
    "        pred_boxes = torch.from_numpy(outputs[0]).cuda()\n",
    "        score_map = torch.from_numpy(outputs[1]).cuda()\n",
    "        size_map = torch.from_numpy(outputs[2]).cuda()\n",
    "        offset_map = torch.from_numpy(outputs[3]).cuda()\n",
    "\n",
    "        out_dict = {\n",
    "            'pred_boxes': pred_boxes,\n",
    "            'score_map': score_map,\n",
    "            'size_map': size_map,\n",
    "            'offset_map': offset_map\n",
    "        }\n",
    "\n",
    "        # Обработка результатов с учетом CUDA тензоров\n",
    "        pred_score_map = out_dict['score_map']\n",
    "        if self.cfg[\"TEST\"][\"WINDOW\"]:\n",
    "            # Убедимся, что output_window тоже на GPU\n",
    "            if not self.output_window.is_cuda:\n",
    "                self.output_window = self.output_window.cuda()\n",
    "            response = self.output_window * pred_score_map\n",
    "        else:\n",
    "            response = pred_score_map\n",
    "\n",
    "        pred_boxes, conf_score = cal_bbox(response, out_dict['size_map'], out_dict['offset_map'])\n",
    "        pred_boxes = pred_boxes.view(-1, 4)\n",
    "        \n",
    "        # Перемещаем вычисления на CPU для окончательного результата\n",
    "        pred_box = (pred_boxes.mean(dim=0) * self.params.search_size / resize_factor).cpu().numpy().tolist()\n",
    "        \n",
    "        self.state = clip_box(self.map_box_back(pred_box, resize_factor), H, W, margin=10)        \n",
    "\n",
    "        return {\n",
    "            \"target_bbox\": self.state,\n",
    "            \"best_score\": conf_score.cpu().item() if conf_score.is_cuda else conf_score\n",
    "        }\n",
    "    \n",
    "    def map_box_back(self, pred_box: list, resize_factor: float):\n",
    "        cx_prev, cy_prev = self.state[0] + 0.5 * self.state[2], self.state[1] + 0.5 * self.state[3]\n",
    "        cx, cy, w, h = pred_box\n",
    "        half_side = 0.5 * self.params.search_size / resize_factor\n",
    "        cx_real = cx + (cx_prev - half_side)\n",
    "        cy_real = cy + (cy_prev - half_side)\n",
    "        return [cx_real - 0.5 * w, cy_real - 0.5 * h, w, h]\n",
    "\n",
    "    def map_box_back_batch(self, pred_box: torch.Tensor, resize_factor: float):\n",
    "        cx_prev, cy_prev = self.state[0] + 0.5 * self.state[2], self.state[1] + 0.5 * self.state[3]\n",
    "        cx, cy, w, h = pred_box.unbind(-1)\n",
    "        half_side = 0.5 * self.params.search_size / resize_factor\n",
    "        cx_real = cx + (cx_prev - half_side)\n",
    "        cy_real = cy + (cy_prev - half_side)\n",
    "        return torch.stack([cx_real - 0.5 * w, cy_real - 0.5 * h, w, h], dim=-1)\n"
   ]
  },
  {
   "cell_type": "code",
   "execution_count": 84,
   "metadata": {},
   "outputs": [
    {
     "name": "stdout",
     "output_type": "stream",
     "text": [
      "Engine initialized: True\n",
      "Context created: True\n",
      "CUDA buffers allocated: True\n",
      "Current CUDA context: <pycuda._driver.Context object at 0x0000014B4D97BD80>\n"
     ]
    }
   ],
   "source": [
    "tracker = MCITRACK(params)"
   ]
  },
  {
   "cell_type": "code",
   "execution_count": 85,
   "metadata": {},
   "outputs": [],
   "source": [
    "# Трекинг по видео\n",
    "file = \"0516.mp4\"\n",
    "video = cv2.VideoCapture(file)\n",
    "ok, image = video.read()\n",
    "if not video.isOpened():\n",
    "    print(\"Could not open video\")\n",
    "    sys.exit()\n",
    "    \n",
    "image = cv2.cvtColor(image, cv2.COLOR_BGR2RGB)\n",
    "\n",
    "x, y, w, h = cv2.selectROI( image, fromCenter=False)\n",
    "init_state = [x, y, w, h]\n",
    "def _build_init_info(box):\n",
    "            return {'init_bbox': box}\n",
    "tracker.initialize(image, _build_init_info(init_state))\n",
    "counter = 0\n",
    "while True:\n",
    "    ok, image = video.read()\n",
    "    if not ok:\n",
    "        break\n",
    "\n",
    "    # Конвертация для трекера\n",
    "    tracker_image = cv2.cvtColor(image, cv2.COLOR_BGR2RGB)\n",
    "    \n",
    "    # Трекинг\n",
    "    start_time = time.time()\n",
    "    out = tracker.track(tracker_image)\n",
    "    state = [int(s) for s in out['target_bbox']]\n",
    "    #best_score = out[\"best_score\"]\n",
    "    best_score = 1\n",
    "    fps = 1 / (time.time() - start_time + 1e-6)\n",
    "\n",
    "    # Визуализация\n",
    "    display_image = image.copy()\n",
    "    x, y, w, h = state\n",
    "    \n",
    "    # Динамический цвет рамки в зависимости от уверенности\n",
    "    color = (0, 255, 0) if best_score > 0.7 else (0, 255, 255) if best_score > 0.4 else (0, 0, 255)\n",
    "    thickness = 3 if best_score > 0.7 else 2\n",
    "    \n",
    "    # Рисуем bounding box с увеличенными размерами\n",
    "    cv2.rectangle(display_image, (x, y), (x + w, y + h), color, thickness)\n",
    "    \n",
    "    # Добавляем информационный текст\n",
    "    cv2.putText(display_image, f\"Score: {best_score:.2f}\", (x, y-10), \n",
    "                cv2.FONT_HERSHEY_SIMPLEX, 0.7, color, 2)\n",
    "    cv2.putText(display_image, f\"FPS: {fps:.1f}\", (20, 40), \n",
    "                cv2.FONT_HERSHEY_SIMPLEX, 0.8, (255, 255, 255), 2)\n",
    "    \n",
    "    cv2.imshow(\"tracking\", display_image)\n",
    "    \n",
    "    # Обработка клавиш\n",
    "    key = cv2.waitKey(1) & 0xFF\n",
    "    if key == 32:  # SPACE - переинициализация\n",
    "        x, y, w, h = cv2.selectROI(\"Select ROI\", image, fromCenter=False)\n",
    "        if w > 10 and h > 10:  # Минимальный размер ROI\n",
    "            init_state = [x, y, w, h]\n",
    "            print(\"Переинициализация...\")\n",
    "            tracker.initialize(tracker_image, _build_init_info(init_state))\n",
    "    elif key == 27:  # ESC - выход\n",
    "        break\n",
    "cv2.destroyAllWindows()"
   ]
  },
  {
   "cell_type": "code",
   "execution_count": 86,
   "metadata": {},
   "outputs": [],
   "source": [
    "#Метрики\n",
    "import numpy as np\n",
    "\n",
    "def iou(boxA, boxB):\n",
    "    # boxA, boxB: [x, y, w, h]\n",
    "    xA = max(boxA[0], boxB[0])\n",
    "    yA = max(boxA[1], boxB[1])\n",
    "    xB = min(boxA[0] + boxA[2], boxB[0] + boxB[2])\n",
    "    yB = min(boxA[1] + boxA[3], boxB[1] + boxB[3])\n",
    "\n",
    "    interW = max(0, xB - xA)\n",
    "    interH = max(0, yB - yA)\n",
    "    interArea = interW * interH\n",
    "\n",
    "    boxAArea = boxA[2] * boxA[3]\n",
    "    boxBArea = boxB[2] * boxB[3]\n",
    "    unionArea = boxAArea + boxBArea - interArea\n",
    "\n",
    "    if unionArea == 0:\n",
    "        return 0.0\n",
    "    return interArea / unionArea\n",
    "\n",
    "def precision(boxA, boxB):\n",
    "    # центры bbox\n",
    "    centerA = (boxA[0] + boxA[2]/2, boxA[1] + boxA[3]/2)\n",
    "    centerB = (boxB[0] + boxB[2]/2, boxB[1] + boxB[3]/2)\n",
    "    dist = np.sqrt((centerA[0] - centerB[0])**2 + (centerA[1] - centerB[1])**2)\n",
    "    return dist\n",
    "sr_thresh = 0.5\n",
    "prec_thresh = 20"
   ]
  },
  {
   "cell_type": "code",
   "execution_count": 87,
   "metadata": {},
   "outputs": [
    {
     "name": "stdout",
     "output_type": "stream",
     "text": [
      "GOT: val/GOT-10k_Val_000001\n",
      "FPS_TRT: 30.69\n",
      "Success Rate (SR@0.5)_TRT: 1.00\n",
      "Average Overlap (AO)_TRT: 0.93\n",
      "Precision @20px_TRT: 0.97\n"
     ]
    }
   ],
   "source": [
    "#Трекинг got10k с метриками ONNX\n",
    "import glob\n",
    "import time\n",
    "import  os\n",
    "gt_bboxes = []\n",
    "pred_bboxes = []\n",
    "seq_path = \"val/GOT-10k_Val_000001\"\n",
    "txt_files = glob.glob(os.path.join(seq_path, '*.txt'))\n",
    "if not txt_files:\n",
    "    raise FileNotFoundError(f\"No .txt files found in {seq_path}\")\n",
    "\n",
    "img_files = sorted(glob.glob(os.path.join(seq_path, '*.jpg')))\n",
    "with open(txt_files[0], 'r') as f:\n",
    "    gt_bboxes = [list(map(float, line.strip().split(','))) for line in f]\n",
    "\n",
    "# Получаем размер первого изображения\n",
    "sample_img = cv2.imread(img_files[0])\n",
    "if sample_img is None:\n",
    "    raise ValueError(f\"Failed to read sample image: {img_files[0]}\")\n",
    "\n",
    "#height, width = sample_img.shape[:2]\n",
    "#fourcc = cv2.VideoWriter_fourcc(*'XVID')\n",
    "#output_filename = f\"{seq_path.split('/')[-1]}_output.avi\"\n",
    "#video_vriter = cv2.VideoWriter(output_filename, fourcc, 10, (width, height))  \n",
    "\n",
    "assert len(img_files) == len(gt_bboxes), \"Количество кадров и bbox'ов не совпадает\"\n",
    "\n",
    "x, y, w, h = map(int, gt_bboxes[0])\n",
    "init_state = [x, y, w, h]\n",
    "\n",
    "def _build_init_info(box):\n",
    "            return {'init_bbox': box}\n",
    "\n",
    "counter = 0\n",
    "\n",
    "\n",
    "tracker.initialize(sample_img, _build_init_info(init_state))\n",
    "\n",
    "start_time = time.time()  # Начало замера\n",
    "\n",
    "for img_file, bbox in zip(img_files, gt_bboxes):\n",
    "        \n",
    "        # Читаем изображение\n",
    "        img = cv2.imread(img_file)\n",
    "        if img is None:\n",
    "            print(f\"Не удалось загрузить изображение: {img_file}\")\n",
    "            continue\n",
    "        \n",
    "        \n",
    "        out  = tracker.track(img)\n",
    "        state = [int(s) for s in out['target_bbox']]   \n",
    "                           \n",
    "        # Рисуем bounding box        \n",
    "        x, y, w, h = [int(x) for x in state]\n",
    "\n",
    "        cv2.rectangle(img, (x, y), (x + w, y + h), (0, 0, 200), 2)\n",
    "        \n",
    "        x1, y1, w1, h1 = map(int, bbox)\n",
    "        cv2.rectangle(img, (x1, y1), (x1+w1, y1+h1), (0, 200, 0), 2)\n",
    "        bbox_pred = x, y, w, h\n",
    "        \n",
    "        gt_bboxes.append(bbox)\n",
    "        pred_bboxes.append(bbox_pred)\n",
    "\n",
    "        #cv2.imshow(seq_path, img)\n",
    "        #video_vriter.write(img)\n",
    "        counter+=1\n",
    "\n",
    "\n",
    "        # Выход по нажатию 'q' или ESC\n",
    "        key = cv2.waitKey(1) & 0xFF\n",
    "        if key == ord('q') or key == 27:\n",
    "            break\n",
    "       \n",
    "        \n",
    "                \n",
    "end_time = time.time()    # Конец замера    \n",
    "total_frames = counter       # Общее количество обработанных кадров\n",
    "total_time = end_time - start_time\n",
    "fps = total_frames / total_time\n",
    "ious = [iou(gt, pred) for gt, pred in zip(gt_bboxes, pred_bboxes)]\n",
    "ao = np.mean(ious)\n",
    "sr = np.mean([1 if val >= sr_thresh else 0 for val in ious])\n",
    "precisions = [precision(gt, pred) for gt, pred in zip(gt_bboxes, pred_bboxes)]\n",
    "prec = np.mean([1 if d <= prec_thresh else 0 for d in precisions])\n",
    "\n",
    "print(f\"GOT: {seq_path}\")\n",
    "print(f\"FPS_TRT: {fps:.2f}\")\n",
    "print(f'Success Rate (SR@0.5)_TRT: {sr:.2f}')\n",
    "print(f'Average Overlap (AO)_TRT: {ao:.2f}')\n",
    "print(f'Precision @20px_TRT: {prec:.2f}')\n",
    "\n",
    "#cv2.destroyAllWindows()\n",
    "#video_vriter.release()\n",
    "#print(f\"Video saved as: {output_filename}\")"
   ]
  },
  {
   "cell_type": "code",
   "execution_count": null,
   "metadata": {},
   "outputs": [],
   "source": [
    "#Создание TRT-модели\n",
    "import tensorrt as trt\n",
    "import os\n",
    "\n",
    "def build_engine(onnx_file_path, engine_file_path, precision=\"FP32\", max_batch_size=1, max_workspace_size=1<<30):\n",
    "    \"\"\"\n",
    "    Конвертирует ONNX модель в TensorRT engine (для TensorRT 8.0+)\n",
    "    \n",
    "    Параметры:\n",
    "        onnx_file_path: путь к файлу ONNX модели\n",
    "        engine_file_path: путь для сохранения engine\n",
    "        precision: \"FP32\", \"FP16\" или \"INT8\"\n",
    "        max_batch_size: максимальный размер батча\n",
    "        max_workspace_size: максимальный размер рабочей памяти (в байтах)\n",
    "    \"\"\"\n",
    "    TRT_LOGGER = trt.Logger(trt.Logger.WARNING)\n",
    "    explicit_batch = 1 << (int)(trt.NetworkDefinitionCreationFlag.EXPLICIT_BATCH)\n",
    "    \n",
    "    # Инициализация builder, сети и конфига\n",
    "    with trt.Builder(TRT_LOGGER) as builder, \\\n",
    "         builder.create_network(explicit_batch) as network, \\\n",
    "         trt.OnnxParser(network, TRT_LOGGER) as parser, \\\n",
    "         builder.create_builder_config() as config:\n",
    "        \n",
    "        # Установка максимального размера рабочей памяти\n",
    "        config.set_memory_pool_limit(trt.MemoryPoolType.WORKSPACE, max_workspace_size)\n",
    "        \n",
    "        # Установка precision mode\n",
    "        if precision == \"FP16\":\n",
    "            config.set_flag(trt.BuilderFlag.FP16)\n",
    "        elif precision == \"INT8\":\n",
    "            config.set_flag(trt.BuilderFlag.FP16)\n",
    "            config.set_flag(trt.BuilderFlag.INT8)\n",
    "            # Для INT8 требуется калибровочный набор данных\n",
    "            # config.int8_calibrator = ... \n",
    "        \n",
    "        # Проверка поддержки precision\n",
    "        if precision == \"FP16\" and not builder.platform_has_fast_fp16:\n",
    "            print(\"FP16 не поддерживается на этой платформе\")\n",
    "        if precision == \"INT8\" and not builder.platform_has_fast_int8:\n",
    "            print(\"INT8 не поддерживается на этой платформе\")\n",
    "        \n",
    "        # Загрузка ONNX модели\n",
    "        print(f\"Загрузка ONNX модели из файла {onnx_file_path}\")\n",
    "        with open(onnx_file_path, \"rb\") as model:\n",
    "            if not parser.parse(model.read()):\n",
    "                print(\"Ошибка при парсинге ONNX модели\")\n",
    "                for error in range(parser.num_errors):\n",
    "                    print(parser.get_error(error))\n",
    "                return None\n",
    "        \n",
    "        # Оптимизация и создание engine\n",
    "        print(\"Строим TensorRT engine. Это может занять некоторое время...\")\n",
    "        \n",
    "        # Установка максимального размера батча\n",
    "        # В новых версиях это делается через профиль оптимизации\n",
    "        profile = builder.create_optimization_profile()\n",
    "        input_tensor = network.get_input(0)\n",
    "        input_shape = input_tensor.shape\n",
    "        profile.set_shape(input_tensor.name, \n",
    "                        (1, *input_shape[1:]),  # min shape\n",
    "                        (max_batch_size, *input_shape[1:]),  # opt shape\n",
    "                        (max_batch_size, *input_shape[1:]))  # max shape\n",
    "        config.add_optimization_profile(profile)\n",
    "        \n",
    "        # Построение engine\n",
    "        serialized_engine = builder.build_serialized_network(network, config)\n",
    "        \n",
    "        if serialized_engine is None:\n",
    "            print(\"Ошибка при создании engine\")\n",
    "            return None\n",
    "        \n",
    "        # Сохранение engine в файл\n",
    "        print(f\"Сохранение engine в файл {engine_file_path}\")\n",
    "        with open(engine_file_path, \"wb\") as f:\n",
    "            f.write(serialized_engine)\n",
    "        \n",
    "        # Возвращаем десериализованный engine для использования\n",
    "        runtime = trt.Runtime(TRT_LOGGER)\n",
    "        return runtime.deserialize_cuda_engine(serialized_engine)\n",
    "\n",
    "def convert_onnx_to_tensorrt(onnx_path, trt_path, precision=\"FP32\"):\n",
    "    \"\"\"\n",
    "    Основная функция конвертации\n",
    "    \"\"\"\n",
    "    # Проверка существования ONNX файла\n",
    "    if not os.path.exists(onnx_path):\n",
    "        print(f\"Файл {onnx_path} не найден\")\n",
    "        return False\n",
    "    \n",
    "    print(f\"Начинаем конвертацию {onnx_path} в TensorRT engine\")\n",
    "    \n",
    "    # Построение engine\n",
    "    engine = build_engine(onnx_path, trt_path, precision)\n",
    "    \n",
    "    if engine is not None:\n",
    "        print(\"Конвертация успешно завершена!\")\n",
    "        return True\n",
    "    else:\n",
    "        print(\"Конвертация не удалась\")\n",
    "        return False\n",
    "\n",
    "# Пример использования\n",
    "if __name__ == \"__main__\":\n",
    "    onnx_model_path = \"MCITrack1.onnx\"  # Путь к вашей ONNX модели\n",
    "    trt_engine_path = \"MCITrack2.trt\"   # Куда сохранить TensorRT engine\n",
    "    \n",
    "    # Доступные precision: \"FP32\", \"FP16\", \"INT8\"\n",
    "    precision_mode = \"FP16\"  \n",
    "    \n",
    "    success = convert_onnx_to_tensorrt(onnx_model_path, trt_engine_path, precision_mode)\n",
    "    \n",
    "    if success:\n",
    "        print(f\"TensorRT engine успешно сохранен в {trt_engine_path}\")\n",
    "    else:\n",
    "        print(\"Ошибка при конвертации модели\")"
   ]
  },
  {
   "cell_type": "code",
   "execution_count": 88,
   "metadata": {},
   "outputs": [
    {
     "name": "stderr",
     "output_type": "stream",
     "text": [
      "  1%|          | 1/181 [00:01<05:57,  1.98s/it]"
     ]
    },
    {
     "name": "stdout",
     "output_type": "stream",
     "text": [
      "folder=GOT-10k_Val_000001, fps=30, sr=1.0, ao=0.9308292830725964, prec=0.9666666666666667\n"
     ]
    },
    {
     "name": "stderr",
     "output_type": "stream",
     "text": [
      "  1%|          | 2/181 [00:04<06:24,  2.15s/it]"
     ]
    },
    {
     "name": "stdout",
     "output_type": "stream",
     "text": [
      "folder=GOT-10k_Val_000002, fps=44, sr=1.0, ao=0.9606849738221703, prec=1.0\n"
     ]
    },
    {
     "name": "stderr",
     "output_type": "stream",
     "text": [
      "  2%|▏         | 3/181 [00:06<06:51,  2.31s/it]"
     ]
    },
    {
     "name": "stdout",
     "output_type": "stream",
     "text": [
      "folder=GOT-10k_Val_000003, fps=32, sr=1.0, ao=0.8763794002605418, prec=0.95\n"
     ]
    },
    {
     "name": "stderr",
     "output_type": "stream",
     "text": [
      "  2%|▏         | 4/181 [00:08<05:56,  2.01s/it]"
     ]
    },
    {
     "name": "stdout",
     "output_type": "stream",
     "text": [
      "folder=GOT-10k_Val_000004, fps=59, sr=1.0, ao=0.8703114614302359, prec=1.0\n"
     ]
    },
    {
     "name": "stderr",
     "output_type": "stream",
     "text": [
      "  3%|▎         | 5/181 [00:10<06:24,  2.19s/it]"
     ]
    },
    {
     "name": "stdout",
     "output_type": "stream",
     "text": [
      "folder=GOT-10k_Val_000005, fps=32, sr=1.0, ao=0.9595240107804756, prec=0.9875\n"
     ]
    },
    {
     "name": "stderr",
     "output_type": "stream",
     "text": [
      "  3%|▎         | 6/181 [00:13<06:42,  2.30s/it]"
     ]
    },
    {
     "name": "stdout",
     "output_type": "stream",
     "text": [
      "folder=GOT-10k_Val_000006, fps=32, sr=1.0, ao=0.9261298256003684, prec=0.9875\n"
     ]
    },
    {
     "name": "stderr",
     "output_type": "stream",
     "text": [
      "  4%|▍         | 7/181 [00:16<07:26,  2.57s/it]"
     ]
    },
    {
     "name": "stdout",
     "output_type": "stream",
     "text": [
      "folder=GOT-10k_Val_000007, fps=32, sr=1.0, ao=0.8881653141680842, prec=0.85\n"
     ]
    },
    {
     "name": "stderr",
     "output_type": "stream",
     "text": [
      "  4%|▍         | 8/181 [00:19<07:42,  2.67s/it]"
     ]
    },
    {
     "name": "stdout",
     "output_type": "stream",
     "text": [
      "folder=GOT-10k_Val_000008, fps=31, sr=0.6777777777777778, ao=0.6789118035126502, prec=0.5777777777777777\n"
     ]
    },
    {
     "name": "stderr",
     "output_type": "stream",
     "text": [
      "  5%|▍         | 9/181 [00:22<08:03,  2.81s/it]"
     ]
    },
    {
     "name": "stdout",
     "output_type": "stream",
     "text": [
      "folder=GOT-10k_Val_000009, fps=32, sr=1.0, ao=0.8907656511998541, prec=0.59\n"
     ]
    },
    {
     "name": "stderr",
     "output_type": "stream",
     "text": [
      "  6%|▌         | 10/181 [00:25<08:15,  2.90s/it]"
     ]
    },
    {
     "name": "stdout",
     "output_type": "stream",
     "text": [
      "folder=GOT-10k_Val_000010, fps=32, sr=1.0, ao=0.9341624441794548, prec=0.8585858585858586\n"
     ]
    },
    {
     "name": "stderr",
     "output_type": "stream",
     "text": [
      "  6%|▌         | 11/181 [00:28<08:25,  2.97s/it]"
     ]
    },
    {
     "name": "stdout",
     "output_type": "stream",
     "text": [
      "folder=GOT-10k_Val_000011, fps=32, sr=0.69, ao=0.6377834386777634, prec=0.39\n"
     ]
    },
    {
     "name": "stderr",
     "output_type": "stream",
     "text": [
      "  7%|▋         | 12/181 [00:30<07:42,  2.74s/it]"
     ]
    },
    {
     "name": "stdout",
     "output_type": "stream",
     "text": [
      "folder=GOT-10k_Val_000012, fps=32, sr=1.0, ao=0.8794558854154066, prec=0.4\n"
     ]
    },
    {
     "name": "stderr",
     "output_type": "stream",
     "text": [
      "  7%|▋         | 13/181 [00:32<06:43,  2.40s/it]"
     ]
    },
    {
     "name": "stdout",
     "output_type": "stream",
     "text": [
      "folder=GOT-10k_Val_000013, fps=62, sr=1.0, ao=0.8452422467506833, prec=0.95\n"
     ]
    },
    {
     "name": "stderr",
     "output_type": "stream",
     "text": [
      "  8%|▊         | 14/181 [00:34<05:59,  2.15s/it]"
     ]
    },
    {
     "name": "stdout",
     "output_type": "stream",
     "text": [
      "folder=GOT-10k_Val_000014, fps=64, sr=0.85, ao=0.7580031830256289, prec=0.85\n"
     ]
    },
    {
     "name": "stderr",
     "output_type": "stream",
     "text": [
      "  8%|▊         | 15/181 [00:35<05:43,  2.07s/it]"
     ]
    },
    {
     "name": "stdout",
     "output_type": "stream",
     "text": [
      "folder=GOT-10k_Val_000015, fps=64, sr=1.0, ao=0.9432864845914495, prec=1.0\n"
     ]
    },
    {
     "name": "stderr",
     "output_type": "stream",
     "text": [
      "  9%|▉         | 16/181 [00:37<05:28,  1.99s/it]"
     ]
    },
    {
     "name": "stdout",
     "output_type": "stream",
     "text": [
      "folder=GOT-10k_Val_000016, fps=55, sr=0.9, ao=0.762292050917692, prec=0.64\n"
     ]
    },
    {
     "name": "stderr",
     "output_type": "stream",
     "text": [
      "  9%|▉         | 17/181 [00:40<06:19,  2.32s/it]"
     ]
    },
    {
     "name": "stdout",
     "output_type": "stream",
     "text": [
      "folder=GOT-10k_Val_000017, fps=33, sr=0.56, ao=0.5436173731934706, prec=0.34\n"
     ]
    },
    {
     "name": "stderr",
     "output_type": "stream",
     "text": [
      " 10%|▉         | 18/181 [00:43<06:52,  2.53s/it]"
     ]
    },
    {
     "name": "stdout",
     "output_type": "stream",
     "text": [
      "folder=GOT-10k_Val_000018, fps=33, sr=1.0, ao=0.9208419028676689, prec=1.0\n"
     ]
    },
    {
     "name": "stderr",
     "output_type": "stream",
     "text": [
      " 10%|█         | 19/181 [00:46<07:17,  2.70s/it]"
     ]
    },
    {
     "name": "stdout",
     "output_type": "stream",
     "text": [
      "folder=GOT-10k_Val_000019, fps=32, sr=0.99, ao=0.8820925721561579, prec=0.76\n"
     ]
    },
    {
     "name": "stderr",
     "output_type": "stream",
     "text": [
      " 11%|█         | 20/181 [00:48<06:25,  2.40s/it]"
     ]
    },
    {
     "name": "stdout",
     "output_type": "stream",
     "text": [
      "folder=GOT-10k_Val_000020, fps=58, sr=0.23469387755102042, ao=0.18190839461261754, prec=0.29591836734693877\n"
     ]
    },
    {
     "name": "stderr",
     "output_type": "stream",
     "text": [
      " 12%|█▏        | 21/181 [00:50<05:57,  2.23s/it]"
     ]
    },
    {
     "name": "stdout",
     "output_type": "stream",
     "text": [
      "folder=GOT-10k_Val_000021, fps=59, sr=0.8636363636363636, ao=0.7062773177131718, prec=0.9181818181818182\n"
     ]
    },
    {
     "name": "stderr",
     "output_type": "stream",
     "text": [
      " 12%|█▏        | 22/181 [00:52<05:30,  2.08s/it]"
     ]
    },
    {
     "name": "stdout",
     "output_type": "stream",
     "text": [
      "folder=GOT-10k_Val_000022, fps=58, sr=1.0, ao=0.8926683586417131, prec=0.99\n"
     ]
    },
    {
     "name": "stderr",
     "output_type": "stream",
     "text": [
      " 13%|█▎        | 23/181 [00:53<04:54,  1.87s/it]"
     ]
    },
    {
     "name": "stdout",
     "output_type": "stream",
     "text": [
      "folder=GOT-10k_Val_000023, fps=58, sr=0.9875, ao=0.8457026554308676, prec=1.0\n"
     ]
    },
    {
     "name": "stderr",
     "output_type": "stream",
     "text": [
      " 13%|█▎        | 24/181 [00:56<05:38,  2.16s/it]"
     ]
    },
    {
     "name": "stdout",
     "output_type": "stream",
     "text": [
      "folder=GOT-10k_Val_000024, fps=35, sr=0.96, ao=0.8274008001664224, prec=0.59\n"
     ]
    },
    {
     "name": "stderr",
     "output_type": "stream",
     "text": [
      " 14%|█▍        | 25/181 [00:58<05:22,  2.07s/it]"
     ]
    },
    {
     "name": "stdout",
     "output_type": "stream",
     "text": [
      "folder=GOT-10k_Val_000025, fps=59, sr=0.9363636363636364, ao=0.8235315141301992, prec=0.9636363636363636\n"
     ]
    },
    {
     "name": "stderr",
     "output_type": "stream",
     "text": [
      " 14%|█▍        | 26/181 [00:59<05:01,  1.95s/it]"
     ]
    },
    {
     "name": "stdout",
     "output_type": "stream",
     "text": [
      "folder=GOT-10k_Val_000026, fps=59, sr=1.0, ao=0.8447502476091013, prec=0.98989898989899\n"
     ]
    },
    {
     "name": "stderr",
     "output_type": "stream",
     "text": [
      " 15%|█▍        | 27/181 [01:03<05:56,  2.32s/it]"
     ]
    },
    {
     "name": "stdout",
     "output_type": "stream",
     "text": [
      "folder=GOT-10k_Val_000027, fps=32, sr=0.99, ao=0.7808902227525276, prec=0.15\n"
     ]
    },
    {
     "name": "stderr",
     "output_type": "stream",
     "text": [
      " 15%|█▌        | 28/181 [01:05<06:09,  2.41s/it]"
     ]
    },
    {
     "name": "stdout",
     "output_type": "stream",
     "text": [
      "folder=GOT-10k_Val_000028, fps=57, sr=0.9866666666666667, ao=0.8836503217613305, prec=0.76\n"
     ]
    },
    {
     "name": "stderr",
     "output_type": "stream",
     "text": [
      " 16%|█▌        | 29/181 [01:09<06:54,  2.73s/it]"
     ]
    },
    {
     "name": "stdout",
     "output_type": "stream",
     "text": [
      "folder=GOT-10k_Val_000029, fps=35, sr=1.0, ao=0.9345544455058107, prec=1.0\n"
     ]
    },
    {
     "name": "stderr",
     "output_type": "stream",
     "text": [
      " 17%|█▋        | 30/181 [01:12<07:13,  2.87s/it]"
     ]
    },
    {
     "name": "stdout",
     "output_type": "stream",
     "text": [
      "folder=GOT-10k_Val_000030, fps=34, sr=0.990909090909091, ao=0.9012139983545985, prec=0.9\n"
     ]
    },
    {
     "name": "stderr",
     "output_type": "stream",
     "text": [
      " 17%|█▋        | 31/181 [01:14<06:16,  2.51s/it]"
     ]
    },
    {
     "name": "stdout",
     "output_type": "stream",
     "text": [
      "folder=GOT-10k_Val_000031, fps=60, sr=1.0, ao=0.9188501520700947, prec=1.0\n"
     ]
    },
    {
     "name": "stderr",
     "output_type": "stream",
     "text": [
      " 18%|█▊        | 32/181 [01:16<05:52,  2.36s/it]"
     ]
    },
    {
     "name": "stdout",
     "output_type": "stream",
     "text": [
      "folder=GOT-10k_Val_000032, fps=50, sr=1.0, ao=0.9460141148654341, prec=1.0\n"
     ]
    },
    {
     "name": "stderr",
     "output_type": "stream",
     "text": [
      " 18%|█▊        | 33/181 [01:18<05:33,  2.25s/it]"
     ]
    },
    {
     "name": "stdout",
     "output_type": "stream",
     "text": [
      "folder=GOT-10k_Val_000033, fps=50, sr=0.85, ao=0.6400485472703851, prec=0.83\n"
     ]
    },
    {
     "name": "stderr",
     "output_type": "stream",
     "text": [
      " 19%|█▉        | 34/181 [01:19<05:02,  2.06s/it]"
     ]
    },
    {
     "name": "stdout",
     "output_type": "stream",
     "text": [
      "folder=GOT-10k_Val_000034, fps=50, sr=0.675, ao=0.5168845944647369, prec=0.625\n"
     ]
    },
    {
     "name": "stderr",
     "output_type": "stream",
     "text": [
      " 19%|█▉        | 35/181 [01:20<04:21,  1.79s/it]"
     ]
    },
    {
     "name": "stdout",
     "output_type": "stream",
     "text": [
      "folder=GOT-10k_Val_000035, fps=60, sr=0.9571428571428572, ao=0.8111739121486983, prec=0.9428571428571428\n"
     ]
    },
    {
     "name": "stderr",
     "output_type": "stream",
     "text": [
      " 20%|█▉        | 36/181 [01:23<04:35,  1.90s/it]"
     ]
    },
    {
     "name": "stdout",
     "output_type": "stream",
     "text": [
      "folder=GOT-10k_Val_000036, fps=33, sr=0.9857142857142858, ao=0.8273063993799733, prec=0.42857142857142855\n"
     ]
    },
    {
     "name": "stderr",
     "output_type": "stream",
     "text": [
      " 20%|██        | 37/181 [01:24<04:16,  1.78s/it]"
     ]
    },
    {
     "name": "stdout",
     "output_type": "stream",
     "text": [
      "folder=GOT-10k_Val_000037, fps=53, sr=1.0, ao=0.8996062421096042, prec=0.95\n"
     ]
    },
    {
     "name": "stderr",
     "output_type": "stream",
     "text": [
      " 21%|██        | 38/181 [01:25<03:54,  1.64s/it]"
     ]
    },
    {
     "name": "stdout",
     "output_type": "stream",
     "text": [
      "folder=GOT-10k_Val_000038, fps=53, sr=1.0, ao=0.9458333903844894, prec=1.0\n"
     ]
    },
    {
     "name": "stderr",
     "output_type": "stream",
     "text": [
      " 22%|██▏       | 39/181 [01:27<03:52,  1.64s/it]"
     ]
    },
    {
     "name": "stdout",
     "output_type": "stream",
     "text": [
      "folder=GOT-10k_Val_000039, fps=56, sr=1.0, ao=0.8436253684662982, prec=0.5888888888888889\n"
     ]
    },
    {
     "name": "stderr",
     "output_type": "stream",
     "text": [
      " 22%|██▏       | 40/181 [01:28<03:32,  1.51s/it]"
     ]
    },
    {
     "name": "stdout",
     "output_type": "stream",
     "text": [
      "folder=GOT-10k_Val_000040, fps=57, sr=1.0, ao=0.7878116015861057, prec=1.0\n"
     ]
    },
    {
     "name": "stderr",
     "output_type": "stream",
     "text": [
      " 23%|██▎       | 41/181 [01:32<04:46,  2.05s/it]"
     ]
    },
    {
     "name": "stdout",
     "output_type": "stream",
     "text": [
      "folder=GOT-10k_Val_000041, fps=30, sr=1.0, ao=0.7685705081139952, prec=0.13\n"
     ]
    },
    {
     "name": "stderr",
     "output_type": "stream",
     "text": [
      " 23%|██▎       | 42/181 [01:33<04:33,  1.97s/it]"
     ]
    },
    {
     "name": "stdout",
     "output_type": "stream",
     "text": [
      "folder=GOT-10k_Val_000042, fps=56, sr=0.97, ao=0.8669726610145132, prec=0.96\n"
     ]
    },
    {
     "name": "stderr",
     "output_type": "stream",
     "text": [
      " 24%|██▍       | 43/181 [01:36<04:42,  2.05s/it]"
     ]
    },
    {
     "name": "stdout",
     "output_type": "stream",
     "text": [
      "folder=GOT-10k_Val_000043, fps=45, sr=1.0, ao=0.9175731652670932, prec=0.69\n"
     ]
    },
    {
     "name": "stderr",
     "output_type": "stream",
     "text": [
      " 24%|██▍       | 44/181 [01:37<04:20,  1.90s/it]"
     ]
    },
    {
     "name": "stdout",
     "output_type": "stream",
     "text": [
      "folder=GOT-10k_Val_000044, fps=58, sr=1.0, ao=0.8390170653702748, prec=0.5888888888888889\n"
     ]
    },
    {
     "name": "stderr",
     "output_type": "stream",
     "text": [
      " 25%|██▍       | 45/181 [01:39<04:15,  1.88s/it]"
     ]
    },
    {
     "name": "stdout",
     "output_type": "stream",
     "text": [
      "folder=GOT-10k_Val_000045, fps=55, sr=1.0, ao=0.9488104881698528, prec=0.99\n"
     ]
    },
    {
     "name": "stderr",
     "output_type": "stream",
     "text": [
      " 25%|██▌       | 46/181 [01:42<05:07,  2.28s/it]"
     ]
    },
    {
     "name": "stdout",
     "output_type": "stream",
     "text": [
      "folder=GOT-10k_Val_000046, fps=31, sr=0.52, ao=0.44618326857293367, prec=0.1\n"
     ]
    },
    {
     "name": "stderr",
     "output_type": "stream",
     "text": [
      " 26%|██▌       | 47/181 [01:45<05:12,  2.33s/it]"
     ]
    },
    {
     "name": "stdout",
     "output_type": "stream",
     "text": [
      "folder=GOT-10k_Val_000047, fps=29, sr=1.0, ao=0.9459141981278133, prec=0.9285714285714286\n"
     ]
    },
    {
     "name": "stderr",
     "output_type": "stream",
     "text": [
      " 27%|██▋       | 48/181 [01:48<05:44,  2.59s/it]"
     ]
    },
    {
     "name": "stdout",
     "output_type": "stream",
     "text": [
      "folder=GOT-10k_Val_000048, fps=25, sr=0.9875, ao=0.7368762582322557, prec=0.35\n"
     ]
    },
    {
     "name": "stderr",
     "output_type": "stream",
     "text": [
      " 27%|██▋       | 49/181 [01:51<06:07,  2.78s/it]"
     ]
    },
    {
     "name": "stdout",
     "output_type": "stream",
     "text": [
      "folder=GOT-10k_Val_000049, fps=25, sr=0.75, ao=0.6777261387167691, prec=0.5375\n"
     ]
    },
    {
     "name": "stderr",
     "output_type": "stream",
     "text": [
      " 28%|██▊       | 50/181 [01:54<06:13,  2.85s/it]"
     ]
    },
    {
     "name": "stdout",
     "output_type": "stream",
     "text": [
      "folder=GOT-10k_Val_000050, fps=27, sr=1.0, ao=0.8682089427288892, prec=1.0\n"
     ]
    },
    {
     "name": "stderr",
     "output_type": "stream",
     "text": [
      " 28%|██▊       | 51/181 [01:57<06:31,  3.01s/it]"
     ]
    },
    {
     "name": "stdout",
     "output_type": "stream",
     "text": [
      "folder=GOT-10k_Val_000051, fps=27, sr=1.0, ao=0.9454744276013624, prec=0.978021978021978\n"
     ]
    },
    {
     "name": "stderr",
     "output_type": "stream",
     "text": [
      " 29%|██▊       | 52/181 [02:02<07:20,  3.41s/it]"
     ]
    },
    {
     "name": "stdout",
     "output_type": "stream",
     "text": [
      "folder=GOT-10k_Val_000052, fps=23, sr=0.9801980198019802, ao=0.9037675682749995, prec=0.7128712871287128\n"
     ]
    },
    {
     "name": "stderr",
     "output_type": "stream",
     "text": [
      " 29%|██▉       | 53/181 [02:05<07:19,  3.44s/it]"
     ]
    },
    {
     "name": "stdout",
     "output_type": "stream",
     "text": [
      "folder=GOT-10k_Val_000053, fps=29, sr=0.6633663366336634, ao=0.6051645540053984, prec=0.5544554455445545\n"
     ]
    },
    {
     "name": "stderr",
     "output_type": "stream",
     "text": [
      " 30%|██▉       | 54/181 [02:10<08:15,  3.90s/it]"
     ]
    },
    {
     "name": "stdout",
     "output_type": "stream",
     "text": [
      "folder=GOT-10k_Val_000054, fps=24, sr=1.0, ao=0.8850639519405604, prec=0.7\n"
     ]
    },
    {
     "name": "stderr",
     "output_type": "stream",
     "text": [
      " 30%|███       | 55/181 [02:13<07:23,  3.52s/it]"
     ]
    },
    {
     "name": "stdout",
     "output_type": "stream",
     "text": [
      "folder=GOT-10k_Val_000055, fps=27, sr=0.9859154929577465, ao=0.7310731666913483, prec=0.9014084507042254\n"
     ]
    },
    {
     "name": "stderr",
     "output_type": "stream",
     "text": [
      " 31%|███       | 56/181 [02:15<06:41,  3.21s/it]"
     ]
    },
    {
     "name": "stdout",
     "output_type": "stream",
     "text": [
      "folder=GOT-10k_Val_000056, fps=25, sr=0.015873015873015872, ao=0.027396955997651778, prec=0.015873015873015872\n"
     ]
    },
    {
     "name": "stderr",
     "output_type": "stream",
     "text": [
      " 31%|███▏      | 57/181 [02:18<06:09,  2.98s/it]"
     ]
    },
    {
     "name": "stdout",
     "output_type": "stream",
     "text": [
      "folder=GOT-10k_Val_000057, fps=26, sr=0.59375, ao=0.5470232362909517, prec=0.59375\n"
     ]
    },
    {
     "name": "stderr",
     "output_type": "stream",
     "text": [
      " 32%|███▏      | 58/181 [02:21<06:17,  3.07s/it]"
     ]
    },
    {
     "name": "stdout",
     "output_type": "stream",
     "text": [
      "folder=GOT-10k_Val_000058, fps=21, sr=0.9857142857142858, ao=0.8615475627754672, prec=0.5142857142857142\n"
     ]
    },
    {
     "name": "stderr",
     "output_type": "stream",
     "text": [
      " 33%|███▎      | 59/181 [02:25<06:30,  3.20s/it]"
     ]
    },
    {
     "name": "stdout",
     "output_type": "stream",
     "text": [
      "folder=GOT-10k_Val_000059, fps=27, sr=0.7604166666666666, ao=0.6741718276727647, prec=0.5\n"
     ]
    },
    {
     "name": "stderr",
     "output_type": "stream",
     "text": [
      " 33%|███▎      | 60/181 [02:29<06:59,  3.47s/it]"
     ]
    },
    {
     "name": "stdout",
     "output_type": "stream",
     "text": [
      "folder=GOT-10k_Val_000060, fps=27, sr=0.9727272727272728, ao=0.6562373492746775, prec=0.07272727272727272\n"
     ]
    },
    {
     "name": "stderr",
     "output_type": "stream",
     "text": [
      " 34%|███▎      | 61/181 [02:32<07:02,  3.52s/it]"
     ]
    },
    {
     "name": "stdout",
     "output_type": "stream",
     "text": [
      "folder=GOT-10k_Val_000061, fps=28, sr=1.0, ao=0.9140053300873181, prec=1.0\n"
     ]
    },
    {
     "name": "stderr",
     "output_type": "stream",
     "text": [
      " 34%|███▍      | 62/181 [02:36<06:49,  3.44s/it]"
     ]
    },
    {
     "name": "stdout",
     "output_type": "stream",
     "text": [
      "folder=GOT-10k_Val_000062, fps=31, sr=1.0, ao=0.8571429169456694, prec=0.9603960396039604\n"
     ]
    },
    {
     "name": "stderr",
     "output_type": "stream",
     "text": [
      " 35%|███▍      | 63/181 [02:39<06:55,  3.52s/it]"
     ]
    },
    {
     "name": "stdout",
     "output_type": "stream",
     "text": [
      "folder=GOT-10k_Val_000063, fps=22, sr=0.9876543209876543, ao=0.7676579941546697, prec=0.18518518518518517\n"
     ]
    },
    {
     "name": "stderr",
     "output_type": "stream",
     "text": [
      " 35%|███▌      | 64/181 [02:42<06:22,  3.27s/it]"
     ]
    },
    {
     "name": "stdout",
     "output_type": "stream",
     "text": [
      "folder=GOT-10k_Val_000064, fps=30, sr=0.9876543209876543, ao=0.8968774694808794, prec=0.9876543209876543\n"
     ]
    },
    {
     "name": "stderr",
     "output_type": "stream",
     "text": [
      " 36%|███▌      | 65/181 [02:47<07:25,  3.84s/it]"
     ]
    },
    {
     "name": "stdout",
     "output_type": "stream",
     "text": [
      "folder=GOT-10k_Val_000065, fps=20, sr=1.0, ao=0.8069076031906681, prec=0.32673267326732675\n"
     ]
    },
    {
     "name": "stderr",
     "output_type": "stream",
     "text": [
      " 36%|███▋      | 66/181 [02:51<07:06,  3.71s/it]"
     ]
    },
    {
     "name": "stdout",
     "output_type": "stream",
     "text": [
      "folder=GOT-10k_Val_000066, fps=30, sr=1.0, ao=0.8938150493654058, prec=1.0\n"
     ]
    },
    {
     "name": "stderr",
     "output_type": "stream",
     "text": [
      " 37%|███▋      | 67/181 [02:54<06:50,  3.60s/it]"
     ]
    },
    {
     "name": "stdout",
     "output_type": "stream",
     "text": [
      "folder=GOT-10k_Val_000067, fps=21, sr=1.0, ao=0.8002859209412081, prec=0.2571428571428571\n"
     ]
    },
    {
     "name": "stderr",
     "output_type": "stream",
     "text": [
      " 38%|███▊      | 68/181 [02:58<06:58,  3.70s/it]"
     ]
    },
    {
     "name": "stdout",
     "output_type": "stream",
     "text": [
      "folder=GOT-10k_Val_000068, fps=25, sr=1.0, ao=0.9414815375932929, prec=0.99\n"
     ]
    },
    {
     "name": "stderr",
     "output_type": "stream",
     "text": [
      " 38%|███▊      | 69/181 [03:01<06:45,  3.62s/it]"
     ]
    },
    {
     "name": "stdout",
     "output_type": "stream",
     "text": [
      "folder=GOT-10k_Val_000069, fps=30, sr=1.0, ao=0.9443147715887932, prec=0.9801980198019802\n"
     ]
    },
    {
     "name": "stderr",
     "output_type": "stream",
     "text": [
      " 39%|███▊      | 70/181 [03:04<06:26,  3.48s/it]"
     ]
    },
    {
     "name": "stdout",
     "output_type": "stream",
     "text": [
      "folder=GOT-10k_Val_000070, fps=29, sr=0.9777777777777777, ao=0.9147030949722642, prec=0.9444444444444444\n"
     ]
    },
    {
     "name": "stderr",
     "output_type": "stream",
     "text": [
      " 39%|███▉      | 71/181 [03:07<05:56,  3.24s/it]"
     ]
    },
    {
     "name": "stdout",
     "output_type": "stream",
     "text": [
      "folder=GOT-10k_Val_000071, fps=30, sr=0.8641975308641975, ao=0.7787335503919218, prec=0.8148148148148148\n"
     ]
    },
    {
     "name": "stderr",
     "output_type": "stream",
     "text": [
      " 40%|███▉      | 72/181 [03:10<05:57,  3.28s/it]"
     ]
    },
    {
     "name": "stdout",
     "output_type": "stream",
     "text": [
      "folder=GOT-10k_Val_000072, fps=24, sr=0.41975308641975306, ao=0.34589703840890057, prec=0.08641975308641975\n"
     ]
    },
    {
     "name": "stderr",
     "output_type": "stream",
     "text": [
      " 40%|████      | 73/181 [03:13<05:45,  3.20s/it]"
     ]
    },
    {
     "name": "stdout",
     "output_type": "stream",
     "text": [
      "folder=GOT-10k_Val_000073, fps=31, sr=1.0, ao=0.9168704689191478, prec=0.989010989010989\n"
     ]
    },
    {
     "name": "stderr",
     "output_type": "stream",
     "text": [
      " 41%|████      | 74/181 [03:16<05:35,  3.13s/it]"
     ]
    },
    {
     "name": "stdout",
     "output_type": "stream",
     "text": [
      "folder=GOT-10k_Val_000074, fps=31, sr=0.9010989010989011, ao=0.7637107201632218, prec=0.6923076923076923\n"
     ]
    },
    {
     "name": "stderr",
     "output_type": "stream",
     "text": [
      " 41%|████▏     | 75/181 [03:20<05:43,  3.24s/it]"
     ]
    },
    {
     "name": "stdout",
     "output_type": "stream",
     "text": [
      "folder=GOT-10k_Val_000075, fps=29, sr=1.0, ao=0.8578874740673097, prec=0.9207920792079208\n"
     ]
    },
    {
     "name": "stderr",
     "output_type": "stream",
     "text": [
      " 42%|████▏     | 76/181 [03:23<05:31,  3.16s/it]"
     ]
    },
    {
     "name": "stdout",
     "output_type": "stream",
     "text": [
      "folder=GOT-10k_Val_000076, fps=30, sr=1.0, ao=0.91892878728189, prec=1.0\n"
     ]
    },
    {
     "name": "stderr",
     "output_type": "stream",
     "text": [
      " 43%|████▎     | 77/181 [03:27<05:55,  3.41s/it]"
     ]
    },
    {
     "name": "stdout",
     "output_type": "stream",
     "text": [
      "folder=GOT-10k_Val_000077, fps=25, sr=0.8, ao=0.7294115071816603, prec=0.52\n"
     ]
    },
    {
     "name": "stderr",
     "output_type": "stream",
     "text": [
      " 43%|████▎     | 78/181 [03:31<05:57,  3.47s/it]"
     ]
    },
    {
     "name": "stdout",
     "output_type": "stream",
     "text": [
      "folder=GOT-10k_Val_000078, fps=31, sr=0.6545454545454545, ao=0.5441809995692951, prec=0.6272727272727273\n"
     ]
    },
    {
     "name": "stderr",
     "output_type": "stream",
     "text": [
      " 44%|████▎     | 79/181 [03:34<06:06,  3.59s/it]"
     ]
    },
    {
     "name": "stdout",
     "output_type": "stream",
     "text": [
      "folder=GOT-10k_Val_000079, fps=26, sr=1.0, ao=0.8959695351199163, prec=0.99\n"
     ]
    },
    {
     "name": "stderr",
     "output_type": "stream",
     "text": [
      " 44%|████▍     | 80/181 [03:38<06:10,  3.67s/it]"
     ]
    },
    {
     "name": "stdout",
     "output_type": "stream",
     "text": [
      "folder=GOT-10k_Val_000080, fps=26, sr=0.88, ao=0.7760908968163025, prec=0.66\n"
     ]
    },
    {
     "name": "stderr",
     "output_type": "stream",
     "text": [
      " 45%|████▍     | 81/181 [03:43<06:52,  4.12s/it]"
     ]
    },
    {
     "name": "stdout",
     "output_type": "stream",
     "text": [
      "folder=GOT-10k_Val_000081, fps=21, sr=1.0, ao=0.9131089693384743, prec=0.5636363636363636\n"
     ]
    },
    {
     "name": "stderr",
     "output_type": "stream",
     "text": [
      " 45%|████▌     | 82/181 [03:47<06:20,  3.84s/it]"
     ]
    },
    {
     "name": "stdout",
     "output_type": "stream",
     "text": [
      "folder=GOT-10k_Val_000082, fps=28, sr=0.9111111111111111, ao=0.73662923539875, prec=0.8888888888888888\n"
     ]
    },
    {
     "name": "stderr",
     "output_type": "stream",
     "text": [
      " 46%|████▌     | 83/181 [03:51<06:19,  3.87s/it]"
     ]
    },
    {
     "name": "stdout",
     "output_type": "stream",
     "text": [
      "folder=GOT-10k_Val_000083, fps=25, sr=0.99, ao=0.8966776537364943, prec=0.97\n"
     ]
    },
    {
     "name": "stderr",
     "output_type": "stream",
     "text": [
      " 46%|████▋     | 84/181 [03:54<05:54,  3.66s/it]"
     ]
    },
    {
     "name": "stdout",
     "output_type": "stream",
     "text": [
      "folder=GOT-10k_Val_000084, fps=29, sr=1.0, ao=0.9285939213851006, prec=0.9888888888888889\n"
     ]
    },
    {
     "name": "stderr",
     "output_type": "stream",
     "text": [
      " 47%|████▋     | 85/181 [03:58<05:59,  3.74s/it]"
     ]
    },
    {
     "name": "stdout",
     "output_type": "stream",
     "text": [
      "folder=GOT-10k_Val_000085, fps=25, sr=1.0, ao=0.952172181170601, prec=1.0\n"
     ]
    },
    {
     "name": "stderr",
     "output_type": "stream",
     "text": [
      " 48%|████▊     | 86/181 [04:01<05:41,  3.60s/it]"
     ]
    },
    {
     "name": "stdout",
     "output_type": "stream",
     "text": [
      "folder=GOT-10k_Val_000086, fps=27, sr=1.0, ao=0.9543400963082113, prec=1.0\n"
     ]
    },
    {
     "name": "stderr",
     "output_type": "stream",
     "text": [
      " 48%|████▊     | 87/181 [04:06<06:12,  3.96s/it]"
     ]
    },
    {
     "name": "stdout",
     "output_type": "stream",
     "text": [
      "folder=GOT-10k_Val_000087, fps=21, sr=1.0, ao=0.9105623456426568, prec=0.43\n"
     ]
    },
    {
     "name": "stderr",
     "output_type": "stream",
     "text": [
      " 49%|████▊     | 88/181 [04:09<05:49,  3.76s/it]"
     ]
    },
    {
     "name": "stdout",
     "output_type": "stream",
     "text": [
      "folder=GOT-10k_Val_000088, fps=31, sr=1.0, ao=0.908301290864522, prec=1.0\n"
     ]
    },
    {
     "name": "stderr",
     "output_type": "stream",
     "text": [
      " 49%|████▉     | 89/181 [04:13<06:01,  3.93s/it]"
     ]
    },
    {
     "name": "stdout",
     "output_type": "stream",
     "text": [
      "folder=GOT-10k_Val_000089, fps=26, sr=1.0, ao=0.8537412872575502, prec=0.6396396396396397\n"
     ]
    },
    {
     "name": "stderr",
     "output_type": "stream",
     "text": [
      " 50%|████▉     | 90/181 [04:16<05:30,  3.63s/it]"
     ]
    },
    {
     "name": "stdout",
     "output_type": "stream",
     "text": [
      "folder=GOT-10k_Val_000090, fps=35, sr=1.0, ao=0.9590684142748724, prec=1.0\n"
     ]
    },
    {
     "name": "stderr",
     "output_type": "stream",
     "text": [
      " 50%|█████     | 91/181 [04:19<04:52,  3.25s/it]"
     ]
    },
    {
     "name": "stdout",
     "output_type": "stream",
     "text": [
      "folder=GOT-10k_Val_000091, fps=34, sr=0.9382716049382716, ao=0.8487426977662013, prec=0.6172839506172839\n"
     ]
    },
    {
     "name": "stderr",
     "output_type": "stream",
     "text": [
      " 51%|█████     | 92/181 [04:22<04:56,  3.33s/it]"
     ]
    },
    {
     "name": "stdout",
     "output_type": "stream",
     "text": [
      "folder=GOT-10k_Val_000092, fps=29, sr=1.0, ao=0.8878374071721458, prec=0.900990099009901\n"
     ]
    },
    {
     "name": "stderr",
     "output_type": "stream",
     "text": [
      " 51%|█████▏    | 93/181 [04:25<04:39,  3.17s/it]"
     ]
    },
    {
     "name": "stdout",
     "output_type": "stream",
     "text": [
      "folder=GOT-10k_Val_000093, fps=29, sr=1.0, ao=0.9293074659602871, prec=0.7777777777777778\n"
     ]
    },
    {
     "name": "stderr",
     "output_type": "stream",
     "text": [
      " 52%|█████▏    | 94/181 [04:28<04:32,  3.13s/it]"
     ]
    },
    {
     "name": "stdout",
     "output_type": "stream",
     "text": [
      "folder=GOT-10k_Val_000094, fps=30, sr=1.0, ao=0.9139489183631845, prec=0.6703296703296703\n"
     ]
    },
    {
     "name": "stderr",
     "output_type": "stream",
     "text": [
      " 52%|█████▏    | 95/181 [04:30<03:53,  2.71s/it]"
     ]
    },
    {
     "name": "stdout",
     "output_type": "stream",
     "text": [
      "folder=GOT-10k_Val_000095, fps=46, sr=1.0, ao=0.9506794113867485, prec=1.0\n"
     ]
    },
    {
     "name": "stderr",
     "output_type": "stream",
     "text": [
      " 53%|█████▎    | 96/181 [04:31<03:12,  2.27s/it]"
     ]
    },
    {
     "name": "stdout",
     "output_type": "stream",
     "text": [
      "folder=GOT-10k_Val_000096, fps=58, sr=1.0, ao=0.813282506636785, prec=0.7323943661971831\n"
     ]
    },
    {
     "name": "stderr",
     "output_type": "stream",
     "text": [
      " 54%|█████▎    | 97/181 [04:32<02:43,  1.95s/it]"
     ]
    },
    {
     "name": "stdout",
     "output_type": "stream",
     "text": [
      "folder=GOT-10k_Val_000097, fps=57, sr=1.0, ao=0.9596498987110288, prec=1.0\n"
     ]
    },
    {
     "name": "stderr",
     "output_type": "stream",
     "text": [
      " 54%|█████▍    | 98/181 [04:34<02:45,  2.00s/it]"
     ]
    },
    {
     "name": "stdout",
     "output_type": "stream",
     "text": [
      "folder=GOT-10k_Val_000098, fps=48, sr=1.0, ao=0.9335926458573321, prec=0.9603960396039604\n"
     ]
    },
    {
     "name": "stderr",
     "output_type": "stream",
     "text": [
      " 55%|█████▍    | 99/181 [04:36<02:47,  2.04s/it]"
     ]
    },
    {
     "name": "stdout",
     "output_type": "stream",
     "text": [
      "folder=GOT-10k_Val_000099, fps=47, sr=0.27, ao=0.3736214929419884, prec=0.11\n"
     ]
    },
    {
     "name": "stderr",
     "output_type": "stream",
     "text": [
      " 55%|█████▌    | 100/181 [04:40<03:15,  2.41s/it]"
     ]
    },
    {
     "name": "stdout",
     "output_type": "stream",
     "text": [
      "folder=GOT-10k_Val_000100, fps=31, sr=0.8415841584158416, ao=0.7510835230328753, prec=0.4752475247524752\n"
     ]
    },
    {
     "name": "stderr",
     "output_type": "stream",
     "text": [
      " 56%|█████▌    | 101/181 [04:44<03:47,  2.84s/it]"
     ]
    },
    {
     "name": "stdout",
     "output_type": "stream",
     "text": [
      "folder=GOT-10k_Val_000101, fps=31, sr=1.0, ao=0.9456859836737203, prec=1.0\n"
     ]
    },
    {
     "name": "stderr",
     "output_type": "stream",
     "text": [
      " 56%|█████▋    | 102/181 [04:47<03:49,  2.91s/it]"
     ]
    },
    {
     "name": "stdout",
     "output_type": "stream",
     "text": [
      "folder=GOT-10k_Val_000102, fps=33, sr=1.0, ao=0.9021407998374272, prec=0.76\n"
     ]
    },
    {
     "name": "stderr",
     "output_type": "stream",
     "text": [
      " 57%|█████▋    | 103/181 [04:58<07:08,  5.50s/it]"
     ]
    },
    {
     "name": "stdout",
     "output_type": "stream",
     "text": [
      "folder=GOT-10k_Val_000103, fps=34, sr=0.9948717948717949, ao=0.8698416206278887, prec=0.9948717948717949\n"
     ]
    },
    {
     "name": "stderr",
     "output_type": "stream",
     "text": [
      " 57%|█████▋    | 104/181 [05:01<06:12,  4.84s/it]"
     ]
    },
    {
     "name": "stdout",
     "output_type": "stream",
     "text": [
      "folder=GOT-10k_Val_000104, fps=33, sr=0.9727272727272728, ao=0.8679918190914148, prec=0.9727272727272728\n"
     ]
    },
    {
     "name": "stderr",
     "output_type": "stream",
     "text": [
      " 58%|█████▊    | 105/181 [05:04<05:16,  4.16s/it]"
     ]
    },
    {
     "name": "stdout",
     "output_type": "stream",
     "text": [
      "folder=GOT-10k_Val_000105, fps=31, sr=1.0, ao=0.9690238941992639, prec=1.0\n"
     ]
    },
    {
     "name": "stderr",
     "output_type": "stream",
     "text": [
      " 59%|█████▊    | 106/181 [05:11<06:05,  4.87s/it]"
     ]
    },
    {
     "name": "stdout",
     "output_type": "stream",
     "text": [
      "folder=GOT-10k_Val_000106, fps=25, sr=1.0, ao=0.9661054820097509, prec=0.9503105590062112\n"
     ]
    },
    {
     "name": "stderr",
     "output_type": "stream",
     "text": [
      " 59%|█████▉    | 107/181 [05:12<04:51,  3.93s/it]"
     ]
    },
    {
     "name": "stdout",
     "output_type": "stream",
     "text": [
      "folder=GOT-10k_Val_000107, fps=53, sr=1.0, ao=0.9129475482187956, prec=1.0\n"
     ]
    },
    {
     "name": "stderr",
     "output_type": "stream",
     "text": [
      " 60%|█████▉    | 108/181 [05:16<04:41,  3.86s/it]"
     ]
    },
    {
     "name": "stdout",
     "output_type": "stream",
     "text": [
      "folder=GOT-10k_Val_000108, fps=54, sr=1.0, ao=0.9164210678829298, prec=0.9900497512437811\n"
     ]
    },
    {
     "name": "stderr",
     "output_type": "stream",
     "text": [
      " 60%|██████    | 109/181 [05:18<04:06,  3.43s/it]"
     ]
    },
    {
     "name": "stdout",
     "output_type": "stream",
     "text": [
      "folder=GOT-10k_Val_000109, fps=34, sr=1.0, ao=0.9429829957155397, prec=0.7283950617283951\n"
     ]
    },
    {
     "name": "stderr",
     "output_type": "stream",
     "text": [
      " 61%|██████    | 110/181 [05:33<08:08,  6.88s/it]"
     ]
    },
    {
     "name": "stdout",
     "output_type": "stream",
     "text": [
      "folder=GOT-10k_Val_000110, fps=32, sr=0.9978768577494692, ao=0.9459456881945612, prec=0.8832271762208068\n"
     ]
    },
    {
     "name": "stderr",
     "output_type": "stream",
     "text": [
      " 61%|██████▏   | 111/181 [05:35<06:08,  5.26s/it]"
     ]
    },
    {
     "name": "stdout",
     "output_type": "stream",
     "text": [
      "folder=GOT-10k_Val_000111, fps=55, sr=1.0, ao=0.8988305126092418, prec=0.9506172839506173\n"
     ]
    },
    {
     "name": "stderr",
     "output_type": "stream",
     "text": [
      " 62%|██████▏   | 112/181 [05:39<05:42,  4.96s/it]"
     ]
    },
    {
     "name": "stdout",
     "output_type": "stream",
     "text": [
      "folder=GOT-10k_Val_000112, fps=31, sr=1.0, ao=0.9245880944138003, prec=0.8396946564885496\n"
     ]
    },
    {
     "name": "stderr",
     "output_type": "stream",
     "text": [
      " 62%|██████▏   | 113/181 [05:43<05:21,  4.72s/it]"
     ]
    },
    {
     "name": "stdout",
     "output_type": "stream",
     "text": [
      "folder=GOT-10k_Val_000113, fps=31, sr=1.0, ao=0.8986336449245962, prec=1.0\n"
     ]
    },
    {
     "name": "stderr",
     "output_type": "stream",
     "text": [
      " 63%|██████▎   | 114/181 [05:49<05:42,  5.11s/it]"
     ]
    },
    {
     "name": "stdout",
     "output_type": "stream",
     "text": [
      "folder=GOT-10k_Val_000114, fps=30, sr=1.0, ao=0.9472889243772185, prec=0.6243093922651933\n"
     ]
    },
    {
     "name": "stderr",
     "output_type": "stream",
     "text": [
      " 64%|██████▎   | 115/181 [05:52<04:44,  4.31s/it]"
     ]
    },
    {
     "name": "stdout",
     "output_type": "stream",
     "text": [
      "folder=GOT-10k_Val_000115, fps=33, sr=1.0, ao=0.9514258751351943, prec=0.9876543209876543\n"
     ]
    },
    {
     "name": "stderr",
     "output_type": "stream",
     "text": [
      " 64%|██████▍   | 116/181 [06:02<06:27,  5.96s/it]"
     ]
    },
    {
     "name": "stdout",
     "output_type": "stream",
     "text": [
      "folder=GOT-10k_Val_000116, fps=30, sr=1.0, ao=0.9586289860210576, prec=0.98989898989899\n"
     ]
    },
    {
     "name": "stderr",
     "output_type": "stream",
     "text": [
      " 65%|██████▍   | 117/181 [06:04<05:15,  4.93s/it]"
     ]
    },
    {
     "name": "stdout",
     "output_type": "stream",
     "text": [
      "folder=GOT-10k_Val_000117, fps=40, sr=1.0, ao=0.9243373969284274, prec=1.0\n"
     ]
    },
    {
     "name": "stderr",
     "output_type": "stream",
     "text": [
      " 65%|██████▌   | 118/181 [06:09<05:04,  4.83s/it]"
     ]
    },
    {
     "name": "stdout",
     "output_type": "stream",
     "text": [
      "folder=GOT-10k_Val_000118, fps=44, sr=1.0, ao=0.8588807362360144, prec=0.845771144278607\n"
     ]
    },
    {
     "name": "stderr",
     "output_type": "stream",
     "text": [
      " 66%|██████▌   | 119/181 [06:15<05:24,  5.24s/it]"
     ]
    },
    {
     "name": "stdout",
     "output_type": "stream",
     "text": [
      "folder=GOT-10k_Val_000119, fps=40, sr=1.0, ao=0.9390763914571642, prec=1.0\n"
     ]
    },
    {
     "name": "stderr",
     "output_type": "stream",
     "text": [
      " 66%|██████▋   | 120/181 [06:17<04:25,  4.36s/it]"
     ]
    },
    {
     "name": "stdout",
     "output_type": "stream",
     "text": [
      "folder=GOT-10k_Val_000120, fps=31, sr=1.0, ao=0.9435538310968551, prec=1.0\n"
     ]
    },
    {
     "name": "stderr",
     "output_type": "stream",
     "text": [
      " 67%|██████▋   | 121/181 [06:22<04:27,  4.46s/it]"
     ]
    },
    {
     "name": "stdout",
     "output_type": "stream",
     "text": [
      "folder=GOT-10k_Val_000121, fps=28, sr=0.9923664122137404, ao=0.9257587407561209, prec=0.7099236641221374\n"
     ]
    },
    {
     "name": "stderr",
     "output_type": "stream",
     "text": [
      " 67%|██████▋   | 122/181 [06:38<07:53,  8.03s/it]"
     ]
    },
    {
     "name": "stdout",
     "output_type": "stream",
     "text": [
      "folder=GOT-10k_Val_000122, fps=26, sr=1.0, ao=0.9102434086201018, prec=0.60381861575179\n"
     ]
    },
    {
     "name": "stderr",
     "output_type": "stream",
     "text": [
      " 68%|██████▊   | 123/181 [06:43<06:48,  7.05s/it]"
     ]
    },
    {
     "name": "stdout",
     "output_type": "stream",
     "text": [
      "folder=GOT-10k_Val_000123, fps=30, sr=1.0, ao=0.9407240185426766, prec=0.8642857142857143\n"
     ]
    },
    {
     "name": "stderr",
     "output_type": "stream",
     "text": [
      " 69%|██████▊   | 124/181 [06:49<06:24,  6.74s/it]"
     ]
    },
    {
     "name": "stdout",
     "output_type": "stream",
     "text": [
      "folder=GOT-10k_Val_000124, fps=30, sr=1.0, ao=0.9542810349189925, prec=0.994475138121547\n"
     ]
    },
    {
     "name": "stderr",
     "output_type": "stream",
     "text": [
      " 69%|██████▉   | 125/181 [06:58<06:53,  7.38s/it]"
     ]
    },
    {
     "name": "stdout",
     "output_type": "stream",
     "text": [
      "folder=GOT-10k_Val_000125, fps=49, sr=1.0, ao=0.9285226536265139, prec=0.9907192575406032\n"
     ]
    },
    {
     "name": "stderr",
     "output_type": "stream",
     "text": [
      " 70%|██████▉   | 126/181 [07:00<05:24,  5.90s/it]"
     ]
    },
    {
     "name": "stdout",
     "output_type": "stream",
     "text": [
      "folder=GOT-10k_Val_000126, fps=41, sr=0.6831683168316832, ao=0.596798804041274, prec=0.43564356435643564\n"
     ]
    },
    {
     "name": "stderr",
     "output_type": "stream",
     "text": [
      " 70%|███████   | 127/181 [07:04<04:35,  5.10s/it]"
     ]
    },
    {
     "name": "stdout",
     "output_type": "stream",
     "text": [
      "folder=GOT-10k_Val_000127, fps=31, sr=1.0, ao=0.9124949795777599, prec=0.6138613861386139\n"
     ]
    },
    {
     "name": "stderr",
     "output_type": "stream",
     "text": [
      " 71%|███████   | 128/181 [07:07<03:58,  4.50s/it]"
     ]
    },
    {
     "name": "stdout",
     "output_type": "stream",
     "text": [
      "folder=GOT-10k_Val_000128, fps=32, sr=1.0, ao=0.91481566208045, prec=1.0\n"
     ]
    },
    {
     "name": "stderr",
     "output_type": "stream",
     "text": [
      " 71%|███████▏  | 129/181 [07:10<03:32,  4.09s/it]"
     ]
    },
    {
     "name": "stdout",
     "output_type": "stream",
     "text": [
      "folder=GOT-10k_Val_000129, fps=32, sr=0.9900990099009901, ao=0.8018708078940109, prec=0.7326732673267327\n"
     ]
    },
    {
     "name": "stderr",
     "output_type": "stream",
     "text": [
      " 72%|███████▏  | 130/181 [07:13<03:09,  3.71s/it]"
     ]
    },
    {
     "name": "stdout",
     "output_type": "stream",
     "text": [
      "folder=GOT-10k_Val_000130, fps=32, sr=0.34065934065934067, ao=0.3026745747566681, prec=0.34065934065934067\n"
     ]
    },
    {
     "name": "stderr",
     "output_type": "stream",
     "text": [
      " 72%|███████▏  | 131/181 [07:14<02:32,  3.04s/it]"
     ]
    },
    {
     "name": "stdout",
     "output_type": "stream",
     "text": [
      "folder=GOT-10k_Val_000131, fps=55, sr=0.9012345679012346, ao=0.6860263514408875, prec=0.20987654320987653\n"
     ]
    },
    {
     "name": "stderr",
     "output_type": "stream",
     "text": [
      " 73%|███████▎  | 132/181 [07:16<02:07,  2.60s/it]"
     ]
    },
    {
     "name": "stdout",
     "output_type": "stream",
     "text": [
      "folder=GOT-10k_Val_000132, fps=58, sr=0.7912087912087912, ao=0.7033459569263975, prec=0.4065934065934066\n"
     ]
    },
    {
     "name": "stderr",
     "output_type": "stream",
     "text": [
      " 73%|███████▎  | 133/181 [07:17<01:51,  2.33s/it]"
     ]
    },
    {
     "name": "stdout",
     "output_type": "stream",
     "text": [
      "folder=GOT-10k_Val_000133, fps=59, sr=1.0, ao=0.823850459156451, prec=1.0\n"
     ]
    },
    {
     "name": "stderr",
     "output_type": "stream",
     "text": [
      " 74%|███████▍  | 134/181 [07:19<01:40,  2.14s/it]"
     ]
    },
    {
     "name": "stdout",
     "output_type": "stream",
     "text": [
      "folder=GOT-10k_Val_000134, fps=59, sr=0.96, ao=0.8023609253359939, prec=0.72\n"
     ]
    },
    {
     "name": "stderr",
     "output_type": "stream",
     "text": [
      " 75%|███████▍  | 135/181 [07:21<01:29,  1.95s/it]"
     ]
    },
    {
     "name": "stdout",
     "output_type": "stream",
     "text": [
      "folder=GOT-10k_Val_000135, fps=60, sr=1.0, ao=0.701041214381674, prec=1.0\n"
     ]
    },
    {
     "name": "stderr",
     "output_type": "stream",
     "text": [
      " 75%|███████▌  | 136/181 [07:24<01:45,  2.34s/it]"
     ]
    },
    {
     "name": "stdout",
     "output_type": "stream",
     "text": [
      "folder=GOT-10k_Val_000136, fps=37, sr=1.0, ao=0.963232483432079, prec=1.0\n"
     ]
    },
    {
     "name": "stderr",
     "output_type": "stream",
     "text": [
      " 76%|███████▌  | 137/181 [07:29<02:20,  3.20s/it]"
     ]
    },
    {
     "name": "stdout",
     "output_type": "stream",
     "text": [
      "folder=GOT-10k_Val_000137, fps=58, sr=0.7740863787375415, ao=0.7035893260993527, prec=0.7873754152823921\n"
     ]
    },
    {
     "name": "stderr",
     "output_type": "stream",
     "text": [
      " 76%|███████▌  | 138/181 [07:31<01:56,  2.71s/it]"
     ]
    },
    {
     "name": "stdout",
     "output_type": "stream",
     "text": [
      "folder=GOT-10k_Val_000138, fps=58, sr=0.989010989010989, ao=0.7855933561360331, prec=1.0\n"
     ]
    },
    {
     "name": "stderr",
     "output_type": "stream",
     "text": [
      " 77%|███████▋  | 139/181 [07:34<02:00,  2.88s/it]"
     ]
    },
    {
     "name": "stdout",
     "output_type": "stream",
     "text": [
      "folder=GOT-10k_Val_000139, fps=31, sr=1.0, ao=0.9389960725166137, prec=0.9801980198019802\n"
     ]
    },
    {
     "name": "stderr",
     "output_type": "stream",
     "text": [
      " 77%|███████▋  | 140/181 [07:37<02:03,  3.02s/it]"
     ]
    },
    {
     "name": "stdout",
     "output_type": "stream",
     "text": [
      "folder=GOT-10k_Val_000140, fps=30, sr=0.9405940594059405, ao=0.8712876137797034, prec=0.6534653465346535\n"
     ]
    },
    {
     "name": "stderr",
     "output_type": "stream",
     "text": [
      " 78%|███████▊  | 141/181 [07:39<01:50,  2.77s/it]"
     ]
    },
    {
     "name": "stdout",
     "output_type": "stream",
     "text": [
      "folder=GOT-10k_Val_000141, fps=56, sr=1.0, ao=0.9008392990723693, prec=1.0\n"
     ]
    },
    {
     "name": "stderr",
     "output_type": "stream",
     "text": [
      " 78%|███████▊  | 142/181 [07:42<01:50,  2.83s/it]"
     ]
    },
    {
     "name": "stdout",
     "output_type": "stream",
     "text": [
      "folder=GOT-10k_Val_000142, fps=31, sr=1.0, ao=0.8982444394531311, prec=0.5714285714285714\n"
     ]
    },
    {
     "name": "stderr",
     "output_type": "stream",
     "text": [
      " 79%|███████▉  | 143/181 [07:45<01:44,  2.76s/it]"
     ]
    },
    {
     "name": "stdout",
     "output_type": "stream",
     "text": [
      "folder=GOT-10k_Val_000143, fps=31, sr=1.0, ao=0.9348147524083944, prec=0.9012345679012346\n"
     ]
    },
    {
     "name": "stderr",
     "output_type": "stream",
     "text": [
      " 80%|███████▉  | 144/181 [07:47<01:38,  2.66s/it]"
     ]
    },
    {
     "name": "stdout",
     "output_type": "stream",
     "text": [
      "folder=GOT-10k_Val_000144, fps=34, sr=1.0, ao=0.902984525160088, prec=1.0\n"
     ]
    },
    {
     "name": "stderr",
     "output_type": "stream",
     "text": [
      " 80%|████████  | 145/181 [07:49<01:25,  2.38s/it]"
     ]
    },
    {
     "name": "stdout",
     "output_type": "stream",
     "text": [
      "folder=GOT-10k_Val_000145, fps=59, sr=1.0, ao=0.9393048726891033, prec=0.9900990099009901\n"
     ]
    },
    {
     "name": "stderr",
     "output_type": "stream",
     "text": [
      " 81%|████████  | 146/181 [07:51<01:22,  2.35s/it]"
     ]
    },
    {
     "name": "stdout",
     "output_type": "stream",
     "text": [
      "folder=GOT-10k_Val_000146, fps=35, sr=1.0, ao=0.9250472239011593, prec=0.9506172839506173\n"
     ]
    },
    {
     "name": "stderr",
     "output_type": "stream",
     "text": [
      " 81%|████████  | 147/181 [07:54<01:20,  2.38s/it]"
     ]
    },
    {
     "name": "stdout",
     "output_type": "stream",
     "text": [
      "folder=GOT-10k_Val_000147, fps=33, sr=1.0, ao=0.9504996499933913, prec=1.0\n"
     ]
    },
    {
     "name": "stderr",
     "output_type": "stream",
     "text": [
      " 82%|████████▏ | 148/181 [07:55<01:09,  2.11s/it]"
     ]
    },
    {
     "name": "stdout",
     "output_type": "stream",
     "text": [
      "folder=GOT-10k_Val_000148, fps=54, sr=1.0, ao=0.9183006329703897, prec=1.0\n"
     ]
    },
    {
     "name": "stderr",
     "output_type": "stream",
     "text": [
      " 82%|████████▏ | 149/181 [07:57<01:01,  1.91s/it]"
     ]
    },
    {
     "name": "stdout",
     "output_type": "stream",
     "text": [
      "folder=GOT-10k_Val_000149, fps=56, sr=1.0, ao=0.933401773449025, prec=1.0\n"
     ]
    },
    {
     "name": "stderr",
     "output_type": "stream",
     "text": [
      " 83%|████████▎ | 150/181 [07:58<00:54,  1.76s/it]"
     ]
    },
    {
     "name": "stdout",
     "output_type": "stream",
     "text": [
      "folder=GOT-10k_Val_000150, fps=59, sr=1.0, ao=0.9051094578433392, prec=1.0\n"
     ]
    },
    {
     "name": "stderr",
     "output_type": "stream",
     "text": [
      " 83%|████████▎ | 151/181 [08:00<00:53,  1.78s/it]"
     ]
    },
    {
     "name": "stdout",
     "output_type": "stream",
     "text": [
      "folder=GOT-10k_Val_000151, fps=33, sr=1.0, ao=0.8139101773370498, prec=0.55\n"
     ]
    },
    {
     "name": "stderr",
     "output_type": "stream",
     "text": [
      " 84%|████████▍ | 152/181 [08:01<00:47,  1.62s/it]"
     ]
    },
    {
     "name": "stdout",
     "output_type": "stream",
     "text": [
      "folder=GOT-10k_Val_000152, fps=60, sr=0.6216216216216216, ao=0.5706471942748708, prec=0.16216216216216217\n"
     ]
    },
    {
     "name": "stderr",
     "output_type": "stream",
     "text": [
      " 85%|████████▍ | 153/181 [08:04<00:54,  1.96s/it]"
     ]
    },
    {
     "name": "stdout",
     "output_type": "stream",
     "text": [
      "folder=GOT-10k_Val_000153, fps=29, sr=1.0, ao=0.8588266215468868, prec=0.25925925925925924\n"
     ]
    },
    {
     "name": "stderr",
     "output_type": "stream",
     "text": [
      " 85%|████████▌ | 154/181 [08:07<00:58,  2.17s/it]"
     ]
    },
    {
     "name": "stdout",
     "output_type": "stream",
     "text": [
      "folder=GOT-10k_Val_000154, fps=31, sr=1.0, ao=0.8950797931551726, prec=0.7901234567901234\n"
     ]
    },
    {
     "name": "stderr",
     "output_type": "stream",
     "text": [
      " 86%|████████▌ | 155/181 [08:09<00:56,  2.16s/it]"
     ]
    },
    {
     "name": "stdout",
     "output_type": "stream",
     "text": [
      "folder=GOT-10k_Val_000155, fps=42, sr=0.9888888888888889, ao=0.8530776004087173, prec=0.8888888888888888\n"
     ]
    },
    {
     "name": "stderr",
     "output_type": "stream",
     "text": [
      " 86%|████████▌ | 156/181 [08:17<01:36,  3.86s/it]"
     ]
    },
    {
     "name": "stdout",
     "output_type": "stream",
     "text": [
      "folder=GOT-10k_Val_000156, fps=36, sr=1.0, ao=0.8778726793020386, prec=0.4128113879003559\n"
     ]
    },
    {
     "name": "stderr",
     "output_type": "stream",
     "text": [
      " 87%|████████▋ | 157/181 [08:18<01:14,  3.12s/it]"
     ]
    },
    {
     "name": "stdout",
     "output_type": "stream",
     "text": [
      "folder=GOT-10k_Val_000157, fps=58, sr=0.8518518518518519, ao=0.7099016395802912, prec=0.24691358024691357\n"
     ]
    },
    {
     "name": "stderr",
     "output_type": "stream",
     "text": [
      " 87%|████████▋ | 158/181 [08:19<00:59,  2.61s/it]"
     ]
    },
    {
     "name": "stdout",
     "output_type": "stream",
     "text": [
      "folder=GOT-10k_Val_000158, fps=58, sr=1.0, ao=0.9123752880501977, prec=1.0\n"
     ]
    },
    {
     "name": "stderr",
     "output_type": "stream",
     "text": [
      " 88%|████████▊ | 159/181 [08:21<00:49,  2.24s/it]"
     ]
    },
    {
     "name": "stdout",
     "output_type": "stream",
     "text": [
      "folder=GOT-10k_Val_000159, fps=59, sr=1.0, ao=0.9285514314991404, prec=0.975\n"
     ]
    },
    {
     "name": "stderr",
     "output_type": "stream",
     "text": [
      " 88%|████████▊ | 160/181 [08:25<00:58,  2.76s/it]"
     ]
    },
    {
     "name": "stdout",
     "output_type": "stream",
     "text": [
      "folder=GOT-10k_Val_000160, fps=20, sr=1.0, ao=0.8846926347591437, prec=0.5061728395061729\n"
     ]
    },
    {
     "name": "stderr",
     "output_type": "stream",
     "text": [
      " 89%|████████▉ | 161/181 [08:27<00:54,  2.72s/it]"
     ]
    },
    {
     "name": "stdout",
     "output_type": "stream",
     "text": [
      "folder=GOT-10k_Val_000161, fps=31, sr=0.6125, ao=0.579978087881656, prec=0.5625\n"
     ]
    },
    {
     "name": "stderr",
     "output_type": "stream",
     "text": [
      " 90%|████████▉ | 162/181 [08:30<00:51,  2.72s/it]"
     ]
    },
    {
     "name": "stdout",
     "output_type": "stream",
     "text": [
      "folder=GOT-10k_Val_000162, fps=30, sr=0.9876543209876543, ao=0.8436072246210569, prec=0.4074074074074074\n"
     ]
    },
    {
     "name": "stderr",
     "output_type": "stream",
     "text": [
      " 90%|█████████ | 163/181 [08:33<00:50,  2.80s/it]"
     ]
    },
    {
     "name": "stdout",
     "output_type": "stream",
     "text": [
      "folder=GOT-10k_Val_000163, fps=30, sr=1.0, ao=0.871401981011775, prec=0.4777777777777778\n"
     ]
    },
    {
     "name": "stderr",
     "output_type": "stream",
     "text": [
      " 91%|█████████ | 164/181 [08:35<00:42,  2.52s/it]"
     ]
    },
    {
     "name": "stdout",
     "output_type": "stream",
     "text": [
      "folder=GOT-10k_Val_000164, fps=40, sr=0.9333333333333333, ao=0.7950702688489596, prec=0.7066666666666667\n"
     ]
    },
    {
     "name": "stderr",
     "output_type": "stream",
     "text": [
      " 91%|█████████ | 165/181 [08:38<00:44,  2.76s/it]"
     ]
    },
    {
     "name": "stdout",
     "output_type": "stream",
     "text": [
      "folder=GOT-10k_Val_000165, fps=30, sr=1.0, ao=0.8563311871828803, prec=0.504950495049505\n"
     ]
    },
    {
     "name": "stderr",
     "output_type": "stream",
     "text": [
      " 92%|█████████▏| 166/181 [08:41<00:43,  2.89s/it]"
     ]
    },
    {
     "name": "stdout",
     "output_type": "stream",
     "text": [
      "folder=GOT-10k_Val_000166, fps=32, sr=1.0, ao=0.9695616153087749, prec=1.0\n"
     ]
    },
    {
     "name": "stderr",
     "output_type": "stream",
     "text": [
      " 92%|█████████▏| 167/181 [08:45<00:41,  2.96s/it]"
     ]
    },
    {
     "name": "stdout",
     "output_type": "stream",
     "text": [
      "folder=GOT-10k_Val_000167, fps=32, sr=0.9603960396039604, ao=0.9136111161130559, prec=0.9603960396039604\n"
     ]
    },
    {
     "name": "stderr",
     "output_type": "stream",
     "text": [
      " 93%|█████████▎| 168/181 [08:48<00:38,  2.98s/it]"
     ]
    },
    {
     "name": "stdout",
     "output_type": "stream",
     "text": [
      "folder=GOT-10k_Val_000168, fps=30, sr=0.7802197802197802, ao=0.7381725450101159, prec=0.7582417582417582\n"
     ]
    },
    {
     "name": "stderr",
     "output_type": "stream",
     "text": [
      " 93%|█████████▎| 169/181 [08:50<00:34,  2.88s/it]"
     ]
    },
    {
     "name": "stdout",
     "output_type": "stream",
     "text": [
      "folder=GOT-10k_Val_000169, fps=34, sr=0.989010989010989, ao=0.8537454848392455, prec=0.8351648351648352\n"
     ]
    },
    {
     "name": "stderr",
     "output_type": "stream",
     "text": [
      " 94%|█████████▍| 170/181 [08:53<00:29,  2.68s/it]"
     ]
    },
    {
     "name": "stdout",
     "output_type": "stream",
     "text": [
      "folder=GOT-10k_Val_000170, fps=41, sr=0.9010989010989011, ao=0.7898925705327249, prec=0.7032967032967034\n"
     ]
    },
    {
     "name": "stderr",
     "output_type": "stream",
     "text": [
      " 94%|█████████▍| 171/181 [08:54<00:23,  2.33s/it]"
     ]
    },
    {
     "name": "stdout",
     "output_type": "stream",
     "text": [
      "folder=GOT-10k_Val_000171, fps=60, sr=1.0, ao=0.9209317438731441, prec=1.0\n"
     ]
    },
    {
     "name": "stderr",
     "output_type": "stream",
     "text": [
      " 95%|█████████▌| 172/181 [08:59<00:29,  3.26s/it]"
     ]
    },
    {
     "name": "stdout",
     "output_type": "stream",
     "text": [
      "folder=GOT-10k_Val_000172, fps=39, sr=0.8672985781990521, ao=0.8141805206749788, prec=0.7014218009478673\n"
     ]
    },
    {
     "name": "stderr",
     "output_type": "stream",
     "text": [
      " 96%|█████████▌| 173/181 [09:12<00:47,  5.98s/it]"
     ]
    },
    {
     "name": "stdout",
     "output_type": "stream",
     "text": [
      "folder=GOT-10k_Val_000173, fps=32, sr=1.0, ao=0.9647283892480252, prec=1.0\n"
     ]
    },
    {
     "name": "stderr",
     "output_type": "stream",
     "text": [
      " 96%|█████████▌| 174/181 [09:23<00:53,  7.59s/it]"
     ]
    },
    {
     "name": "stdout",
     "output_type": "stream",
     "text": [
      "folder=GOT-10k_Val_000174, fps=34, sr=0.9974424552429667, ao=0.8297642824620362, prec=0.42455242966751916\n"
     ]
    },
    {
     "name": "stderr",
     "output_type": "stream",
     "text": [
      " 97%|█████████▋| 175/181 [09:28<00:40,  6.72s/it]"
     ]
    },
    {
     "name": "stdout",
     "output_type": "stream",
     "text": [
      "folder=GOT-10k_Val_000175, fps=58, sr=0.8191881918819188, ao=0.6467342339954721, prec=0.8819188191881919\n"
     ]
    },
    {
     "name": "stderr",
     "output_type": "stream",
     "text": [
      " 97%|█████████▋| 176/181 [09:37<00:36,  7.33s/it]"
     ]
    },
    {
     "name": "stdout",
     "output_type": "stream",
     "text": [
      "folder=GOT-10k_Val_000176, fps=33, sr=0.7594501718213058, ao=0.6944930421043044, prec=0.6804123711340206\n"
     ]
    },
    {
     "name": "stderr",
     "output_type": "stream",
     "text": [
      " 98%|█████████▊| 177/181 [09:45<00:31,  7.78s/it]"
     ]
    },
    {
     "name": "stdout",
     "output_type": "stream",
     "text": [
      "folder=GOT-10k_Val_000177, fps=20, sr=0.30337078651685395, ao=0.24307372284249532, prec=0.10674157303370786\n"
     ]
    },
    {
     "name": "stderr",
     "output_type": "stream",
     "text": [
      " 98%|█████████▊| 178/181 [10:09<00:37, 12.41s/it]"
     ]
    },
    {
     "name": "stdout",
     "output_type": "stream",
     "text": [
      "folder=GOT-10k_Val_000178, fps=11, sr=0.9846743295019157, ao=0.8911709977556629, prec=0.23754789272030652\n"
     ]
    },
    {
     "name": "stderr",
     "output_type": "stream",
     "text": [
      " 99%|█████████▉| 179/181 [10:17<00:22, 11.11s/it]"
     ]
    },
    {
     "name": "stdout",
     "output_type": "stream",
     "text": [
      "folder=GOT-10k_Val_000179, fps=52, sr=0.9382422802850356, ao=0.8594634246657914, prec=0.8194774346793349\n"
     ]
    },
    {
     "name": "stderr",
     "output_type": "stream",
     "text": [
      " 99%|█████████▉| 180/181 [10:23<00:03,  3.47s/it]"
     ]
    },
    {
     "name": "stdout",
     "output_type": "stream",
     "text": [
      "folder=GOT-10k_Val_000180, fps=16, sr=0.8055555555555556, ao=0.7206246303804121, prec=0.23148148148148148\n",
      "******************** Завершено! ********************\n"
     ]
    },
    {
     "name": "stderr",
     "output_type": "stream",
     "text": [
      "\n"
     ]
    },
    {
     "data": {
      "text/html": [
       "<div>\n",
       "<style scoped>\n",
       "    .dataframe tbody tr th:only-of-type {\n",
       "        vertical-align: middle;\n",
       "    }\n",
       "\n",
       "    .dataframe tbody tr th {\n",
       "        vertical-align: top;\n",
       "    }\n",
       "\n",
       "    .dataframe thead th {\n",
       "        text-align: right;\n",
       "    }\n",
       "</style>\n",
       "<table border=\"1\" class=\"dataframe\">\n",
       "  <thead>\n",
       "    <tr style=\"text-align: right;\">\n",
       "      <th></th>\n",
       "      <th>Path</th>\n",
       "      <th>FPS</th>\n",
       "      <th>Success Rate (SR@0.5)</th>\n",
       "      <th>Average Overlap (AO)</th>\n",
       "      <th>Precision @20px</th>\n",
       "    </tr>\n",
       "  </thead>\n",
       "  <tbody>\n",
       "    <tr>\n",
       "      <th>0</th>\n",
       "      <td>GOT-10k_Val_000001</td>\n",
       "      <td>30.000000</td>\n",
       "      <td>1.000000</td>\n",
       "      <td>0.930829</td>\n",
       "      <td>0.966667</td>\n",
       "    </tr>\n",
       "    <tr>\n",
       "      <th>1</th>\n",
       "      <td>GOT-10k_Val_000002</td>\n",
       "      <td>44.000000</td>\n",
       "      <td>1.000000</td>\n",
       "      <td>0.960685</td>\n",
       "      <td>1.000000</td>\n",
       "    </tr>\n",
       "    <tr>\n",
       "      <th>2</th>\n",
       "      <td>GOT-10k_Val_000003</td>\n",
       "      <td>32.000000</td>\n",
       "      <td>1.000000</td>\n",
       "      <td>0.876379</td>\n",
       "      <td>0.950000</td>\n",
       "    </tr>\n",
       "    <tr>\n",
       "      <th>3</th>\n",
       "      <td>GOT-10k_Val_000004</td>\n",
       "      <td>59.000000</td>\n",
       "      <td>1.000000</td>\n",
       "      <td>0.870311</td>\n",
       "      <td>1.000000</td>\n",
       "    </tr>\n",
       "    <tr>\n",
       "      <th>4</th>\n",
       "      <td>GOT-10k_Val_000005</td>\n",
       "      <td>32.000000</td>\n",
       "      <td>1.000000</td>\n",
       "      <td>0.959524</td>\n",
       "      <td>0.987500</td>\n",
       "    </tr>\n",
       "    <tr>\n",
       "      <th>...</th>\n",
       "      <td>...</td>\n",
       "      <td>...</td>\n",
       "      <td>...</td>\n",
       "      <td>...</td>\n",
       "      <td>...</td>\n",
       "    </tr>\n",
       "    <tr>\n",
       "      <th>176</th>\n",
       "      <td>GOT-10k_Val_000177</td>\n",
       "      <td>20.000000</td>\n",
       "      <td>0.303371</td>\n",
       "      <td>0.243074</td>\n",
       "      <td>0.106742</td>\n",
       "    </tr>\n",
       "    <tr>\n",
       "      <th>177</th>\n",
       "      <td>GOT-10k_Val_000178</td>\n",
       "      <td>11.000000</td>\n",
       "      <td>0.984674</td>\n",
       "      <td>0.891171</td>\n",
       "      <td>0.237548</td>\n",
       "    </tr>\n",
       "    <tr>\n",
       "      <th>178</th>\n",
       "      <td>GOT-10k_Val_000179</td>\n",
       "      <td>52.000000</td>\n",
       "      <td>0.938242</td>\n",
       "      <td>0.859463</td>\n",
       "      <td>0.819477</td>\n",
       "    </tr>\n",
       "    <tr>\n",
       "      <th>179</th>\n",
       "      <td>GOT-10k_Val_000180</td>\n",
       "      <td>16.000000</td>\n",
       "      <td>0.805556</td>\n",
       "      <td>0.720625</td>\n",
       "      <td>0.231481</td>\n",
       "    </tr>\n",
       "    <tr>\n",
       "      <th>180</th>\n",
       "      <td>Average</td>\n",
       "      <td>37.844444</td>\n",
       "      <td>0.928468</td>\n",
       "      <td>0.829459</td>\n",
       "      <td>0.757016</td>\n",
       "    </tr>\n",
       "  </tbody>\n",
       "</table>\n",
       "<p>181 rows × 5 columns</p>\n",
       "</div>"
      ],
      "text/plain": [
       "                   Path        FPS  Success Rate (SR@0.5)  \\\n",
       "0    GOT-10k_Val_000001  30.000000               1.000000   \n",
       "1    GOT-10k_Val_000002  44.000000               1.000000   \n",
       "2    GOT-10k_Val_000003  32.000000               1.000000   \n",
       "3    GOT-10k_Val_000004  59.000000               1.000000   \n",
       "4    GOT-10k_Val_000005  32.000000               1.000000   \n",
       "..                  ...        ...                    ...   \n",
       "176  GOT-10k_Val_000177  20.000000               0.303371   \n",
       "177  GOT-10k_Val_000178  11.000000               0.984674   \n",
       "178  GOT-10k_Val_000179  52.000000               0.938242   \n",
       "179  GOT-10k_Val_000180  16.000000               0.805556   \n",
       "180             Average  37.844444               0.928468   \n",
       "\n",
       "     Average Overlap (AO)  Precision @20px  \n",
       "0                0.930829         0.966667  \n",
       "1                0.960685         1.000000  \n",
       "2                0.876379         0.950000  \n",
       "3                0.870311         1.000000  \n",
       "4                0.959524         0.987500  \n",
       "..                    ...              ...  \n",
       "176              0.243074         0.106742  \n",
       "177              0.891171         0.237548  \n",
       "178              0.859463         0.819477  \n",
       "179              0.720625         0.231481  \n",
       "180              0.829459         0.757016  \n",
       "\n",
       "[181 rows x 5 columns]"
      ]
     },
     "execution_count": 88,
     "metadata": {},
     "output_type": "execute_result"
    }
   ],
   "source": [
    "#Проход по всему got10k\n",
    "import glob\n",
    "import time\n",
    "import  os\n",
    "import pandas as pd\n",
    "from tqdm import tqdm\n",
    "metrics = pd.DataFrame(columns=['Path', 'FPS', 'Success Rate (SR@0.5)', \"Average Overlap (AO)\", \"Precision @20px\"])\n",
    "base_dir = \"val/\"\n",
    "folders = os.listdir(f'{base_dir}')\n",
    "counter_test = 0\n",
    "for folder in tqdm(folders):\n",
    "    if folder == \"list.txt\":\n",
    "        print(f\"{'*' * 20} Завершено! {'*' * 20}\")\n",
    "        break\n",
    "    gt_bboxes = []\n",
    "    pred_bboxes = []\n",
    "    seq_path = os.path.join(base_dir, folder)\n",
    "    txt_files = glob.glob(os.path.join(seq_path, '*.txt'))\n",
    "    if not txt_files:\n",
    "        raise FileNotFoundError(f\"No .txt files found in {seq_path}\")\n",
    "\n",
    "    img_files = sorted(glob.glob(os.path.join(seq_path, '*.jpg')))\n",
    "    with open(txt_files[0], 'r') as f:\n",
    "        gt_bboxes = [list(map(float, line.strip().split(','))) for line in f]\n",
    "\n",
    "    # Получаем размер первого изображения\n",
    "    sample_img = cv2.imread(img_files[0])\n",
    "    if sample_img is None:\n",
    "        raise ValueError(f\"Failed to read sample image: {img_files[0]}\")  \n",
    "\n",
    "    assert len(img_files) == len(gt_bboxes), \"Количество кадров и bbox'ов не совпадает\"\n",
    "\n",
    "    x, y, w, h = map(int, gt_bboxes[0])\n",
    "    init_state = [x, y, w, h]\n",
    "\n",
    "    def _build_init_info(box):\n",
    "                return {'init_bbox': box}\n",
    "\n",
    "    counter = 0\n",
    "    counter_test += 1\n",
    "\n",
    "\n",
    "    tracker.initialize(sample_img, _build_init_info(init_state))\n",
    "\n",
    "    start_time = time.time()  # Начало замера\n",
    "\n",
    "    for img_file, bbox in zip(img_files, gt_bboxes):\n",
    "            \n",
    "            # Читаем изображение\n",
    "            img = cv2.imread(img_file)\n",
    "            if img is None:\n",
    "                print(f\"Не удалось загрузить изображение: {img_file}\")\n",
    "                continue\n",
    "                        \n",
    "            out  = tracker.track(img)\n",
    "            state = [int(s) for s in out['target_bbox']]   \n",
    "                            \n",
    "            # Рисуем bounding box        \n",
    "            x, y, w, h = [int(x) for x in state]\n",
    "\n",
    "            cv2.rectangle(img, (x, y), (x + w, y + h), (0, 0, 200), 2)\n",
    "            \n",
    "            x1, y1, w1, h1 = map(int, bbox)\n",
    "            cv2.rectangle(img, (x1, y1), (x1+w1, y1+h1), (0, 200, 0), 2)\n",
    "            bbox_pred = x, y, w, h\n",
    "            \n",
    "            gt_bboxes.append(bbox)\n",
    "            pred_bboxes.append(bbox_pred)\n",
    "   \n",
    "            counter+=1\n",
    "\n",
    "            # Выход по нажатию 'q' или ESC\n",
    "            key = cv2.waitKey(1) & 0xFF\n",
    "            if key == ord('q') or key == 27:\n",
    "                break\n",
    "        \n",
    "            \n",
    "                    \n",
    "    end_time = time.time()    # Конец замера    \n",
    "    total_frames = counter       # Общее количество обработанных кадров\n",
    "    total_time = end_time - start_time\n",
    "    fps = round(total_frames / total_time)\n",
    "    ious = [iou(gt, pred) for gt, pred in zip(gt_bboxes, pred_bboxes)]\n",
    "    ao = np.mean(ious)\n",
    "    sr = np.mean([1 if val >= sr_thresh else 0 for val in ious])\n",
    "    precisions = [precision(gt, pred) for gt, pred in zip(gt_bboxes, pred_bboxes)]\n",
    "    prec = np.mean([1 if d <= prec_thresh else 0 for d in precisions])\n",
    "       \n",
    "    if metrics.empty:\n",
    "        metrics = pd.DataFrame(dict(zip(metrics.columns,\n",
    "        [folder, fps, sr, ao, prec])), index=[0])\n",
    "    else:\n",
    "        metrics = metrics._append(pd.Series(dict(zip(metrics.columns,\n",
    "        [folder, fps, sr, ao, prec]))), ignore_index=True)\n",
    "    print(f\"folder={folder}, fps={fps}, sr={sr}, ao={ao}, prec={prec}\")\n",
    "    # if counter_test == 3:\n",
    "    #     print(f\"{'*' * 20} Прервано на 3! {'*' * 20}\")\n",
    "    #     break\n",
    "\n",
    "metrics = metrics._append(pd.Series(dict(zip(metrics.columns,\n",
    "        [\"Average\", metrics['FPS'].mean(), metrics['Success Rate (SR@0.5)'].mean(), metrics['Average Overlap (AO)'].mean(), metrics['Precision @20px'].mean()]))), ignore_index=True)\n",
    "metrics.to_csv('metrics_trt.csv', index=False)\n",
    "metrics   "
   ]
  }
 ],
 "metadata": {
  "kernelspec": {
   "display_name": "p310",
   "language": "python",
   "name": "python3"
  },
  "language_info": {
   "codemirror_mode": {
    "name": "ipython",
    "version": 3
   },
   "file_extension": ".py",
   "mimetype": "text/x-python",
   "name": "python",
   "nbconvert_exporter": "python",
   "pygments_lexer": "ipython3",
   "version": "3.10.18"
  }
 },
 "nbformat": 4,
 "nbformat_minor": 2
}
